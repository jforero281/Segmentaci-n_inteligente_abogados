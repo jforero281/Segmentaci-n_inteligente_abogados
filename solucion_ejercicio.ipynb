{
 "cells": [
  {
   "cell_type": "markdown",
   "id": "d6713c95",
   "metadata": {},
   "source": [
    "Instalamos las librerias a utiliza"
   ]
  },
  {
   "cell_type": "code",
   "execution_count": 11799,
   "id": "47990ada",
   "metadata": {},
   "outputs": [],
   "source": [
    "import pandas as pd\n",
    "import numpy as np\n",
    "import matplotlib.pyplot as plt\n",
    "import seaborn as sns\n",
    "import os\n",
    "import sys\n",
    "import argparse\n",
    "import openpyxl\n"
   ]
  },
  {
   "cell_type": "markdown",
   "id": "c0a76220",
   "metadata": {},
   "source": [
    "Agregamos la base de datos con la cual vamos a trabajar en el proyecto"
   ]
  },
  {
   "cell_type": "code",
   "execution_count": 11800,
   "id": "9be2b00e",
   "metadata": {},
   "outputs": [
    {
     "data": {
      "text/html": [
       "<div>\n",
       "<style scoped>\n",
       "    .dataframe tbody tr th:only-of-type {\n",
       "        vertical-align: middle;\n",
       "    }\n",
       "\n",
       "    .dataframe tbody tr th {\n",
       "        vertical-align: top;\n",
       "    }\n",
       "\n",
       "    .dataframe thead th {\n",
       "        text-align: right;\n",
       "    }\n",
       "</style>\n",
       "<table border=\"1\" class=\"dataframe\">\n",
       "  <thead>\n",
       "    <tr style=\"text-align: right;\">\n",
       "      <th></th>\n",
       "      <th>TIPO DE PROCESO</th>\n",
       "      <th>CIUDAD</th>\n",
       "      <th>JGO.</th>\n",
       "      <th>REGION</th>\n",
       "      <th>PRESENTACIÓN DEMANDA</th>\n",
       "      <th>AÑO DEMANDA</th>\n",
       "      <th>RADICADO</th>\n",
       "      <th>RADICADO CONSULTA</th>\n",
       "      <th>RED</th>\n",
       "      <th>TIPO RELACIÓN</th>\n",
       "      <th>...</th>\n",
       "      <th>EMPRESA APODERADO BANCO</th>\n",
       "      <th>% PROVISIÓN Años anteriores</th>\n",
       "      <th>% PROVISIÓN\\n2015</th>\n",
       "      <th>TOTAL % PROVISIÓN</th>\n",
       "      <th>HONORARIOS</th>\n",
       "      <th>APODERADO ACTOR</th>\n",
       "      <th>OBSERVACIONES</th>\n",
       "      <th>FOGAFIN</th>\n",
       "      <th>INSTANCIA</th>\n",
       "      <th>CAUSA</th>\n",
       "    </tr>\n",
       "  </thead>\n",
       "  <tbody>\n",
       "    <tr>\n",
       "      <th>0</th>\n",
       "      <td>Ordinario</td>\n",
       "      <td>VALLEDUPAR</td>\n",
       "      <td>3</td>\n",
       "      <td>Caribe</td>\n",
       "      <td>1995-03-01</td>\n",
       "      <td>1995.0</td>\n",
       "      <td>11192</td>\n",
       "      <td>NaN</td>\n",
       "      <td>Colombia</td>\n",
       "      <td>Abogado proceso civil</td>\n",
       "      <td>...</td>\n",
       "      <td>NaN</td>\n",
       "      <td>0.0</td>\n",
       "      <td>NaN</td>\n",
       "      <td>0.0</td>\n",
       "      <td>NaN</td>\n",
       "      <td>NaN</td>\n",
       "      <td>En septiembre de 2006 se envió para el archivo...</td>\n",
       "      <td>NaN</td>\n",
       "      <td>NaN</td>\n",
       "      <td>NaN</td>\n",
       "    </tr>\n",
       "    <tr>\n",
       "      <th>1</th>\n",
       "      <td>Ordinario</td>\n",
       "      <td>Bogota</td>\n",
       "      <td>15</td>\n",
       "      <td>Bogotá</td>\n",
       "      <td>1997-02-19</td>\n",
       "      <td>1997.0</td>\n",
       "      <td>8886</td>\n",
       "      <td>NaN</td>\n",
       "      <td>Colombia</td>\n",
       "      <td>Extrabajador</td>\n",
       "      <td>...</td>\n",
       "      <td>NaN</td>\n",
       "      <td>0.0</td>\n",
       "      <td>NaN</td>\n",
       "      <td>0.0</td>\n",
       "      <td>NaN</td>\n",
       "      <td>NaN</td>\n",
       "      <td>NaN</td>\n",
       "      <td>NaN</td>\n",
       "      <td>NaN</td>\n",
       "      <td>NaN</td>\n",
       "    </tr>\n",
       "    <tr>\n",
       "      <th>2</th>\n",
       "      <td>Ordinario</td>\n",
       "      <td>Bogota</td>\n",
       "      <td>15</td>\n",
       "      <td>Bogotá</td>\n",
       "      <td>1996-01-16</td>\n",
       "      <td>1996.0</td>\n",
       "      <td>8440</td>\n",
       "      <td>NaN</td>\n",
       "      <td>Colombia</td>\n",
       "      <td>Extrabajador</td>\n",
       "      <td>...</td>\n",
       "      <td>NaN</td>\n",
       "      <td>0.0</td>\n",
       "      <td>NaN</td>\n",
       "      <td>0.0</td>\n",
       "      <td>NaN</td>\n",
       "      <td>Jairo Villegas Arbeláez</td>\n",
       "      <td>NaN</td>\n",
       "      <td>NaN</td>\n",
       "      <td>NaN</td>\n",
       "      <td>NaN</td>\n",
       "    </tr>\n",
       "    <tr>\n",
       "      <th>3</th>\n",
       "      <td>Ordinario</td>\n",
       "      <td>Bogota</td>\n",
       "      <td>9</td>\n",
       "      <td>Bogotá</td>\n",
       "      <td>1995-07-31</td>\n",
       "      <td>1995.0</td>\n",
       "      <td>22902</td>\n",
       "      <td>NaN</td>\n",
       "      <td>Colombia</td>\n",
       "      <td>Extrabajador</td>\n",
       "      <td>...</td>\n",
       "      <td>NaN</td>\n",
       "      <td>0.0</td>\n",
       "      <td>NaN</td>\n",
       "      <td>0.0</td>\n",
       "      <td>NaN</td>\n",
       "      <td>Jairo Villegas Arbeláez</td>\n",
       "      <td>NaN</td>\n",
       "      <td>NaN</td>\n",
       "      <td>NaN</td>\n",
       "      <td>NaN</td>\n",
       "    </tr>\n",
       "    <tr>\n",
       "      <th>4</th>\n",
       "      <td>Ordinario</td>\n",
       "      <td>Bogota</td>\n",
       "      <td>4</td>\n",
       "      <td>Bogotá</td>\n",
       "      <td>1993-11-11</td>\n",
       "      <td>1993.0</td>\n",
       "      <td>33835</td>\n",
       "      <td>NaN</td>\n",
       "      <td>Colombia</td>\n",
       "      <td>Jubilado</td>\n",
       "      <td>...</td>\n",
       "      <td>NaN</td>\n",
       "      <td>0.0</td>\n",
       "      <td>NaN</td>\n",
       "      <td>0.0</td>\n",
       "      <td>NaN</td>\n",
       "      <td>NaN</td>\n",
       "      <td>NaN</td>\n",
       "      <td>NaN</td>\n",
       "      <td>NaN</td>\n",
       "      <td>NaN</td>\n",
       "    </tr>\n",
       "  </tbody>\n",
       "</table>\n",
       "<p>5 rows × 38 columns</p>\n",
       "</div>"
      ],
      "text/plain": [
       "  TIPO DE PROCESO      CIUDAD JGO.  REGION PRESENTACIÓN DEMANDA  AÑO DEMANDA  \\\n",
       "0       Ordinario  VALLEDUPAR    3  Caribe           1995-03-01       1995.0   \n",
       "1       Ordinario      Bogota   15  Bogotá           1997-02-19       1997.0   \n",
       "2       Ordinario      Bogota   15  Bogotá           1996-01-16       1996.0   \n",
       "3       Ordinario      Bogota    9  Bogotá           1995-07-31       1995.0   \n",
       "4       Ordinario      Bogota    4  Bogotá           1993-11-11       1993.0   \n",
       "\n",
       "  RADICADO RADICADO CONSULTA       RED          TIPO RELACIÓN  ...  \\\n",
       "0    11192               NaN  Colombia  Abogado proceso civil  ...   \n",
       "1     8886               NaN  Colombia           Extrabajador  ...   \n",
       "2     8440               NaN  Colombia           Extrabajador  ...   \n",
       "3    22902               NaN  Colombia           Extrabajador  ...   \n",
       "4    33835               NaN  Colombia               Jubilado  ...   \n",
       "\n",
       "  EMPRESA APODERADO BANCO % PROVISIÓN Años anteriores % PROVISIÓN\\n2015  \\\n",
       "0                     NaN                         0.0               NaN   \n",
       "1                     NaN                         0.0               NaN   \n",
       "2                     NaN                         0.0               NaN   \n",
       "3                     NaN                         0.0               NaN   \n",
       "4                     NaN                         0.0               NaN   \n",
       "\n",
       "  TOTAL % PROVISIÓN HONORARIOS          APODERADO ACTOR  \\\n",
       "0               0.0        NaN                      NaN   \n",
       "1               0.0        NaN                      NaN   \n",
       "2               0.0        NaN  Jairo Villegas Arbeláez   \n",
       "3               0.0        NaN  Jairo Villegas Arbeláez   \n",
       "4               0.0        NaN                      NaN   \n",
       "\n",
       "                                       OBSERVACIONES FOGAFIN INSTANCIA CAUSA  \n",
       "0  En septiembre de 2006 se envió para el archivo...     NaN       NaN   NaN  \n",
       "1                                                NaN     NaN       NaN   NaN  \n",
       "2                                                NaN     NaN       NaN   NaN  \n",
       "3                                                NaN     NaN       NaN   NaN  \n",
       "4                                                NaN     NaN       NaN   NaN  \n",
       "\n",
       "[5 rows x 38 columns]"
      ]
     },
     "execution_count": 11800,
     "metadata": {},
     "output_type": "execute_result"
    }
   ],
   "source": [
    "#cargamos la base de excel\n",
    "df = pd.read_excel('C:/Users/jdfr1/Segmentaci-n_inteligente_abogados/Base_Datos.xlsx')\n",
    "df.head()"
   ]
  },
  {
   "cell_type": "code",
   "execution_count": 11801,
   "id": "cfda32af",
   "metadata": {},
   "outputs": [
    {
     "data": {
      "text/plain": [
       "(1694, 38)"
      ]
     },
     "execution_count": 11801,
     "metadata": {},
     "output_type": "execute_result"
    }
   ],
   "source": [
    "#tamaño de la base\n",
    "df.shape"
   ]
  },
  {
   "cell_type": "code",
   "execution_count": 11802,
   "id": "2fd44db9",
   "metadata": {},
   "outputs": [
    {
     "name": "stdout",
     "output_type": "stream",
     "text": [
      "<class 'pandas.core.frame.DataFrame'>\n",
      "RangeIndex: 1694 entries, 0 to 1693\n",
      "Data columns (total 38 columns):\n",
      " #   Column                                               Non-Null Count  Dtype         \n",
      "---  ------                                               --------------  -----         \n",
      " 0   TIPO DE PROCESO                                      1693 non-null   object        \n",
      " 1   CIUDAD                                               1663 non-null   object        \n",
      " 2   JGO.                                                 1637 non-null   object        \n",
      " 3   REGION                                               1663 non-null   object        \n",
      " 4   PRESENTACIÓN DEMANDA                                 1633 non-null   datetime64[ns]\n",
      " 5   AÑO DEMANDA                                          1642 non-null   float64       \n",
      " 6   RADICADO                                             1436 non-null   object        \n",
      " 7   RADICADO CONSULTA                                    958 non-null    object        \n",
      " 8   RED                                                  1660 non-null   object        \n",
      " 9   TIPO RELACIÓN                                        1581 non-null   object        \n",
      " 10  PRETENSIÓN                                           1658 non-null   object        \n",
      " 11  MOTIVOS                                              1248 non-null   object        \n",
      " 12  CLASE (posibilidad de pérdida)                       1247 non-null   object        \n",
      " 13  MOTIVOS2                                             235 non-null    object        \n",
      " 14  DESCRPICIÓN HECHOS                                   1432 non-null   object        \n",
      " 15  ESTADO ACTUAL                                        1694 non-null   object        \n",
      " 16  PRIMERA INSTANCIA                                    1483 non-null   object        \n",
      " 17  Fecha Fallo 1a. instancia                            948 non-null    object        \n",
      " 18  SEGUNDA INSTANCIA                                    1323 non-null   object        \n",
      " 19  Fecha Fallo 2a. instancia                            868 non-null    object        \n",
      " 20  CASACIÓN                                             259 non-null    object        \n",
      " 21  Fecha Casación                                       172 non-null    object        \n",
      " 22  VALOR PRETENSIONES (EN $)                            1106 non-null   object        \n",
      " 23  MONTO DE LA PROVISION (EN MILLONES) Años anteriores  882 non-null    object        \n",
      " 24  MONTO DE LA PROVISION (EN MILLONES) 2017             1467 non-null   float64       \n",
      " 25  MONTO TOTAL DE LA PROVISIÓN                          937 non-null    object        \n",
      " 26  FECHA ESTIMADA DE PAGO                               203 non-null    object        \n",
      " 27  APODERADO BANCO                                      1619 non-null   object        \n",
      " 28  EMPRESA APODERADO BANCO                              0 non-null      float64       \n",
      " 29  % PROVISIÓN Años anteriores                          1558 non-null   float64       \n",
      " 30  % PROVISIÓN\n",
      "2015                                     511 non-null    float64       \n",
      " 31  TOTAL % PROVISIÓN                                    1688 non-null   float64       \n",
      " 32  HONORARIOS                                           1172 non-null   object        \n",
      " 33  APODERADO ACTOR                                      879 non-null    object        \n",
      " 34  OBSERVACIONES                                        482 non-null    object        \n",
      " 35  FOGAFIN                                              931 non-null    object        \n",
      " 36  INSTANCIA                                            1092 non-null   object        \n",
      " 37  CAUSA                                                1093 non-null   object        \n",
      "dtypes: datetime64[ns](1), float64(6), object(31)\n",
      "memory usage: 503.0+ KB\n"
     ]
    }
   ],
   "source": [
    "#conocemos la estructura de la base\n",
    "df.info()"
   ]
  },
  {
   "cell_type": "markdown",
   "id": "ff0a9600",
   "metadata": {},
   "source": [
    "Es interesante evidenciar como tenemos diferentes tipos de datos que pueden ser valiosos para el modelo de clasificación, donde, tenemos datos de fecha para revisar tendencias, tenemos datos enteros, y también tenemos tipo objetc; Además se evidencia un gran reto porque en algunos de los campos se evidencia un volumen alto de nulos."
   ]
  },
  {
   "cell_type": "code",
   "execution_count": 11803,
   "id": "a58528eb",
   "metadata": {},
   "outputs": [
    {
     "data": {
      "text/plain": [
       "(1694, 38)"
      ]
     },
     "execution_count": 11803,
     "metadata": {},
     "output_type": "execute_result"
    }
   ],
   "source": [
    "#tamaño de la base y los campos\n",
    "df.shape"
   ]
  },
  {
   "cell_type": "markdown",
   "id": "6d3d9593",
   "metadata": {},
   "source": [
    "Haciendo un analisis completo de cada uno de los campos, entendiendo con el experto del negocio, vamos a hacer depuración de algunos de estos"
   ]
  },
  {
   "cell_type": "code",
   "execution_count": 11804,
   "id": "d90398e6",
   "metadata": {},
   "outputs": [],
   "source": [
    "#Eliminar algunos campos del dataset que no aportan valor al modelo\n",
    "df = df.drop(columns=['JGO.', 'RADICADO', 'RADICADO CONSULTA', 'MOTIVOS', 'PRIMERA INSTANCIA', 'Fecha Fallo 1a. instancia', 'SEGUNDA INSTANCIA', 'Fecha Fallo 2a. instancia', 'CASACIÓN', 'Fecha Casación', 'MONTO DE LA PROVISION (EN MILLONES) Años anteriores', 'MONTO DE LA PROVISION (EN MILLONES) 2017', 'MONTO TOTAL DE LA PROVISIÓN','FECHA ESTIMADA DE PAGO','EMPRESA APODERADO BANCO','% PROVISIÓN Años anteriores','% PROVISIÓN\\n2015','TOTAL % PROVISIÓN','HONORARIOS','APODERADO ACTOR','OBSERVACIONES','FOGAFIN','INSTANCIA','DESCRPICIÓN HECHOS'])"
   ]
  },
  {
   "cell_type": "code",
   "execution_count": 11805,
   "id": "949816b0",
   "metadata": {},
   "outputs": [
    {
     "data": {
      "text/plain": [
       "(1694, 14)"
      ]
     },
     "execution_count": 11805,
     "metadata": {},
     "output_type": "execute_result"
    }
   ],
   "source": [
    "#Validación de cuantos campos quedan en el dataset final\n",
    "df.shape"
   ]
  },
  {
   "cell_type": "markdown",
   "id": "2a199e0c",
   "metadata": {},
   "source": [
    "Es importante resaltar que pasamos de 38 a 15 campos, la justificación de la depuración de los campos es: son campos que no generan valor al modelo porque son codigos de ubicación del juzgado, son provisiones internas que hace la organización (pero el pago real es el final), campos que más de la mitad de sus registros están nulos."
   ]
  },
  {
   "cell_type": "code",
   "execution_count": 11806,
   "id": "fe4c02f3",
   "metadata": {},
   "outputs": [
    {
     "name": "stderr",
     "output_type": "stream",
     "text": [
      "C:\\Users\\jdfr1\\AppData\\Local\\Temp\\ipykernel_53868\\252704829.py:3: FutureWarning: \n",
      "\n",
      "Passing `palette` without assigning `hue` is deprecated and will be removed in v0.14.0. Assign the `x` variable to `hue` and set `legend=False` for the same effect.\n",
      "\n",
      "  sns.countplot(data=df, x='AÑO DEMANDA', palette='viridis')\n"
     ]
    },
    {
     "data": {
      "image/png": "[encoded data removed]",
      "text/plain": [
       "<Figure size 1000x600 with 1 Axes>"
      ]
     },
     "metadata": {},
     "output_type": "display_data"
    }
   ],
   "source": [
    "#grafico con el campo años\n",
    "plt.figure(figsize=(10,6))\n",
    "sns.countplot(data=df, x='AÑO DEMANDA', palette='viridis')\n",
    "plt.title('Distribución de casos por año')\n",
    "plt.xticks(rotation=45)\n",
    "plt.show()"
   ]
  },
  {
   "cell_type": "code",
   "execution_count": 11807,
   "id": "716e7cb5",
   "metadata": {},
   "outputs": [
    {
     "data": {
      "text/html": [
       "<div>\n",
       "<style scoped>\n",
       "    .dataframe tbody tr th:only-of-type {\n",
       "        vertical-align: middle;\n",
       "    }\n",
       "\n",
       "    .dataframe tbody tr th {\n",
       "        vertical-align: top;\n",
       "    }\n",
       "\n",
       "    .dataframe thead th {\n",
       "        text-align: right;\n",
       "    }\n",
       "</style>\n",
       "<table border=\"1\" class=\"dataframe\">\n",
       "  <thead>\n",
       "    <tr style=\"text-align: right;\">\n",
       "      <th></th>\n",
       "      <th>count</th>\n",
       "      <th>unique</th>\n",
       "      <th>top</th>\n",
       "      <th>freq</th>\n",
       "      <th>mean</th>\n",
       "      <th>min</th>\n",
       "      <th>25%</th>\n",
       "      <th>50%</th>\n",
       "      <th>75%</th>\n",
       "      <th>max</th>\n",
       "      <th>std</th>\n",
       "    </tr>\n",
       "  </thead>\n",
       "  <tbody>\n",
       "    <tr>\n",
       "      <th>TIPO DE PROCESO</th>\n",
       "      <td>1693</td>\n",
       "      <td>19</td>\n",
       "      <td>Ordinario</td>\n",
       "      <td>1466</td>\n",
       "      <td>NaN</td>\n",
       "      <td>NaN</td>\n",
       "      <td>NaN</td>\n",
       "      <td>NaN</td>\n",
       "      <td>NaN</td>\n",
       "      <td>NaN</td>\n",
       "      <td>NaN</td>\n",
       "    </tr>\n",
       "    <tr>\n",
       "      <th>CIUDAD</th>\n",
       "      <td>1663</td>\n",
       "      <td>105</td>\n",
       "      <td>Bogota</td>\n",
       "      <td>577</td>\n",
       "      <td>NaN</td>\n",
       "      <td>NaN</td>\n",
       "      <td>NaN</td>\n",
       "      <td>NaN</td>\n",
       "      <td>NaN</td>\n",
       "      <td>NaN</td>\n",
       "      <td>NaN</td>\n",
       "    </tr>\n",
       "    <tr>\n",
       "      <th>REGION</th>\n",
       "      <td>1663</td>\n",
       "      <td>5</td>\n",
       "      <td>Bogotá</td>\n",
       "      <td>582</td>\n",
       "      <td>NaN</td>\n",
       "      <td>NaN</td>\n",
       "      <td>NaN</td>\n",
       "      <td>NaN</td>\n",
       "      <td>NaN</td>\n",
       "      <td>NaN</td>\n",
       "      <td>NaN</td>\n",
       "    </tr>\n",
       "    <tr>\n",
       "      <th>PRESENTACIÓN DEMANDA</th>\n",
       "      <td>1633</td>\n",
       "      <td>NaN</td>\n",
       "      <td>NaN</td>\n",
       "      <td>NaN</td>\n",
       "      <td>2006-07-22 04:59:48.977342208</td>\n",
       "      <td>1905-06-23 00:00:00</td>\n",
       "      <td>2000-05-29 00:00:00</td>\n",
       "      <td>2006-03-01 00:00:00</td>\n",
       "      <td>2013-09-30 00:00:00</td>\n",
       "      <td>2023-10-10 00:00:00</td>\n",
       "      <td>NaN</td>\n",
       "    </tr>\n",
       "    <tr>\n",
       "      <th>AÑO DEMANDA</th>\n",
       "      <td>1642.0</td>\n",
       "      <td>NaN</td>\n",
       "      <td>NaN</td>\n",
       "      <td>NaN</td>\n",
       "      <td>2006.161998</td>\n",
       "      <td>1905.0</td>\n",
       "      <td>2000.0</td>\n",
       "      <td>2006.0</td>\n",
       "      <td>2013.0</td>\n",
       "      <td>2023.0</td>\n",
       "      <td>10.122314</td>\n",
       "    </tr>\n",
       "    <tr>\n",
       "      <th>RED</th>\n",
       "      <td>1660</td>\n",
       "      <td>15</td>\n",
       "      <td>Banco de Colombia</td>\n",
       "      <td>528</td>\n",
       "      <td>NaN</td>\n",
       "      <td>NaN</td>\n",
       "      <td>NaN</td>\n",
       "      <td>NaN</td>\n",
       "      <td>NaN</td>\n",
       "      <td>NaN</td>\n",
       "      <td>NaN</td>\n",
       "    </tr>\n",
       "    <tr>\n",
       "      <th>TIPO RELACIÓN</th>\n",
       "      <td>1581</td>\n",
       "      <td>16</td>\n",
       "      <td>Extrabajador</td>\n",
       "      <td>1134</td>\n",
       "      <td>NaN</td>\n",
       "      <td>NaN</td>\n",
       "      <td>NaN</td>\n",
       "      <td>NaN</td>\n",
       "      <td>NaN</td>\n",
       "      <td>NaN</td>\n",
       "      <td>NaN</td>\n",
       "    </tr>\n",
       "    <tr>\n",
       "      <th>PRETENSIÓN</th>\n",
       "      <td>1658</td>\n",
       "      <td>257</td>\n",
       "      <td>INDEMNIZACION DSJC</td>\n",
       "      <td>217</td>\n",
       "      <td>NaN</td>\n",
       "      <td>NaN</td>\n",
       "      <td>NaN</td>\n",
       "      <td>NaN</td>\n",
       "      <td>NaN</td>\n",
       "      <td>NaN</td>\n",
       "      <td>NaN</td>\n",
       "    </tr>\n",
       "    <tr>\n",
       "      <th>CLASE (posibilidad de pérdida)</th>\n",
       "      <td>1247</td>\n",
       "      <td>5</td>\n",
       "      <td>Problable</td>\n",
       "      <td>848</td>\n",
       "      <td>NaN</td>\n",
       "      <td>NaN</td>\n",
       "      <td>NaN</td>\n",
       "      <td>NaN</td>\n",
       "      <td>NaN</td>\n",
       "      <td>NaN</td>\n",
       "      <td>NaN</td>\n",
       "    </tr>\n",
       "    <tr>\n",
       "      <th>MOTIVOS2</th>\n",
       "      <td>235</td>\n",
       "      <td>16</td>\n",
       "      <td>Con Justa Causa</td>\n",
       "      <td>67</td>\n",
       "      <td>NaN</td>\n",
       "      <td>NaN</td>\n",
       "      <td>NaN</td>\n",
       "      <td>NaN</td>\n",
       "      <td>NaN</td>\n",
       "      <td>NaN</td>\n",
       "      <td>NaN</td>\n",
       "    </tr>\n",
       "    <tr>\n",
       "      <th>ESTADO ACTUAL</th>\n",
       "      <td>1694</td>\n",
       "      <td>1125</td>\n",
       "      <td>Favorable 1999</td>\n",
       "      <td>77</td>\n",
       "      <td>NaN</td>\n",
       "      <td>NaN</td>\n",
       "      <td>NaN</td>\n",
       "      <td>NaN</td>\n",
       "      <td>NaN</td>\n",
       "      <td>NaN</td>\n",
       "      <td>NaN</td>\n",
       "    </tr>\n",
       "    <tr>\n",
       "      <th>VALOR PRETENSIONES (EN $)</th>\n",
       "      <td>1106.0</td>\n",
       "      <td>407.0</td>\n",
       "      <td>80.0</td>\n",
       "      <td>69.0</td>\n",
       "      <td>NaN</td>\n",
       "      <td>NaN</td>\n",
       "      <td>NaN</td>\n",
       "      <td>NaN</td>\n",
       "      <td>NaN</td>\n",
       "      <td>NaN</td>\n",
       "      <td>NaN</td>\n",
       "    </tr>\n",
       "    <tr>\n",
       "      <th>APODERADO BANCO</th>\n",
       "      <td>1619</td>\n",
       "      <td>127</td>\n",
       "      <td>José Roberto Herrera Vergara</td>\n",
       "      <td>212</td>\n",
       "      <td>NaN</td>\n",
       "      <td>NaN</td>\n",
       "      <td>NaN</td>\n",
       "      <td>NaN</td>\n",
       "      <td>NaN</td>\n",
       "      <td>NaN</td>\n",
       "      <td>NaN</td>\n",
       "    </tr>\n",
       "    <tr>\n",
       "      <th>CAUSA</th>\n",
       "      <td>1093</td>\n",
       "      <td>2</td>\n",
       "      <td>Persona</td>\n",
       "      <td>999</td>\n",
       "      <td>NaN</td>\n",
       "      <td>NaN</td>\n",
       "      <td>NaN</td>\n",
       "      <td>NaN</td>\n",
       "      <td>NaN</td>\n",
       "      <td>NaN</td>\n",
       "      <td>NaN</td>\n",
       "    </tr>\n",
       "  </tbody>\n",
       "</table>\n",
       "</div>"
      ],
      "text/plain": [
       "                                 count unique                           top  \\\n",
       "TIPO DE PROCESO                   1693     19                     Ordinario   \n",
       "CIUDAD                            1663    105                        Bogota   \n",
       "REGION                            1663      5                        Bogotá   \n",
       "PRESENTACIÓN DEMANDA              1633    NaN                           NaN   \n",
       "AÑO DEMANDA                     1642.0    NaN                           NaN   \n",
       "RED                               1660     15             Banco de Colombia   \n",
       "TIPO RELACIÓN                     1581     16                  Extrabajador   \n",
       "PRETENSIÓN                        1658    257            INDEMNIZACION DSJC   \n",
       "CLASE (posibilidad de pérdida)    1247      5                     Problable   \n",
       "MOTIVOS2                           235     16               Con Justa Causa   \n",
       "ESTADO ACTUAL                     1694   1125                Favorable 1999   \n",
       "VALOR PRETENSIONES (EN $)       1106.0  407.0                          80.0   \n",
       "APODERADO BANCO                   1619    127  José Roberto Herrera Vergara   \n",
       "CAUSA                             1093      2                       Persona   \n",
       "\n",
       "                                freq                           mean  \\\n",
       "TIPO DE PROCESO                 1466                            NaN   \n",
       "CIUDAD                           577                            NaN   \n",
       "REGION                           582                            NaN   \n",
       "PRESENTACIÓN DEMANDA             NaN  2006-07-22 04:59:48.977342208   \n",
       "AÑO DEMANDA                      NaN                    2006.161998   \n",
       "RED                              528                            NaN   \n",
       "TIPO RELACIÓN                   1134                            NaN   \n",
       "PRETENSIÓN                       217                            NaN   \n",
       "CLASE (posibilidad de pérdida)   848                            NaN   \n",
       "MOTIVOS2                          67                            NaN   \n",
       "ESTADO ACTUAL                     77                            NaN   \n",
       "VALOR PRETENSIONES (EN $)       69.0                            NaN   \n",
       "APODERADO BANCO                  212                            NaN   \n",
       "CAUSA                            999                            NaN   \n",
       "\n",
       "                                                min                  25%  \\\n",
       "TIPO DE PROCESO                                 NaN                  NaN   \n",
       "CIUDAD                                          NaN                  NaN   \n",
       "REGION                                          NaN                  NaN   \n",
       "PRESENTACIÓN DEMANDA            1905-06-23 00:00:00  2000-05-29 00:00:00   \n",
       "AÑO DEMANDA                                  1905.0               2000.0   \n",
       "RED                                             NaN                  NaN   \n",
       "TIPO RELACIÓN                                   NaN                  NaN   \n",
       "PRETENSIÓN                                      NaN                  NaN   \n",
       "CLASE (posibilidad de pérdida)                  NaN                  NaN   \n",
       "MOTIVOS2                                        NaN                  NaN   \n",
       "ESTADO ACTUAL                                   NaN                  NaN   \n",
       "VALOR PRETENSIONES (EN $)                       NaN                  NaN   \n",
       "APODERADO BANCO                                 NaN                  NaN   \n",
       "CAUSA                                           NaN                  NaN   \n",
       "\n",
       "                                                50%                  75%  \\\n",
       "TIPO DE PROCESO                                 NaN                  NaN   \n",
       "CIUDAD                                          NaN                  NaN   \n",
       "REGION                                          NaN                  NaN   \n",
       "PRESENTACIÓN DEMANDA            2006-03-01 00:00:00  2013-09-30 00:00:00   \n",
       "AÑO DEMANDA                                  2006.0               2013.0   \n",
       "RED                                             NaN                  NaN   \n",
       "TIPO RELACIÓN                                   NaN                  NaN   \n",
       "PRETENSIÓN                                      NaN                  NaN   \n",
       "CLASE (posibilidad de pérdida)                  NaN                  NaN   \n",
       "MOTIVOS2                                        NaN                  NaN   \n",
       "ESTADO ACTUAL                                   NaN                  NaN   \n",
       "VALOR PRETENSIONES (EN $)                       NaN                  NaN   \n",
       "APODERADO BANCO                                 NaN                  NaN   \n",
       "CAUSA                                           NaN                  NaN   \n",
       "\n",
       "                                                max        std  \n",
       "TIPO DE PROCESO                                 NaN        NaN  \n",
       "CIUDAD                                          NaN        NaN  \n",
       "REGION                                          NaN        NaN  \n",
       "PRESENTACIÓN DEMANDA            2023-10-10 00:00:00        NaN  \n",
       "AÑO DEMANDA                                  2023.0  10.122314  \n",
       "RED                                             NaN        NaN  \n",
       "TIPO RELACIÓN                                   NaN        NaN  \n",
       "PRETENSIÓN                                      NaN        NaN  \n",
       "CLASE (posibilidad de pérdida)                  NaN        NaN  \n",
       "MOTIVOS2                                        NaN        NaN  \n",
       "ESTADO ACTUAL                                   NaN        NaN  \n",
       "VALOR PRETENSIONES (EN $)                       NaN        NaN  \n",
       "APODERADO BANCO                                 NaN        NaN  \n",
       "CAUSA                                           NaN        NaN  "
      ]
     },
     "execution_count": 11807,
     "metadata": {},
     "output_type": "execute_result"
    }
   ],
   "source": [
    "#conozcamos las estadisticas descriptivas de todos los campos\n",
    "df.describe(include='all').T"
   ]
  },
  {
   "cell_type": "markdown",
   "id": "5f5a1130",
   "metadata": {},
   "source": [
    "Se evidencia un gran reto con los campos por los siguientes motivos:\n",
    "1. Mucha presencia de datos  nulos\n",
    "2. Campos categoricos tienen muchos niveles\n",
    "3. Campos numericos tienen valores negativos\n",
    "4. La base tiene muchos años de historia, revisando el campo años, se tienen datos desde 1905, entendiendo el contexto, tomaremos datos desde año 2000."
   ]
  },
  {
   "cell_type": "code",
   "execution_count": 11808,
   "id": "38d08b1e",
   "metadata": {},
   "outputs": [
    {
     "data": {
      "text/plain": [
       "(1260, 14)"
      ]
     },
     "execution_count": 11808,
     "metadata": {},
     "output_type": "execute_result"
    }
   ],
   "source": [
    "#Atendiendo los puntos anteriores, se eliminan los años anteriores a 2000, por campo AÑO DEMANDA Y PRESENTACIÓN DEMANDA\n",
    "df = df[df['AÑO DEMANDA'] >= 2000]\n",
    "df = df[df['PRESENTACIÓN DEMANDA'].dt.year >= 2000]\n",
    "df.shape"
   ]
  },
  {
   "cell_type": "code",
   "execution_count": 11809,
   "id": "9931721e",
   "metadata": {},
   "outputs": [
    {
     "data": {
      "image/png": "[encoded data removed]",
      "text/plain": [
       "<Figure size 1000x600 with 1 Axes>"
      ]
     },
     "metadata": {},
     "output_type": "display_data"
    }
   ],
   "source": [
    "#analicemos los campos nulos graficamente\n",
    "plt.figure(figsize=(10,6))\n",
    "sns.heatmap(df.isnull(), cbar=False, cmap='viridis')\n",
    "plt.title('Mapa de calor de valores nulos')\n",
    "plt.show()\n"
   ]
  },
  {
   "cell_type": "markdown",
   "id": "155d70dc",
   "metadata": {},
   "source": [
    "De acuerdo al gráfico anterior, se puede afirmar que los campos: Motivos2, valor pretenciones en pesos y causa tienen muchos nulos (alredor del 40%) y si tratamos de imputar con algún método pordríamos estar generando ruido en la variable y por ende en el modelo."
   ]
  },
  {
   "cell_type": "code",
   "execution_count": 11810,
   "id": "b8740f44",
   "metadata": {},
   "outputs": [
    {
     "data": {
      "text/plain": [
       "(1260, 11)"
      ]
     },
     "execution_count": 11810,
     "metadata": {},
     "output_type": "execute_result"
    }
   ],
   "source": [
    "#eliminamos entonces los campos MOTIVOS2, VALOR PRETENCIONES EN PESOS y CAUSA\n",
    "df = df.drop(columns=['MOTIVOS2', 'VALOR PRETENSIONES (EN $)', 'CAUSA'])\n",
    "df.shape\n"
   ]
  },
  {
   "cell_type": "code",
   "execution_count": 11811,
   "id": "75b445d2",
   "metadata": {},
   "outputs": [
    {
     "data": {
      "image/png": "[encoded data removed]",
      "text/plain": [
       "<Figure size 1000x600 with 1 Axes>"
      ]
     },
     "metadata": {},
     "output_type": "display_data"
    }
   ],
   "source": [
    "#Realizamos de nuevo el grafico de nulos\n",
    "plt.figure(figsize=(10,6))\n",
    "sns.heatmap(df.isnull(), cbar=False, cmap='viridis')\n",
    "plt.title('Mapa de calor de valores nulos')\n",
    "plt.show()"
   ]
  },
  {
   "cell_type": "code",
   "execution_count": 11812,
   "id": "4ac686ea",
   "metadata": {},
   "outputs": [
    {
     "data": {
      "text/plain": [
       "TIPO DE PROCESO\n",
       "Ordinario          1089\n",
       "Especial             90\n",
       "ordinario            25\n",
       "Ordinario            17\n",
       "ESPECIAL             12\n",
       "especial              5\n",
       "Odinario              4\n",
       "Unica                 4\n",
       "Ejecutivo             3\n",
       "ejecutivo             3\n",
       "Especial              2\n",
       "0rdinario             1\n",
       "Ordinario U.I.        1\n",
       "Ejecitivo             1\n",
       "Única Instancia       1\n",
       "Fuero                 1\n",
       "Name: count, dtype: int64"
      ]
     },
     "execution_count": 11812,
     "metadata": {},
     "output_type": "execute_result"
    }
   ],
   "source": [
    "#Conozcamos a detalle las variables, empecemos por TIPO DE PROCESO\n",
    "df['TIPO DE PROCESO'].value_counts()"
   ]
  },
  {
   "cell_type": "code",
   "execution_count": 11813,
   "id": "56be82b1",
   "metadata": {},
   "outputs": [
    {
     "data": {
      "text/plain": [
       "TIPO DE PROCESO\n",
       "Ordinario    1137\n",
       "Especial      109\n",
       "Ejecutivo       7\n",
       "Unico           6\n",
       "Name: count, dtype: int64"
      ]
     },
     "execution_count": 11813,
     "metadata": {},
     "output_type": "execute_result"
    }
   ],
   "source": [
    "#Es importante homolgar, en este caso, ordinario sería: Ordinario, Ordinario, Ordinario, Odinario, 0rdinario, Ordinario U.I.\n",
    "#Es importante homolgar, en este caso, Especial sería: ESPECIAL, especial, Especial,ESPECIAL,\n",
    "#Es importante homolgar, en este caso, Ejecutivo sería: ejecutivo, Ejecitivo\n",
    "#El resto de casos homologarlos en Unico, sería:Unica, Única Instancia, Fuero \n",
    "df['TIPO DE PROCESO'] = df['TIPO DE PROCESO'].replace({'ordinario': 'Ordinario', 'Ordinario ': 'Ordinario', 'Odinario': 'Ordinario', '0rdinario': 'Ordinario', 'Ordinario U.I.': 'Ordinario'})\n",
    "df['TIPO DE PROCESO'] = df['TIPO DE PROCESO'].replace({'ESPECIAL': 'Especial', 'especial': 'Especial', 'Especial ': 'Especial'})\n",
    "df['TIPO DE PROCESO'] = df['TIPO DE PROCESO'].replace({'ejecutivo': 'Ejecutivo', 'Ejecitivo': 'Ejecutivo'})\n",
    "df['TIPO DE PROCESO'] = df['TIPO DE PROCESO'].replace({'Unica': 'Unico', 'Única Instancia': 'Unico', 'Fuero ': 'Unico'})\n",
    "df['TIPO DE PROCESO'].value_counts()"
   ]
  },
  {
   "cell_type": "code",
   "execution_count": 11814,
   "id": "46a267e7",
   "metadata": {},
   "outputs": [
    {
     "data": {
      "text/plain": [
       "np.int64(1)"
      ]
     },
     "execution_count": 11814,
     "metadata": {},
     "output_type": "execute_result"
    }
   ],
   "source": [
    "#revisamos los nulos del campo TIPO DE PROCESO\n",
    "df['TIPO DE PROCESO'].isnull().sum()"
   ]
  },
  {
   "cell_type": "code",
   "execution_count": 11815,
   "id": "d5ba0ef3",
   "metadata": {},
   "outputs": [
    {
     "data": {
      "text/plain": [
       "np.int64(0)"
      ]
     },
     "execution_count": 11815,
     "metadata": {},
     "output_type": "execute_result"
    }
   ],
   "source": [
    "#Imputamos los nulos del campo TIPO DE PROCESO con la moda\n",
    "df['TIPO DE PROCESO'] = df['TIPO DE PROCESO'].fillna(df['TIPO DE PROCESO'].mode()[0])   \n",
    "#Validamos la imputación del campo TIPO DE PROCESO\n",
    "df['TIPO DE PROCESO'].isnull().sum()"
   ]
  },
  {
   "cell_type": "code",
   "execution_count": 11816,
   "id": "8746f988",
   "metadata": {},
   "outputs": [
    {
     "name": "stderr",
     "output_type": "stream",
     "text": [
      "C:\\Users\\jdfr1\\AppData\\Local\\Temp\\ipykernel_53868\\2488937106.py:3: FutureWarning: \n",
      "\n",
      "Passing `palette` without assigning `hue` is deprecated and will be removed in v0.14.0. Assign the `x` variable to `hue` and set `legend=False` for the same effect.\n",
      "\n",
      "  sns.countplot(data=df, x='TIPO DE PROCESO', palette='viridis', order=df['TIPO DE PROCESO'].value_counts().index)\n"
     ]
    },
    {
     "data": {
      "image/png": "[encoded data removed]",
      "text/plain": [
       "<Figure size 1000x600 with 1 Axes>"
      ]
     },
     "metadata": {},
     "output_type": "display_data"
    }
   ],
   "source": [
    "#Finalmente, graficamos la distribución de los casos por tipo de proceso\n",
    "plt.figure(figsize=(10,6))\n",
    "sns.countplot(data=df, x='TIPO DE PROCESO', palette='viridis', order=df['TIPO DE PROCESO'].value_counts().index)\n",
    "plt.title('Distribución de casos por tipo de proceso')\n",
    "plt.xticks(rotation=45)\n",
    "plt.show()\n"
   ]
  },
  {
   "cell_type": "code",
   "execution_count": 11817,
   "id": "8469ba97",
   "metadata": {},
   "outputs": [],
   "source": [
    "df = df.rename(columns={'TIPO DE PROCESO': 'TIPO_DE_PROCESO'})"
   ]
  },
  {
   "cell_type": "code",
   "execution_count": 11818,
   "id": "479c3fd1",
   "metadata": {},
   "outputs": [],
   "source": [
    "#relaizamos ananlisis y conteo de la variable ciudad\n",
    "\n",
    "#convertimos a minusculas\n",
    "df['CIUDAD'] = df['CIUDAD'].str.lower()\n",
    "\n",
    "#imputamos los nulos con la moda\n",
    "df['CIUDAD'] = df['CIUDAD'].fillna(df['CIUDAD'].mode()[0])"
   ]
  },
  {
   "cell_type": "code",
   "execution_count": 11819,
   "id": "30ade38f",
   "metadata": {},
   "outputs": [
    {
     "data": {
      "text/plain": [
       "CIUDAD\n",
       "bogota          334\n",
       "medellin        258\n",
       "cali             63\n",
       "cucuta           52\n",
       "barranquilla     50\n",
       "               ... \n",
       "socorro           1\n",
       "malaga            1\n",
       "pto. berrio       1\n",
       "garagoa           1\n",
       "cali              1\n",
       "Name: count, Length: 86, dtype: int64"
      ]
     },
     "execution_count": 11819,
     "metadata": {},
     "output_type": "execute_result"
    }
   ],
   "source": [
    "df['CIUDAD'].value_counts()"
   ]
  },
  {
   "cell_type": "code",
   "execution_count": 11820,
   "id": "a86d6e1a",
   "metadata": {},
   "outputs": [
    {
     "name": "stderr",
     "output_type": "stream",
     "text": [
      "C:\\Users\\jdfr1\\AppData\\Local\\Temp\\ipykernel_53868\\1674130605.py:4: FutureWarning: \n",
      "\n",
      "Passing `palette` without assigning `hue` is deprecated and will be removed in v0.14.0. Assign the `y` variable to `hue` and set `legend=False` for the same effect.\n",
      "\n",
      "  sns.countplot(data=df[df['CIUDAD'].isin(top_10_ciudades)], y='CIUDAD', palette='viridis', order=top_10_ciudades)\n"
     ]
    },
    {
     "data": {
      "image/png": "[encoded data removed]",
      "text/plain": [
       "<Figure size 1000x600 with 1 Axes>"
      ]
     },
     "metadata": {},
     "output_type": "display_data"
    }
   ],
   "source": [
    "#realizamos grafica de barras para el top 10 de la  variable ciudad\n",
    "plt.figure(figsize=(10,6))\n",
    "top_10_ciudades = df['CIUDAD'].value_counts().nlargest(10).index\n",
    "sns.countplot(data=df[df['CIUDAD'].isin(top_10_ciudades)], y='CIUDAD', palette='viridis', order=top_10_ciudades)\n",
    "plt.title('Top 10 ciudades con más casos')  \n",
    "plt.xlabel('Número de casos')\n",
    "plt.ylabel('Ciudad')\n",
    "plt.show()\n",
    "\n"
   ]
  },
  {
   "cell_type": "code",
   "execution_count": 11821,
   "id": "f99d8172",
   "metadata": {},
   "outputs": [
    {
     "data": {
      "text/plain": [
       "CIUDAD\n",
       "bogota          334\n",
       "medellin        258\n",
       "cali             63\n",
       "cucuta           52\n",
       "barranquilla     50\n",
       "               ... \n",
       "socorro           1\n",
       "malaga            1\n",
       "pto. berrio       1\n",
       "garagoa           1\n",
       "cali              1\n",
       "Name: count, Length: 86, dtype: int64"
      ]
     },
     "execution_count": 11821,
     "metadata": {},
     "output_type": "execute_result"
    }
   ],
   "source": [
    "#hacer un conteo por cada ciudad\n",
    "df['CIUDAD'].value_counts()\n"
   ]
  },
  {
   "cell_type": "code",
   "execution_count": 11822,
   "id": "b1a96658",
   "metadata": {},
   "outputs": [
    {
     "data": {
      "text/plain": [
       "np.int64(1)"
      ]
     },
     "execution_count": 11822,
     "metadata": {},
     "output_type": "execute_result"
    }
   ],
   "source": [
    "#conocer el campo región e identificar si tiene campo nulos\n",
    "df['REGION'].isnull().sum()"
   ]
  },
  {
   "cell_type": "code",
   "execution_count": 11823,
   "id": "03a1c4e3",
   "metadata": {},
   "outputs": [
    {
     "data": {
      "text/plain": [
       "np.int64(0)"
      ]
     },
     "execution_count": 11823,
     "metadata": {},
     "output_type": "execute_result"
    }
   ],
   "source": [
    "#Imputamos los nulos del campo REGION con la moda\n",
    "df['REGION'] = df['REGION'].fillna(df['REGION'].mode()[0])\n",
    "#Validamos la imputación del campo REGION\n",
    "df['REGION'].isnull().sum()"
   ]
  },
  {
   "cell_type": "code",
   "execution_count": 11824,
   "id": "f0f51a0d",
   "metadata": {},
   "outputs": [
    {
     "name": "stderr",
     "output_type": "stream",
     "text": [
      "C:\\Users\\jdfr1\\AppData\\Local\\Temp\\ipykernel_53868\\1974913234.py:4: FutureWarning: \n",
      "\n",
      "Passing `palette` without assigning `hue` is deprecated and will be removed in v0.14.0. Assign the `x` variable to `hue` and set `legend=False` for the same effect.\n",
      "\n",
      "  sns.countplot(data=df, x='REGION', palette='viridis', order=df['REGION'].value_counts().index)\n"
     ]
    },
    {
     "data": {
      "image/png": "[encoded data removed]",
      "text/plain": [
       "<Figure size 1000x600 with 1 Axes>"
      ]
     },
     "metadata": {},
     "output_type": "display_data"
    }
   ],
   "source": [
    "#Conozcamos el campo REGION,  a continuación grafico de la distribución:\n",
    "df['REGION'].value_counts()\n",
    "plt.figure(figsize=(10,6))\n",
    "sns.countplot(data=df, x='REGION', palette='viridis', order=df['REGION'].value_counts().index)\n",
    "plt.title('Distribución de casos por región')\n",
    "plt.xticks(rotation=45)\n",
    "plt.show()\n"
   ]
  },
  {
   "cell_type": "code",
   "execution_count": 11825,
   "id": "d7af38ae",
   "metadata": {},
   "outputs": [
    {
     "data": {
      "text/plain": [
       "AÑO DEMANDA\n",
       "2003.0    117\n",
       "2000.0     87\n",
       "2001.0     70\n",
       "2017.0     69\n",
       "2016.0     66\n",
       "2015.0     65\n",
       "2008.0     64\n",
       "2007.0     64\n",
       "2018.0     60\n",
       "2010.0     59\n",
       "2009.0     59\n",
       "2004.0     56\n",
       "2002.0     56\n",
       "2013.0     54\n",
       "2011.0     51\n",
       "2005.0     50\n",
       "2006.0     47\n",
       "2014.0     41\n",
       "2019.0     36\n",
       "2012.0     29\n",
       "2020.0     25\n",
       "2021.0     20\n",
       "2022.0     13\n",
       "2023.0      2\n",
       "Name: count, dtype: int64"
      ]
     },
     "execution_count": 11825,
     "metadata": {},
     "output_type": "execute_result"
    }
   ],
   "source": [
    "#Vamos a analizar los campos de fecha que tenemos en el dataset, tenemos el campo PRESENTACIÓN DE DEMANDA y AÑO DE DEMANDA,  realmente son campos que pueden ser complementarios, aunque con la fecha completa podríamos encontrar tendencias a través de los meses.\n",
    "#Empecemos analizando el AÑO DE DEMANDA\n",
    "df['AÑO DEMANDA'].value_counts()\n"
   ]
  },
  {
   "cell_type": "code",
   "execution_count": 11826,
   "id": "deff9ce3",
   "metadata": {},
   "outputs": [],
   "source": [
    "#convertir el campo AÑO DEMANDA a entero\n",
    "df['AÑO DEMANDA'] = df['AÑO DEMANDA'].astype(int)\n"
   ]
  },
  {
   "cell_type": "code",
   "execution_count": 11827,
   "id": "10abf923",
   "metadata": {},
   "outputs": [
    {
     "data": {
      "image/png": "[encoded data removed]",
      "text/plain": [
       "<Figure size 1000x600 with 1 Axes>"
      ]
     },
     "metadata": {},
     "output_type": "display_data"
    }
   ],
   "source": [
    "#Se evidencia en el gráfico anterior que no tenemos año nulos, por lo tanto no es necesario hacer ninguna imputación, ahora conozcamos el volumen de casos por año \n",
    "df['AÑO DEMANDA'].value_counts().sort_index().plot(kind='bar', figsize=(10,6), color='skyblue')\n",
    "plt.title('Número de casos por año')\n",
    "plt.xlabel('Año')\n",
    "plt.ylabel('Número de casos')\n",
    "plt.xticks(rotation=45)\n",
    "plt.show()\n"
   ]
  },
  {
   "cell_type": "code",
   "execution_count": 11828,
   "id": "c23daf56",
   "metadata": {},
   "outputs": [
    {
     "data": {
      "text/plain": [
       "np.int64(0)"
      ]
     },
     "execution_count": 11828,
     "metadata": {},
     "output_type": "execute_result"
    }
   ],
   "source": [
    "#El AÑO DE DEMANDA es un campo importante para el analisis y nos permitirá ver evolución de los casos en el tiempo, ahora vamos a ver el campo de PRESENTACIÓN DE DEMANDA, primero identificamos los vacios\n",
    "df['PRESENTACIÓN DEMANDA'].isnull().sum()\n",
    "\n"
   ]
  },
  {
   "cell_type": "code",
   "execution_count": 11829,
   "id": "07f9a866",
   "metadata": {},
   "outputs": [],
   "source": [
    "df = df.drop(columns=['PRESENTACIÓN DEMANDA'])"
   ]
  },
  {
   "cell_type": "code",
   "execution_count": 11830,
   "id": "4ba4bc8e",
   "metadata": {},
   "outputs": [
    {
     "data": {
      "text/plain": [
       "RED\n",
       "Banco de Colombia              466\n",
       "Bancolombia                    398\n",
       "Colombia                       102\n",
       "BIC                            100\n",
       "Conavi                          79\n",
       "Ninguno                         58\n",
       "bic                             20\n",
       "conavi                          19\n",
       "Bic                              4\n",
       "Sin establecer                   4\n",
       "Leasing                          4\n",
       "CORFINSURA                       1\n",
       "Banco Industrial Colombiano      1\n",
       "Name: count, dtype: int64"
      ]
     },
     "execution_count": 11830,
     "metadata": {},
     "output_type": "execute_result"
    }
   ],
   "source": [
    "#Vamos a analizar el campo RED, vamos a conocer que información tiene el campo\n",
    "df['RED'].value_counts()\n"
   ]
  },
  {
   "cell_type": "code",
   "execution_count": 11831,
   "id": "af44ef73",
   "metadata": {},
   "outputs": [],
   "source": [
    "#Se puede evidencia que este campo tiene problemas de homolagación, por lo tanto se decide homologar el campo con las clases que efectivamente deberían tener, para este caso: sería:\n",
    "#El campo Bancolombia, sería: Bancolombia, Colombia, Leasing\n",
    "df['RED'] = df['RED'].replace({'Colombia ': 'Bancolombia', 'Bancolombia ': 'Bancolombia', 'Leasing': 'Bancolombia', 'Colombia': 'Bancolombia'})\n",
    "\n",
    "\n",
    "#El campo BIC, sería: BIC, bic, Bic\n",
    "df['RED'] = df['RED'].replace({'BIC': 'BIC', 'bic': 'BIC', 'Bic': 'BIC'})\n",
    "\n",
    "#El campo Conavi, sería: Conavi, conavi, \n",
    "df['RED'] = df['RED'].replace({'Conavi': 'Conavi', 'Conavi': 'conavi'})\n",
    "\n",
    "#El campo otros, sería: Ninguno, Sin establecer, CORFINSURA, Banco industrial Colombiano,Banco Industrial Colombiano\n",
    "df['RED'] = df['RED'].replace({'Sin establecer': 'Otros', 'CORFINSURA': 'Otros', 'Ninguno': 'Otros', 'Banco industrial Colombia': 'Otros','Banco Industrial Colombiano': 'Otros'})\n",
    "\n"
   ]
  },
  {
   "cell_type": "code",
   "execution_count": 11832,
   "id": "4a8a3611",
   "metadata": {},
   "outputs": [
    {
     "data": {
      "text/plain": [
       "RED\n",
       "Bancolombia          504\n",
       "Banco de Colombia    466\n",
       "BIC                  124\n",
       "conavi                98\n",
       "Otros                 64\n",
       "Name: count, dtype: int64"
      ]
     },
     "execution_count": 11832,
     "metadata": {},
     "output_type": "execute_result"
    }
   ],
   "source": [
    "df['RED'].value_counts()"
   ]
  },
  {
   "cell_type": "code",
   "execution_count": 11833,
   "id": "1bda9da4",
   "metadata": {},
   "outputs": [
    {
     "data": {
      "text/plain": [
       "np.int64(4)"
      ]
     },
     "execution_count": 11833,
     "metadata": {},
     "output_type": "execute_result"
    }
   ],
   "source": [
    "#validamos los nulos del campo RED\n",
    "df['RED'].isnull().sum()"
   ]
  },
  {
   "cell_type": "code",
   "execution_count": 11834,
   "id": "4a9f9aa7",
   "metadata": {},
   "outputs": [],
   "source": [
    "#los 4 nulos los vamos a imputar con la moda\n",
    "df['RED'] = df['RED'].fillna(df['RED'].mode()[0])"
   ]
  },
  {
   "cell_type": "code",
   "execution_count": 11835,
   "id": "83791390",
   "metadata": {},
   "outputs": [
    {
     "data": {
      "text/plain": [
       "np.int64(0)"
      ]
     },
     "execution_count": 11835,
     "metadata": {},
     "output_type": "execute_result"
    }
   ],
   "source": [
    "#Validamos la imputación del campo RED\n",
    "df['RED'].isnull().sum()"
   ]
  },
  {
   "cell_type": "code",
   "execution_count": 11836,
   "id": "16a39024",
   "metadata": {},
   "outputs": [
    {
     "name": "stderr",
     "output_type": "stream",
     "text": [
      "C:\\Users\\jdfr1\\AppData\\Local\\Temp\\ipykernel_53868\\51525961.py:3: FutureWarning: \n",
      "\n",
      "Passing `palette` without assigning `hue` is deprecated and will be removed in v0.14.0. Assign the `x` variable to `hue` and set `legend=False` for the same effect.\n",
      "\n",
      "  sns.countplot(data=df, x='RED', palette='viridis', order=df['RED'].value_counts().index)\n"
     ]
    },
    {
     "data": {
      "image/png": "[encoded data removed]",
      "text/plain": [
       "<Figure size 1000x600 with 1 Axes>"
      ]
     },
     "metadata": {},
     "output_type": "display_data"
    }
   ],
   "source": [
    "#después de todo el proceso de limpieza, graficamos el campo para conocer su distribución\n",
    "plt.figure(figsize=(10,6))\n",
    "sns.countplot(data=df, x='RED', palette='viridis', order=df['RED'].value_counts().index)\n",
    "plt.title('Distribución de casos por red')              \n",
    "plt.xticks(rotation=45)\n",
    "plt.show()\n"
   ]
  },
  {
   "cell_type": "code",
   "execution_count": 11837,
   "id": "8407ec5d",
   "metadata": {},
   "outputs": [
    {
     "data": {
      "text/plain": [
       "TIPO RELACIÓN\n",
       "Extrabajador     935\n",
       "Trabajador       190\n",
       "Ninguna           58\n",
       "Jubilado          48\n",
       "trabajador        10\n",
       "Sobreviviente     10\n",
       "Gestor             3\n",
       "Corretaje          1\n",
       "conavi             1\n",
       "ninguna            1\n",
       "Name: count, dtype: int64"
      ]
     },
     "execution_count": 11837,
     "metadata": {},
     "output_type": "execute_result"
    }
   ],
   "source": [
    "#Conozcamos a detalle el campo TIPO RELACIÓN\n",
    "df['TIPO RELACIÓN'].value_counts()"
   ]
  },
  {
   "cell_type": "code",
   "execution_count": 11838,
   "id": "78945e3d",
   "metadata": {},
   "outputs": [],
   "source": [
    "#Se puede evidenciar que el campo tiene muchas clases que se deben homologar, teniendo en cuenta:\n",
    "#El campo Jubilado, debe incluir: Extrabajador, Jubilado\n",
    "df['TIPO RELACIÓN'] = df['TIPO RELACIÓN'].replace({'Extrabajador': 'Jubilado', 'Jubilado ': 'Jubilado'})\n",
    "\n",
    "#El campo empleados, debe incluir:Trabajador, trabajador\n",
    "df['TIPO RELACIÓN'] = df['TIPO RELACIÓN'].replace({'Trabajador': 'Empleado', 'trabajador': 'Empleado'})\n",
    "\n",
    "#El resto de las clases, deben incluirse en Otros: Ninguna, Sobreviviente, Gestor, Corretaje, conavi, ninguna,\n",
    "df['TIPO RELACIÓN'] = df['TIPO RELACIÓN'].replace({'Ninguna': 'Otros', 'Sobreviviente': 'Otros', 'Gestor': 'Otros', 'Corretaje': 'Otros', 'conavi': 'Otros', 'ninguna': 'Otros'})\n"
   ]
  },
  {
   "cell_type": "code",
   "execution_count": 11839,
   "id": "9e232e3c",
   "metadata": {},
   "outputs": [
    {
     "data": {
      "text/plain": [
       "TIPO RELACIÓN\n",
       "Jubilado    983\n",
       "Empleado    200\n",
       "Otros        74\n",
       "Name: count, dtype: int64"
      ]
     },
     "execution_count": 11839,
     "metadata": {},
     "output_type": "execute_result"
    }
   ],
   "source": [
    "#validar finalmene como quedan las clases:\n",
    "df['TIPO RELACIÓN'].value_counts()"
   ]
  },
  {
   "cell_type": "code",
   "execution_count": 11840,
   "id": "61896026",
   "metadata": {},
   "outputs": [
    {
     "data": {
      "text/plain": [
       "np.int64(3)"
      ]
     },
     "execution_count": 11840,
     "metadata": {},
     "output_type": "execute_result"
    }
   ],
   "source": [
    "#identificar si hay nulos en el campo TIPO RELACIÓN\n",
    "df['TIPO RELACIÓN'].isnull().sum()"
   ]
  },
  {
   "cell_type": "code",
   "execution_count": 11841,
   "id": "2f686ed0",
   "metadata": {},
   "outputs": [],
   "source": [
    "#Los 3 nulos los vamos a imputar con la moda\n",
    "df['TIPO RELACIÓN'] = df['TIPO RELACIÓN'].fillna(df['TIPO RELACIÓN'].mode()[0]) "
   ]
  },
  {
   "cell_type": "code",
   "execution_count": 11842,
   "id": "9a6a86e9",
   "metadata": {},
   "outputs": [
    {
     "data": {
      "text/plain": [
       "np.int64(0)"
      ]
     },
     "execution_count": 11842,
     "metadata": {},
     "output_type": "execute_result"
    }
   ],
   "source": [
    "#Validamos la imputacion\n",
    "df['TIPO RELACIÓN'].isnull().sum()"
   ]
  },
  {
   "cell_type": "code",
   "execution_count": 11843,
   "id": "05c7d998",
   "metadata": {},
   "outputs": [],
   "source": [
    "df = df.rename(columns={'TIPO RELACIÓN': 'TIPO_RELACION'})"
   ]
  },
  {
   "cell_type": "code",
   "execution_count": 11844,
   "id": "22185de1",
   "metadata": {},
   "outputs": [
    {
     "name": "stderr",
     "output_type": "stream",
     "text": [
      "C:\\Users\\jdfr1\\AppData\\Local\\Temp\\ipykernel_53868\\3878690451.py:3: FutureWarning: \n",
      "\n",
      "Passing `palette` without assigning `hue` is deprecated and will be removed in v0.14.0. Assign the `x` variable to `hue` and set `legend=False` for the same effect.\n",
      "\n",
      "  sns.countplot(data=df, x='TIPO_RELACION', palette='viridis', order=df['TIPO_RELACION'].value_counts().index)\n"
     ]
    },
    {
     "data": {
      "image/png": "[encoded data removed]",
      "text/plain": [
       "<Figure size 1000x600 with 1 Axes>"
      ]
     },
     "metadata": {},
     "output_type": "display_data"
    }
   ],
   "source": [
    "#después de realizar todo el proceso de limpieza del campo TIPO RELACIÓN, graficamos la distribución de los casos\n",
    "plt.figure(figsize=(10,6))\n",
    "sns.countplot(data=df, x='TIPO_RELACION', palette='viridis', order=df['TIPO_RELACION'].value_counts().index)\n",
    "plt.title('Distribución de casos por tipo de relación')\n",
    "plt.xticks(rotation=45)\n",
    "plt.show()\n"
   ]
  },
  {
   "cell_type": "code",
   "execution_count": 11845,
   "id": "a1d1b94e",
   "metadata": {},
   "outputs": [
    {
     "data": {
      "text/plain": [
       "PRETENSIÓN\n",
       "INDEMNIZACION DSJC                                    213\n",
       "Jubilacion                                             89\n",
       "INDEMNIZACIÓN DSJC                                     89\n",
       "Indemnizacion dsjc                                     70\n",
       "TITULO PENSIONAL - COTIZACIÓN AL ISS                   61\n",
       "                                                     ... \n",
       "RELIQUIDACIÓN PRESTACIONES SOCIALES                     1\n",
       "INDEMNIZACION DSJC - MORATORIA                          1\n",
       "REINTEGRO Y RELIQUIDACIÓN DE PRESTACIONES SOCIALES      1\n",
       "REINTEGRO - CASO SALUD                                  1\n",
       "BENEFICIOS CONVENCIONALES                               1\n",
       "Name: count, Length: 156, dtype: int64"
      ]
     },
     "execution_count": 11845,
     "metadata": {},
     "output_type": "execute_result"
    }
   ],
   "source": [
    "#Vamos a conocer el campo PRETENCIÓN, conozcamos las clases que tiene\n",
    "df['PRETENSIÓN'].value_counts()\n"
   ]
  },
  {
   "cell_type": "code",
   "execution_count": 11846,
   "id": "bc1b1614",
   "metadata": {},
   "outputs": [],
   "source": [
    "#Convertir todos los registros del campo en minuscula\n",
    "df['PRETENSIÓN'] = df['PRETENSIÓN'].str.lower()"
   ]
  },
  {
   "cell_type": "code",
   "execution_count": 11847,
   "id": "f6bd437d",
   "metadata": {},
   "outputs": [
    {
     "data": {
      "text/plain": [
       "PRETENSIÓN\n",
       "indemnizacion dsjc                                    286\n",
       "jubilacion                                            141\n",
       "indemnización dsjc                                     89\n",
       "titulo pensional - cotización al iss                   61\n",
       "accion reintegro                                       53\n",
       "                                                     ... \n",
       "reliquidación prestaciones sociales                     1\n",
       "indemnizacion dsjc - moratoria                          1\n",
       "reintegro y reliquidación de prestaciones sociales      1\n",
       "reintegro - caso salud                                  1\n",
       "beneficios convencionales                               1\n",
       "Name: count, Length: 143, dtype: int64"
      ]
     },
     "execution_count": 11847,
     "metadata": {},
     "output_type": "execute_result"
    }
   ],
   "source": [
    "#Vamos a conocer el campo PRETENCIÓN, conozcamos las clases que tiene\n",
    "df['PRETENSIÓN'].value_counts()\n"
   ]
  },
  {
   "cell_type": "code",
   "execution_count": 11848,
   "id": "49d8b4df",
   "metadata": {},
   "outputs": [],
   "source": [
    "#Limpieza del campo\n",
    "df.loc[df['PRETENSIÓN'].str.contains(\"reintegro\", case=False, na=False), 'PRETENSIÓN'] = \"reintegro\"\n",
    "df.loc[df['PRETENSIÓN'].str.contains(\"jubilacion\", case=False, na=False), 'PRETENSIÓN'] = \"jubilacion\"\n",
    "df.loc[df['PRETENSIÓN'].str.contains(\"beneficios\", case=False, na=False), 'PRETENSIÓN'] = \"beneficios\"\n",
    "df.loc[df['PRETENSIÓN'].str.contains(\"fuero sindical\", case=False, na=False), 'PRETENSIÓN'] = \"fuero sindical\"\n",
    "df.loc[df['PRETENSIÓN'].str.contains(\"salario\", case=False, na=False), 'PRETENSIÓN'] = \"salario\"\n",
    "df.loc[df['PRETENSIÓN'].str.contains(\"prestaciones sociales\", case=False, na=False), 'PRETENSIÓN'] = \"prestaciones sociales\"\n",
    "df.loc[df['PRETENSIÓN'].str.contains(\"indemnizacion\", case=False, na=False), 'PRETENSIÓN'] = \"indemnización\"\n",
    "df.loc[df['PRETENSIÓN'].str.contains(\"indemnización\", case=False, na=False), 'PRETENSIÓN'] = \"indemnización\"\n",
    "df.loc[df['PRETENSIÓN'].str.contains(\"contrato\", case=False, na=False), 'PRETENSIÓN'] = \"contrato\"\n",
    "df.loc[df['PRETENSIÓN'].str.contains(\"pensión\", case=False, na=False), 'PRETENSIÓN'] = \"pensión\""
   ]
  },
  {
   "cell_type": "code",
   "execution_count": 11849,
   "id": "9f5057a9",
   "metadata": {},
   "outputs": [
    {
     "data": {
      "text/plain": [
       "PRETENSIÓN\n",
       "indemnización                       454\n",
       "reintegro                           155\n",
       "jubilacion                          141\n",
       "fuero sindical                      100\n",
       "salario                              65\n",
       "                                   ... \n",
       "indeminización dsjc                   1\n",
       "nulidad de proceso disciplinario      1\n",
       "pago cesantías retroactivas           1\n",
       "reloquidación mesada pensional        1\n",
       "beneficios                            1\n",
       "Name: count, Length: 64, dtype: int64"
      ]
     },
     "execution_count": 11849,
     "metadata": {},
     "output_type": "execute_result"
    }
   ],
   "source": [
    "#Vamos a conocer el campo PRETENCIÓN, conozcamos las clases que tiene\n",
    "df['PRETENSIÓN'].value_counts()\n"
   ]
  },
  {
   "cell_type": "code",
   "execution_count": 11850,
   "id": "c601177f",
   "metadata": {},
   "outputs": [
    {
     "data": {
      "text/plain": [
       "PRETENSIÓN\n",
       "indemnización     454\n",
       "otros             345\n",
       "reintegro         155\n",
       "jubilacion        141\n",
       "fuero sindical    100\n",
       "salario            65\n",
       "Name: count, dtype: int64"
      ]
     },
     "execution_count": 11850,
     "metadata": {},
     "output_type": "execute_result"
    }
   ],
   "source": [
    "# Organizar las clases del campo PRETENSIÓN\n",
    "clases_principales = ['indemnización', 'reintegro', 'jubilacion', 'fuero sindical', 'salario']\n",
    "df['PRETENSIÓN'] = df['PRETENSIÓN'].apply(lambda x: x if x in clases_principales else 'otros')\n",
    "df['PRETENSIÓN'].value_counts()"
   ]
  },
  {
   "cell_type": "code",
   "execution_count": 11851,
   "id": "c1f22f0e",
   "metadata": {},
   "outputs": [
    {
     "data": {
      "text/plain": [
       "np.int64(0)"
      ]
     },
     "execution_count": 11851,
     "metadata": {},
     "output_type": "execute_result"
    }
   ],
   "source": [
    "#los 6 campos nulos los vamos a imputar con la moda\n",
    "df['PRETENSIÓN'] = df['PRETENSIÓN'].fillna(df['PRETENSIÓN'].mode()[0])\n",
    "\n",
    "#Validamos la imputación del campo PRETENSIÓN\n",
    "df['PRETENSIÓN'].isnull().sum()"
   ]
  },
  {
   "cell_type": "code",
   "execution_count": 11852,
   "id": "0a4e22b6",
   "metadata": {},
   "outputs": [
    {
     "data": {
      "text/plain": [
       "np.int64(95)"
      ]
     },
     "execution_count": 11852,
     "metadata": {},
     "output_type": "execute_result"
    }
   ],
   "source": [
    "#Analizamos el campo CLASE (posibilidad de pérdida), identificamos los campos nulos\n",
    "df['CLASE (posibilidad de pérdida)'].isnull().sum()"
   ]
  },
  {
   "cell_type": "code",
   "execution_count": 11853,
   "id": "594f608f",
   "metadata": {},
   "outputs": [
    {
     "data": {
      "text/plain": [
       "np.int64(0)"
      ]
     },
     "execution_count": 11853,
     "metadata": {},
     "output_type": "execute_result"
    }
   ],
   "source": [
    "#hemos identificado 95 campos nulos, siguiendo con el mismo criterio, vamos a imputar con la moda\n",
    "df['CLASE (posibilidad de pérdida)'] = df['CLASE (posibilidad de pérdida)'].fillna(df['CLASE (posibilidad de pérdida)'].mode()[0])  \n",
    "#Validamos la imputación del campo CLASE (posibilidad de pérdida)\n",
    "df['CLASE (posibilidad de pérdida)'].isnull().sum()"
   ]
  },
  {
   "cell_type": "code",
   "execution_count": 11854,
   "id": "752c89d1",
   "metadata": {},
   "outputs": [
    {
     "data": {
      "text/plain": [
       "CLASE (posibilidad de pérdida)\n",
       "Problable                                                                              864\n",
       "Eventual                                                                               356\n",
       "Remota                                                                                  39\n",
       "el ersultado es muy inciertoy  por tanto la probailidad de fallo adverso es latente      1\n",
       "Name: count, dtype: int64"
      ]
     },
     "execution_count": 11854,
     "metadata": {},
     "output_type": "execute_result"
    }
   ],
   "source": [
    "#conocemos las clases de este campo\n",
    "df['CLASE (posibilidad de pérdida)'].value_counts()"
   ]
  },
  {
   "cell_type": "code",
   "execution_count": 11855,
   "id": "e5fcc95d",
   "metadata": {},
   "outputs": [
    {
     "data": {
      "text/plain": [
       "CLASE (posibilidad de pérdida)\n",
       "probable    865\n",
       "Eventual    356\n",
       "Remota       39\n",
       "Name: count, dtype: int64"
      ]
     },
     "execution_count": 11855,
     "metadata": {},
     "output_type": "execute_result"
    }
   ],
   "source": [
    "#de acuerdo a la descripción de cada clase, se identifica la necesidad de homogar y dejar solo 3 clases, probable, eventual y retoma, así que hacemos los siguientes cambios:\n",
    "#El campo probable, incluiría: Problable, el ersultado es muy inciertoy  por tanto la probailidad de fallo adverso es latente\n",
    "df['CLASE (posibilidad de pérdida)'] = df['CLASE (posibilidad de pérdida)'].replace({'Problable': 'probable', 'el ersultado es muy inciertoy  por tanto la probailidad de fallo adverso es latente': 'probable'})\n",
    "\n",
    "\n",
    "#valimos como queda el campo\n",
    "df['CLASE (posibilidad de pérdida)'].value_counts()\n",
    "\n"
   ]
  },
  {
   "cell_type": "code",
   "execution_count": 11856,
   "id": "1408d9b1",
   "metadata": {},
   "outputs": [],
   "source": [
    "df = df.rename(columns={'CLASE (posibilidad de pérdida)': 'CLASE'})"
   ]
  },
  {
   "cell_type": "code",
   "execution_count": 11857,
   "id": "2a4ba3a0",
   "metadata": {},
   "outputs": [],
   "source": [
    "#Entendamos el campo ESTADO ACTUAL, lo primero es convertir todo en minuscula\n",
    "#Convertir todos los registros del campo en minuscula\n",
    "df['ESTADO ACTUAL'] = df['ESTADO ACTUAL'].str.lower()"
   ]
  },
  {
   "cell_type": "code",
   "execution_count": 11858,
   "id": "19c06048",
   "metadata": {},
   "outputs": [
    {
     "data": {
      "text/plain": [
       "ESTADO ACTUAL\n",
       "favorable 2005                                                                                                                                                                                                                                                                                                                                                                                                                                  55\n",
       "favorable 2006                                                                                                                                                                                                                                                                                                                                                                                                                                  39\n",
       "favorable 2004                                                                                                                                                                                                                                                                                                                                                                                                                                  23\n",
       "19/ 07/ 06 traslado para apelar.      pendiente apelacion ddte                                                                                                                                                                                                                                                                                                                                                                                  16\n",
       "favorable 2003                                                                                                                                                                                                                                                                                                                                                                                                                                  15\n",
       "                                                                                                                                                                                                                                                                                                                                                                                                                                                ..\n",
       "el 18-06-2021 se contesta la demanda                                                                                                                                                                                                                                                                                                                                                                                                             1\n",
       "1t conciliación el 06-03-2019 a las 3:15 pm, decisión de excepciones previas, saneamiento, fijación del litigio, decreto y práctica de pruebas y fallo. contestada el 26-05-2016. notificada el 16-05-2016.                                                                                                                                                                                                                                      1\n",
       "1t conciliación el 03-10-2017 a las 8:30 am, decisión de excepciones previas, saneamiento, fijación del litigio, decreto y práctica de pruebas y fallo. contestada el 14-08-2017. notificada el 02-08-2017.                                                                                                                                                                                                                                      1\n",
       "1t conciliación el 03-02-2020 a las 4:00 pm, decisición de excepciones previas, saneamiento, fijación del litigio y decreto de pruebas. contestada el 13-12-2018. notificada el 03-12-2018.                                                                                                                                                                                                                                                      1\n",
       "concede recurso de apelación interpuesto por el abogado de la demandante. nueva fecha 1t conciliación el 05-04-2019 a las 10:30 am; decisión de execpciones previas, saneamiento, fijación del litigio, decreto y práctica de pruebas y fallo. 1t conciliación el 20-03-2019 a las 10:00 am; decisión de execpciones previas, saneamiento, fijación del litigio, decreto y práctica de pruebas y fallo (aplazada). contestada el 06-06-2018.     1\n",
       "Name: count, Length: 1048, dtype: int64"
      ]
     },
     "execution_count": 11858,
     "metadata": {},
     "output_type": "execute_result"
    }
   ],
   "source": [
    "#Vamos a conocer el campo ESTADO ACTUAL, conozcamos las clases que tiene\n",
    "df['ESTADO ACTUAL'].value_counts()"
   ]
  },
  {
   "cell_type": "code",
   "execution_count": 11859,
   "id": "09bc80eb",
   "metadata": {},
   "outputs": [],
   "source": [
    "#Realizamos la Limpieza del campo\n",
    "df.loc[df['ESTADO ACTUAL'].str.contains(\"conciliado\", case=False, na=False), 'ESTADO ACTUAL'] = \"conciliado\"\n",
    "df.loc[df['ESTADO ACTUAL'].str.contains(\"favorable\", case=False, na=False), 'ESTADO ACTUAL'] = \"favorable\"\n",
    "df.loc[df['ESTADO ACTUAL'].str.contains(\"desfavorable\", case=False, na=False), 'ESTADO ACTUAL'] = \"desfavorable\"\n",
    "df.loc[df['ESTADO ACTUAL'].str.contains(\"contestada\", case=False, na=False), 'ESTADO ACTUAL'] = \"contestada\"\n",
    "df.loc[df['ESTADO ACTUAL'].str.contains(\"pendiente\", case=False, na=False), 'ESTADO ACTUAL'] = \"pendiente\"\n",
    "df.loc[df['ESTADO ACTUAL'].str.contains(\"neutro\", case=False, na=False), 'ESTADO ACTUAL'] = \"neutro\"\n",
    "df.loc[df['ESTADO ACTUAL'].str.contains(\"terminado\", case=False, na=False), 'ESTADO ACTUAL'] = \"terminado\"\n",
    "df.loc[df['ESTADO ACTUAL'].str.contains(\"fallo 2a instancia\", case=False, na=False), 'ESTADO ACTUAL'] = \"fallo 2a instancia\"\n",
    "df.loc[df['ESTADO ACTUAL'].str.contains(\"segunda instancia\", case=False, na=False), 'ESTADO ACTUAL'] = \"segunda instancia\"\n",
    "df.loc[df['ESTADO ACTUAL'].str.contains(\"radica contestacion\", case=False, na=False), 'ESTADO ACTUAL'] = \"radica contestacion\"\n",
    "df.loc[df['ESTADO ACTUAL'].str.contains(\"liquidación\", case=False, na=False), 'ESTADO ACTUAL'] = \"liquidación\"\n",
    "df.loc[df['ESTADO ACTUAL'].str.contains(\"apelación demandante\", case=False, na=False), 'ESTADO ACTUAL'] = \"apelación demandante\"\n",
    "df.loc[df['ESTADO ACTUAL'].str.contains(\"resuelto\", case=False, na=False), 'ESTADO ACTUAL'] = \"resuelto\"\n",
    "df.loc[df['ESTADO ACTUAL'].str.contains(\"fallo 1era instancia\", case=False, na=False), 'ESTADO ACTUAL'] = \"fallo 1era instancia\"\n",
    "df.loc[df['ESTADO ACTUAL'].str.contains(\"primera instancia\", case=False, na=False), 'ESTADO ACTUAL'] = \"primera instancia\"\n",
    "\n"
   ]
  },
  {
   "cell_type": "code",
   "execution_count": 11860,
   "id": "8abbdeda",
   "metadata": {},
   "outputs": [
    {
     "data": {
      "text/plain": [
       "ESTADO ACTUAL\n",
       "otros                  456\n",
       "pendiente              222\n",
       "favorable              213\n",
       "contestada             193\n",
       "liquidación             51\n",
       "terminado               47\n",
       "conciliado              27\n",
       "fallo 2a instancia      19\n",
       "segunda instancia        9\n",
       "primera instancia        7\n",
       "resuelto                 7\n",
       "neutro                   5\n",
       "radica contestacion      4\n",
       "Name: count, dtype: int64"
      ]
     },
     "execution_count": 11860,
     "metadata": {},
     "output_type": "execute_result"
    }
   ],
   "source": [
    "# Organizar las clases del campo ESTADO ACTUA\n",
    "clases_principales = ['conciliado', 'favorable', 'desfavorable', 'contestada', 'pendiente', 'neutro', 'terminado', 'fallo 2a instancia', 'segunda instancia', 'radica contestacion', 'liquidación', 'apelación demandante', 'resuelto', 'fallo 1era instancia', 'primera instancia']\n",
    "df['ESTADO ACTUAL'] = df['ESTADO ACTUAL'].apply(lambda x: x if x in clases_principales else 'otros')\n",
    "df['ESTADO ACTUAL'].value_counts()"
   ]
  },
  {
   "cell_type": "code",
   "execution_count": 11861,
   "id": "55ec5251",
   "metadata": {},
   "outputs": [
    {
     "data": {
      "text/plain": [
       "ESTADO ACTUAL\n",
       "otros                  456\n",
       "pendiente              222\n",
       "favorable              213\n",
       "contestada             193\n",
       "liquidación             51\n",
       "terminado               47\n",
       "conciliado              27\n",
       "fallo 2a instancia      19\n",
       "segunda instancia        9\n",
       "primera instancia        7\n",
       "resuelto                 7\n",
       "neutro                   5\n",
       "radica contestacion      4\n",
       "Name: count, dtype: int64"
      ]
     },
     "execution_count": 11861,
     "metadata": {},
     "output_type": "execute_result"
    }
   ],
   "source": [
    "#Vamos a conocer el campo ESTADO ACTUAL, conozcamos las clases que tiene\n",
    "df['ESTADO ACTUAL'].value_counts()\n"
   ]
  },
  {
   "cell_type": "code",
   "execution_count": 11862,
   "id": "51f87722",
   "metadata": {},
   "outputs": [],
   "source": [
    "df = df.rename(columns={'ESTADO ACTUAL': 'ESTADO_ACTUAL'})"
   ]
  },
  {
   "cell_type": "code",
   "execution_count": 11863,
   "id": "3059d4d0",
   "metadata": {},
   "outputs": [
    {
     "data": {
      "text/plain": [
       "np.int64(9)"
      ]
     },
     "execution_count": 11863,
     "metadata": {},
     "output_type": "execute_result"
    }
   ],
   "source": [
    "#Entender el campo APODERADO BANCO, el cual es muy importante para el análisis porque es el nombre del abogado que atiende el proceso, primero validamos los nulos\n",
    "df['APODERADO BANCO'].isnull().sum()"
   ]
  },
  {
   "cell_type": "code",
   "execution_count": 11864,
   "id": "5cdaa37e",
   "metadata": {},
   "outputs": [],
   "source": [
    "#Imputar los 9 casos nulos con la moda, según el caso anterior:\n",
    "df['APODERADO BANCO'] = df['APODERADO BANCO'].fillna(df['APODERADO BANCO'].mode()[0])"
   ]
  },
  {
   "cell_type": "code",
   "execution_count": 11865,
   "id": "ccf5ed5d",
   "metadata": {},
   "outputs": [
    {
     "data": {
      "text/plain": [
       "np.int64(0)"
      ]
     },
     "execution_count": 11865,
     "metadata": {},
     "output_type": "execute_result"
    }
   ],
   "source": [
    "#Validamos de nuevo los nulos\n",
    "df['APODERADO BANCO'].isnull().sum()"
   ]
  },
  {
   "cell_type": "code",
   "execution_count": 11866,
   "id": "829eac62",
   "metadata": {},
   "outputs": [
    {
     "data": {
      "text/plain": [
       "APODERADO BANCO\n",
       "José Roberto Herrera Vergara                                             219\n",
       "Humberto Jairo Jaramillo V.                                              135\n",
       "Carlos Valega Puello                                                      78\n",
       "Charria & Camacho Abogados Asociados Limitada <chacalop@cable.net.co>     68\n",
       "Juan Pablo López Moreno                                                   55\n",
       "                                                                        ... \n",
       "José Roberto Herrera  (Xiomara Clavijo)                                    1\n",
       "Oscar Vergel Canal (José Roberto Herrera V.)                               1\n",
       "José Roberto Herrera Vergara   (Juan Felipe Molina Alvarez)                1\n",
       "José Roberto Herrera Vergara (Orlando Erickson Rivera Ramírez)             1\n",
       "José Roberto Herrera Vergara. (Giovanna Flórez Montealegre)                1\n",
       "Name: count, Length: 102, dtype: int64"
      ]
     },
     "execution_count": 11866,
     "metadata": {},
     "output_type": "execute_result"
    }
   ],
   "source": [
    "#Entender la distribución de los casos por APODERADO BANCO\n",
    "df['APODERADO BANCO'].value_counts()"
   ]
  },
  {
   "cell_type": "markdown",
   "id": "e44de8a9",
   "metadata": {},
   "source": [
    "En el paso anterior se evidencia muchos nombres que tienen diferente forma de escribir, y analizando de cara al modelo es un campo que no va a generar valor, en ese sentido, se decide eliminar el campo"
   ]
  },
  {
   "cell_type": "code",
   "execution_count": 11867,
   "id": "b5e4c7cc",
   "metadata": {},
   "outputs": [],
   "source": [
    "#Eiminar el campo APODERADO BANCO del dataset\n",
    "df = df.drop(columns=['APODERADO BANCO'])"
   ]
  },
  {
   "cell_type": "code",
   "execution_count": 11868,
   "id": "2b8a37d6",
   "metadata": {},
   "outputs": [
    {
     "data": {
      "text/plain": [
       "TIPO_DE_PROCESO    0\n",
       "CIUDAD             0\n",
       "REGION             0\n",
       "AÑO DEMANDA        0\n",
       "RED                0\n",
       "TIPO_RELACION      0\n",
       "PRETENSIÓN         0\n",
       "CLASE              0\n",
       "ESTADO_ACTUAL      0\n",
       "dtype: int64"
      ]
     },
     "execution_count": 11868,
     "metadata": {},
     "output_type": "execute_result"
    }
   ],
   "source": [
    "#Vamos a validar que ya no tengamos nulos en el dataset\n",
    "df.isnull().sum()"
   ]
  },
  {
   "cell_type": "markdown",
   "id": "e7d0753f",
   "metadata": {},
   "source": [
    "Después del proceso de limpieza y validación de cada uno de los campo (importante en el proceso - ETL), Validamos finalmente toda la base de datos y seguimos con el analisis del EDA"
   ]
  },
  {
   "cell_type": "markdown",
   "id": "bb13f3ca",
   "metadata": {},
   "source": [
    "## 1 Hacemos un EDA, y así entendemos los datos"
   ]
  },
  {
   "cell_type": "code",
   "execution_count": 11869,
   "id": "b776de98",
   "metadata": {},
   "outputs": [
    {
     "name": "stdout",
     "output_type": "stream",
     "text": [
      "<class 'pandas.core.frame.DataFrame'>\n",
      "Index: 1260 entries, 11 to 1693\n",
      "Data columns (total 9 columns):\n",
      " #   Column           Non-Null Count  Dtype \n",
      "---  ------           --------------  ----- \n",
      " 0   TIPO_DE_PROCESO  1260 non-null   object\n",
      " 1   CIUDAD           1260 non-null   object\n",
      " 2   REGION           1260 non-null   object\n",
      " 3   AÑO DEMANDA      1260 non-null   int64 \n",
      " 4   RED              1260 non-null   object\n",
      " 5   TIPO_RELACION    1260 non-null   object\n",
      " 6   PRETENSIÓN       1260 non-null   object\n",
      " 7   CLASE            1260 non-null   object\n",
      " 8   ESTADO_ACTUAL    1260 non-null   object\n",
      "dtypes: int64(1), object(8)\n",
      "memory usage: 98.4+ KB\n"
     ]
    }
   ],
   "source": [
    "#Revisamos la estructura final del dataset\n",
    "df.info()"
   ]
  },
  {
   "cell_type": "markdown",
   "id": "8aaab363",
   "metadata": {},
   "source": [
    "Según el cuadro anterior, podemos evidenciar que ya no tenemos nulos"
   ]
  },
  {
   "cell_type": "code",
   "execution_count": 11870,
   "id": "3f101dca",
   "metadata": {},
   "outputs": [
    {
     "data": {
      "image/png": "[encoded data removed]",
      "text/plain": [
       "<Figure size 1000x600 with 1 Axes>"
      ]
     },
     "metadata": {},
     "output_type": "display_data"
    }
   ],
   "source": [
    "plt.figure(figsize=(10,6))\n",
    "sns.heatmap(df.isnull(), cbar=False, cmap='viridis')\n",
    "plt.title('Mapa de calor de valores nulos')\n",
    "plt.show()"
   ]
  },
  {
   "cell_type": "code",
   "execution_count": 11871,
   "id": "18769f27",
   "metadata": {},
   "outputs": [
    {
     "data": {
      "text/html": [
       "<div>\n",
       "<style scoped>\n",
       "    .dataframe tbody tr th:only-of-type {\n",
       "        vertical-align: middle;\n",
       "    }\n",
       "\n",
       "    .dataframe tbody tr th {\n",
       "        vertical-align: top;\n",
       "    }\n",
       "\n",
       "    .dataframe thead th {\n",
       "        text-align: right;\n",
       "    }\n",
       "</style>\n",
       "<table border=\"1\" class=\"dataframe\">\n",
       "  <thead>\n",
       "    <tr style=\"text-align: right;\">\n",
       "      <th></th>\n",
       "      <th>count</th>\n",
       "      <th>unique</th>\n",
       "      <th>top</th>\n",
       "      <th>freq</th>\n",
       "      <th>mean</th>\n",
       "      <th>std</th>\n",
       "      <th>min</th>\n",
       "      <th>25%</th>\n",
       "      <th>50%</th>\n",
       "      <th>75%</th>\n",
       "      <th>max</th>\n",
       "    </tr>\n",
       "  </thead>\n",
       "  <tbody>\n",
       "    <tr>\n",
       "      <th>TIPO_DE_PROCESO</th>\n",
       "      <td>1260</td>\n",
       "      <td>4</td>\n",
       "      <td>Ordinario</td>\n",
       "      <td>1138</td>\n",
       "      <td>NaN</td>\n",
       "      <td>NaN</td>\n",
       "      <td>NaN</td>\n",
       "      <td>NaN</td>\n",
       "      <td>NaN</td>\n",
       "      <td>NaN</td>\n",
       "      <td>NaN</td>\n",
       "    </tr>\n",
       "    <tr>\n",
       "      <th>CIUDAD</th>\n",
       "      <td>1260</td>\n",
       "      <td>86</td>\n",
       "      <td>bogota</td>\n",
       "      <td>334</td>\n",
       "      <td>NaN</td>\n",
       "      <td>NaN</td>\n",
       "      <td>NaN</td>\n",
       "      <td>NaN</td>\n",
       "      <td>NaN</td>\n",
       "      <td>NaN</td>\n",
       "      <td>NaN</td>\n",
       "    </tr>\n",
       "    <tr>\n",
       "      <th>REGION</th>\n",
       "      <td>1260</td>\n",
       "      <td>5</td>\n",
       "      <td>Bogotá</td>\n",
       "      <td>352</td>\n",
       "      <td>NaN</td>\n",
       "      <td>NaN</td>\n",
       "      <td>NaN</td>\n",
       "      <td>NaN</td>\n",
       "      <td>NaN</td>\n",
       "      <td>NaN</td>\n",
       "      <td>NaN</td>\n",
       "    </tr>\n",
       "    <tr>\n",
       "      <th>AÑO DEMANDA</th>\n",
       "      <td>1260.0</td>\n",
       "      <td>NaN</td>\n",
       "      <td>NaN</td>\n",
       "      <td>NaN</td>\n",
       "      <td>2009.345238</td>\n",
       "      <td>6.341664</td>\n",
       "      <td>2000.0</td>\n",
       "      <td>2003.0</td>\n",
       "      <td>2009.0</td>\n",
       "      <td>2015.0</td>\n",
       "      <td>2023.0</td>\n",
       "    </tr>\n",
       "    <tr>\n",
       "      <th>RED</th>\n",
       "      <td>1260</td>\n",
       "      <td>5</td>\n",
       "      <td>Bancolombia</td>\n",
       "      <td>508</td>\n",
       "      <td>NaN</td>\n",
       "      <td>NaN</td>\n",
       "      <td>NaN</td>\n",
       "      <td>NaN</td>\n",
       "      <td>NaN</td>\n",
       "      <td>NaN</td>\n",
       "      <td>NaN</td>\n",
       "    </tr>\n",
       "    <tr>\n",
       "      <th>TIPO_RELACION</th>\n",
       "      <td>1260</td>\n",
       "      <td>3</td>\n",
       "      <td>Jubilado</td>\n",
       "      <td>986</td>\n",
       "      <td>NaN</td>\n",
       "      <td>NaN</td>\n",
       "      <td>NaN</td>\n",
       "      <td>NaN</td>\n",
       "      <td>NaN</td>\n",
       "      <td>NaN</td>\n",
       "      <td>NaN</td>\n",
       "    </tr>\n",
       "    <tr>\n",
       "      <th>PRETENSIÓN</th>\n",
       "      <td>1260</td>\n",
       "      <td>6</td>\n",
       "      <td>indemnización</td>\n",
       "      <td>454</td>\n",
       "      <td>NaN</td>\n",
       "      <td>NaN</td>\n",
       "      <td>NaN</td>\n",
       "      <td>NaN</td>\n",
       "      <td>NaN</td>\n",
       "      <td>NaN</td>\n",
       "      <td>NaN</td>\n",
       "    </tr>\n",
       "    <tr>\n",
       "      <th>CLASE</th>\n",
       "      <td>1260</td>\n",
       "      <td>3</td>\n",
       "      <td>probable</td>\n",
       "      <td>865</td>\n",
       "      <td>NaN</td>\n",
       "      <td>NaN</td>\n",
       "      <td>NaN</td>\n",
       "      <td>NaN</td>\n",
       "      <td>NaN</td>\n",
       "      <td>NaN</td>\n",
       "      <td>NaN</td>\n",
       "    </tr>\n",
       "    <tr>\n",
       "      <th>ESTADO_ACTUAL</th>\n",
       "      <td>1260</td>\n",
       "      <td>13</td>\n",
       "      <td>otros</td>\n",
       "      <td>456</td>\n",
       "      <td>NaN</td>\n",
       "      <td>NaN</td>\n",
       "      <td>NaN</td>\n",
       "      <td>NaN</td>\n",
       "      <td>NaN</td>\n",
       "      <td>NaN</td>\n",
       "      <td>NaN</td>\n",
       "    </tr>\n",
       "  </tbody>\n",
       "</table>\n",
       "</div>"
      ],
      "text/plain": [
       "                  count unique            top  freq         mean       std  \\\n",
       "TIPO_DE_PROCESO    1260      4      Ordinario  1138          NaN       NaN   \n",
       "CIUDAD             1260     86         bogota   334          NaN       NaN   \n",
       "REGION             1260      5         Bogotá   352          NaN       NaN   \n",
       "AÑO DEMANDA      1260.0    NaN            NaN   NaN  2009.345238  6.341664   \n",
       "RED                1260      5    Bancolombia   508          NaN       NaN   \n",
       "TIPO_RELACION      1260      3       Jubilado   986          NaN       NaN   \n",
       "PRETENSIÓN         1260      6  indemnización   454          NaN       NaN   \n",
       "CLASE              1260      3       probable   865          NaN       NaN   \n",
       "ESTADO_ACTUAL      1260     13          otros   456          NaN       NaN   \n",
       "\n",
       "                    min     25%     50%     75%     max  \n",
       "TIPO_DE_PROCESO     NaN     NaN     NaN     NaN     NaN  \n",
       "CIUDAD              NaN     NaN     NaN     NaN     NaN  \n",
       "REGION              NaN     NaN     NaN     NaN     NaN  \n",
       "AÑO DEMANDA      2000.0  2003.0  2009.0  2015.0  2023.0  \n",
       "RED                 NaN     NaN     NaN     NaN     NaN  \n",
       "TIPO_RELACION       NaN     NaN     NaN     NaN     NaN  \n",
       "PRETENSIÓN          NaN     NaN     NaN     NaN     NaN  \n",
       "CLASE               NaN     NaN     NaN     NaN     NaN  \n",
       "ESTADO_ACTUAL       NaN     NaN     NaN     NaN     NaN  "
      ]
     },
     "execution_count": 11871,
     "metadata": {},
     "output_type": "execute_result"
    }
   ],
   "source": [
    "#Analizaremos la descripción de cada uno de los campos que tenemos en el dataset\n",
    "df.describe(include='all').T"
   ]
  },
  {
   "cell_type": "markdown",
   "id": "70f3fc1d",
   "metadata": {},
   "source": [
    "Se evidencia una concentración en el tipo de proceso: ordinario, y este fenomeno se da para todos los años analizados (periodo del 2020 al 2023)"
   ]
  },
  {
   "cell_type": "code",
   "execution_count": 11872,
   "id": "4bce7c03",
   "metadata": {},
   "outputs": [
    {
     "data": {
      "text/plain": [
       "<Axes: xlabel='AÑO DEMANDA'>"
      ]
     },
     "execution_count": 11872,
     "metadata": {},
     "output_type": "execute_result"
    },
    {
     "data": {
      "image/png": "[encoded data removed]",
      "text/plain": [
       "<Figure size 1200x600 with 1 Axes>"
      ]
     },
     "metadata": {},
     "output_type": "display_data"
    }
   ],
   "source": [
    "#Ahora, analizamos el campo AÑO DEMANDA por región\n",
    "df.groupby(['AÑO DEMANDA', 'REGION']).size().unstack().plot(kind='bar', stacked=True, figsize=(12,6), colormap='viridis')   "
   ]
  },
  {
   "cell_type": "markdown",
   "id": "654340f9",
   "metadata": {},
   "source": [
    "Es importante resaltar que en todos los años existe una distribución proporcional por todos los años, se evidencia una leve concentración en las ciudades de Antioquia y bogotá"
   ]
  },
  {
   "cell_type": "code",
   "execution_count": 11873,
   "id": "7dad7165",
   "metadata": {},
   "outputs": [
    {
     "data": {
      "text/plain": [
       "<Axes: xlabel='AÑO DEMANDA'>"
      ]
     },
     "execution_count": 11873,
     "metadata": {},
     "output_type": "execute_result"
    },
    {
     "data": {
      "image/png": "[encoded data removed]",
      "text/plain": [
       "<Figure size 1200x600 with 1 Axes>"
      ]
     },
     "metadata": {},
     "output_type": "display_data"
    }
   ],
   "source": [
    "#Analizamos también AÑO DEMANDA por RED, con un tipo de grafico de barras apiladas de forma vertical\n",
    "df.groupby(['AÑO DEMANDA', 'RED']).size().unstack().plot(kind='bar', stacked=True, figsize=(12,6), colormap='viridis')\n"
   ]
  },
  {
   "cell_type": "code",
   "execution_count": 11874,
   "id": "444c01bb",
   "metadata": {},
   "outputs": [
    {
     "data": {
      "text/plain": [
       "<Axes: xlabel='AÑO DEMANDA'>"
      ]
     },
     "execution_count": 11874,
     "metadata": {},
     "output_type": "execute_result"
    },
    {
     "data": {
      "image/png": "[encoded data removed]",
      "text/plain": [
       "<Figure size 1200x600 with 1 Axes>"
      ]
     },
     "metadata": {},
     "output_type": "display_data"
    }
   ],
   "source": [
    "#gráfica donde se relacione el AÑO DEMANDA por TIPO RELACIÓN y REGIÓN\n",
    "df.groupby(['AÑO DEMANDA', 'TIPO_RELACION']).size().unstack().plot(kind='bar', stacked=True, figsize=(12,6), colormap='viridis')"
   ]
  },
  {
   "cell_type": "markdown",
   "id": "4a145d87",
   "metadata": {},
   "source": [
    "Se evidencia claramente que las demandas están focalizadas en el tipo de relación Jubilado."
   ]
  },
  {
   "cell_type": "code",
   "execution_count": 11875,
   "id": "d4337a6a",
   "metadata": {},
   "outputs": [
    {
     "data": {
      "text/plain": [
       "<Figure size 1200x600 with 0 Axes>"
      ]
     },
     "metadata": {},
     "output_type": "display_data"
    },
    {
     "data": {
      "image/png": "[encoded data removed]",
      "text/plain": [
       "<Figure size 1200x600 with 1 Axes>"
      ]
     },
     "metadata": {},
     "output_type": "display_data"
    }
   ],
   "source": [
    "#Grafico lineal historico por tipo de pretencion\n",
    "plt.figure(figsize=(12,6))\n",
    "df.groupby(['AÑO DEMANDA', 'PRETENSIÓN']).size().unstack().plot(kind='line', marker='o', figsize=(12,6), colormap='viridis')\n",
    "plt.title('Tendencia de casos por año y pretensión')\n",
    "plt.xlabel('Año de Demanda')\n",
    "plt.ylabel('Número de casos')\n",
    "plt.xticks(rotation=45)\n",
    "plt.legend(title='Pretensión')\n",
    "plt.show()"
   ]
  },
  {
   "cell_type": "code",
   "execution_count": 11876,
   "id": "9458afdc",
   "metadata": {},
   "outputs": [],
   "source": [
    "#Eliminamos el campo de año\n",
    "df = df.drop(columns=['AÑO DEMANDA'])"
   ]
  },
  {
   "cell_type": "code",
   "execution_count": 11877,
   "id": "5c2103f7",
   "metadata": {},
   "outputs": [
    {
     "name": "stdout",
     "output_type": "stream",
     "text": [
      "<class 'pandas.core.frame.DataFrame'>\n",
      "Index: 1260 entries, 11 to 1693\n",
      "Data columns (total 8 columns):\n",
      " #   Column           Non-Null Count  Dtype \n",
      "---  ------           --------------  ----- \n",
      " 0   TIPO_DE_PROCESO  1260 non-null   object\n",
      " 1   CIUDAD           1260 non-null   object\n",
      " 2   REGION           1260 non-null   object\n",
      " 3   RED              1260 non-null   object\n",
      " 4   TIPO_RELACION    1260 non-null   object\n",
      " 5   PRETENSIÓN       1260 non-null   object\n",
      " 6   CLASE            1260 non-null   object\n",
      " 7   ESTADO_ACTUAL    1260 non-null   object\n",
      "dtypes: object(8)\n",
      "memory usage: 88.6+ KB\n"
     ]
    },
    {
     "data": {
      "text/html": [
       "<div>\n",
       "<style scoped>\n",
       "    .dataframe tbody tr th:only-of-type {\n",
       "        vertical-align: middle;\n",
       "    }\n",
       "\n",
       "    .dataframe tbody tr th {\n",
       "        vertical-align: top;\n",
       "    }\n",
       "\n",
       "    .dataframe thead th {\n",
       "        text-align: right;\n",
       "    }\n",
       "</style>\n",
       "<table border=\"1\" class=\"dataframe\">\n",
       "  <thead>\n",
       "    <tr style=\"text-align: right;\">\n",
       "      <th></th>\n",
       "      <th>TIPO_DE_PROCESO</th>\n",
       "      <th>CIUDAD</th>\n",
       "      <th>REGION</th>\n",
       "      <th>RED</th>\n",
       "      <th>TIPO_RELACION</th>\n",
       "      <th>PRETENSIÓN</th>\n",
       "      <th>CLASE</th>\n",
       "      <th>ESTADO_ACTUAL</th>\n",
       "    </tr>\n",
       "  </thead>\n",
       "  <tbody>\n",
       "    <tr>\n",
       "      <th>11</th>\n",
       "      <td>Ordinario</td>\n",
       "      <td>bogota</td>\n",
       "      <td>Bogotá</td>\n",
       "      <td>Bancolombia</td>\n",
       "      <td>Jubilado</td>\n",
       "      <td>indemnización</td>\n",
       "      <td>probable</td>\n",
       "      <td>conciliado</td>\n",
       "    </tr>\n",
       "    <tr>\n",
       "      <th>86</th>\n",
       "      <td>Ordinario</td>\n",
       "      <td>bogota</td>\n",
       "      <td>Bogotá</td>\n",
       "      <td>Bancolombia</td>\n",
       "      <td>Jubilado</td>\n",
       "      <td>otros</td>\n",
       "      <td>probable</td>\n",
       "      <td>favorable</td>\n",
       "    </tr>\n",
       "    <tr>\n",
       "      <th>226</th>\n",
       "      <td>Ordinario</td>\n",
       "      <td>palmira</td>\n",
       "      <td>Sur</td>\n",
       "      <td>Bancolombia</td>\n",
       "      <td>Jubilado</td>\n",
       "      <td>otros</td>\n",
       "      <td>probable</td>\n",
       "      <td>conciliado</td>\n",
       "    </tr>\n",
       "    <tr>\n",
       "      <th>244</th>\n",
       "      <td>Ordinario</td>\n",
       "      <td>sincelejo</td>\n",
       "      <td>Caribe</td>\n",
       "      <td>Bancolombia</td>\n",
       "      <td>Jubilado</td>\n",
       "      <td>otros</td>\n",
       "      <td>probable</td>\n",
       "      <td>favorable</td>\n",
       "    </tr>\n",
       "    <tr>\n",
       "      <th>247</th>\n",
       "      <td>Ordinario</td>\n",
       "      <td>medellin</td>\n",
       "      <td>Antioquia</td>\n",
       "      <td>Bancolombia</td>\n",
       "      <td>Jubilado</td>\n",
       "      <td>jubilacion</td>\n",
       "      <td>probable</td>\n",
       "      <td>favorable</td>\n",
       "    </tr>\n",
       "  </tbody>\n",
       "</table>\n",
       "</div>"
      ],
      "text/plain": [
       "    TIPO_DE_PROCESO     CIUDAD     REGION          RED TIPO_RELACION  \\\n",
       "11        Ordinario     bogota     Bogotá  Bancolombia      Jubilado   \n",
       "86        Ordinario     bogota     Bogotá  Bancolombia      Jubilado   \n",
       "226       Ordinario    palmira        Sur  Bancolombia      Jubilado   \n",
       "244       Ordinario  sincelejo     Caribe  Bancolombia      Jubilado   \n",
       "247       Ordinario   medellin  Antioquia  Bancolombia      Jubilado   \n",
       "\n",
       "        PRETENSIÓN     CLASE ESTADO_ACTUAL  \n",
       "11   indemnización  probable    conciliado  \n",
       "86           otros  probable     favorable  \n",
       "226          otros  probable    conciliado  \n",
       "244          otros  probable     favorable  \n",
       "247     jubilacion  probable     favorable  "
      ]
     },
     "execution_count": 11877,
     "metadata": {},
     "output_type": "execute_result"
    }
   ],
   "source": [
    "# Revisamos el dataset final\n",
    "df.info()\n",
    "df.head()"
   ]
  },
  {
   "cell_type": "code",
   "execution_count": 11878,
   "id": "719d4d94",
   "metadata": {},
   "outputs": [
    {
     "data": {
      "text/html": [
       "<div>\n",
       "<style scoped>\n",
       "    .dataframe tbody tr th:only-of-type {\n",
       "        vertical-align: middle;\n",
       "    }\n",
       "\n",
       "    .dataframe tbody tr th {\n",
       "        vertical-align: top;\n",
       "    }\n",
       "\n",
       "    .dataframe thead th {\n",
       "        text-align: right;\n",
       "    }\n",
       "</style>\n",
       "<table border=\"1\" class=\"dataframe\">\n",
       "  <thead>\n",
       "    <tr style=\"text-align: right;\">\n",
       "      <th></th>\n",
       "      <th>TIPO_DE_PROCESO</th>\n",
       "      <th>CIUDAD</th>\n",
       "      <th>REGION</th>\n",
       "      <th>RED</th>\n",
       "      <th>TIPO_RELACION</th>\n",
       "      <th>PRETENSIÓN</th>\n",
       "      <th>CLASE</th>\n",
       "      <th>ESTADO_ACTUAL</th>\n",
       "    </tr>\n",
       "  </thead>\n",
       "  <tbody>\n",
       "    <tr>\n",
       "      <th>11</th>\n",
       "      <td>Ordinario</td>\n",
       "      <td>bogota</td>\n",
       "      <td>Bogotá</td>\n",
       "      <td>Bancolombia</td>\n",
       "      <td>Jubilado</td>\n",
       "      <td>indemnización</td>\n",
       "      <td>probable</td>\n",
       "      <td>conciliado</td>\n",
       "    </tr>\n",
       "    <tr>\n",
       "      <th>86</th>\n",
       "      <td>Ordinario</td>\n",
       "      <td>bogota</td>\n",
       "      <td>Bogotá</td>\n",
       "      <td>Bancolombia</td>\n",
       "      <td>Jubilado</td>\n",
       "      <td>otros</td>\n",
       "      <td>probable</td>\n",
       "      <td>favorable</td>\n",
       "    </tr>\n",
       "    <tr>\n",
       "      <th>226</th>\n",
       "      <td>Ordinario</td>\n",
       "      <td>palmira</td>\n",
       "      <td>Sur</td>\n",
       "      <td>Bancolombia</td>\n",
       "      <td>Jubilado</td>\n",
       "      <td>otros</td>\n",
       "      <td>probable</td>\n",
       "      <td>conciliado</td>\n",
       "    </tr>\n",
       "    <tr>\n",
       "      <th>244</th>\n",
       "      <td>Ordinario</td>\n",
       "      <td>sincelejo</td>\n",
       "      <td>Caribe</td>\n",
       "      <td>Bancolombia</td>\n",
       "      <td>Jubilado</td>\n",
       "      <td>otros</td>\n",
       "      <td>probable</td>\n",
       "      <td>favorable</td>\n",
       "    </tr>\n",
       "    <tr>\n",
       "      <th>247</th>\n",
       "      <td>Ordinario</td>\n",
       "      <td>medellin</td>\n",
       "      <td>Antioquia</td>\n",
       "      <td>Bancolombia</td>\n",
       "      <td>Jubilado</td>\n",
       "      <td>jubilacion</td>\n",
       "      <td>probable</td>\n",
       "      <td>favorable</td>\n",
       "    </tr>\n",
       "  </tbody>\n",
       "</table>\n",
       "</div>"
      ],
      "text/plain": [
       "    TIPO_DE_PROCESO     CIUDAD     REGION          RED TIPO_RELACION  \\\n",
       "11        Ordinario     bogota     Bogotá  Bancolombia      Jubilado   \n",
       "86        Ordinario     bogota     Bogotá  Bancolombia      Jubilado   \n",
       "226       Ordinario    palmira        Sur  Bancolombia      Jubilado   \n",
       "244       Ordinario  sincelejo     Caribe  Bancolombia      Jubilado   \n",
       "247       Ordinario   medellin  Antioquia  Bancolombia      Jubilado   \n",
       "\n",
       "        PRETENSIÓN     CLASE ESTADO_ACTUAL  \n",
       "11   indemnización  probable    conciliado  \n",
       "86           otros  probable     favorable  \n",
       "226          otros  probable    conciliado  \n",
       "244          otros  probable     favorable  \n",
       "247     jubilacion  probable     favorable  "
      ]
     },
     "execution_count": 11878,
     "metadata": {},
     "output_type": "execute_result"
    }
   ],
   "source": [
    "#Conocemos el dataset final:\n",
    "df.head()"
   ]
  },
  {
   "cell_type": "code",
   "execution_count": 11879,
   "id": "b07941c6",
   "metadata": {},
   "outputs": [
    {
     "data": {
      "text/html": [
       "<div>\n",
       "<style scoped>\n",
       "    .dataframe tbody tr th:only-of-type {\n",
       "        vertical-align: middle;\n",
       "    }\n",
       "\n",
       "    .dataframe tbody tr th {\n",
       "        vertical-align: top;\n",
       "    }\n",
       "\n",
       "    .dataframe thead th {\n",
       "        text-align: right;\n",
       "    }\n",
       "</style>\n",
       "<table border=\"1\" class=\"dataframe\">\n",
       "  <thead>\n",
       "    <tr style=\"text-align: right;\">\n",
       "      <th></th>\n",
       "      <th>TIPO_DE_PROCESO</th>\n",
       "      <th>CIUDAD</th>\n",
       "      <th>REGION</th>\n",
       "      <th>RED</th>\n",
       "      <th>TIPO_RELACION</th>\n",
       "      <th>PRETENSIÓN</th>\n",
       "      <th>CLASE</th>\n",
       "      <th>ESTADO_ACTUAL</th>\n",
       "    </tr>\n",
       "  </thead>\n",
       "  <tbody>\n",
       "    <tr>\n",
       "      <th>11</th>\n",
       "      <td>Ordinario</td>\n",
       "      <td>bogota</td>\n",
       "      <td>Bogotá</td>\n",
       "      <td>Bancolombia</td>\n",
       "      <td>Jubilado</td>\n",
       "      <td>indemnización</td>\n",
       "      <td>probable</td>\n",
       "      <td>conciliado</td>\n",
       "    </tr>\n",
       "    <tr>\n",
       "      <th>86</th>\n",
       "      <td>Ordinario</td>\n",
       "      <td>bogota</td>\n",
       "      <td>Bogotá</td>\n",
       "      <td>Bancolombia</td>\n",
       "      <td>Jubilado</td>\n",
       "      <td>otros</td>\n",
       "      <td>probable</td>\n",
       "      <td>favorable</td>\n",
       "    </tr>\n",
       "    <tr>\n",
       "      <th>226</th>\n",
       "      <td>Ordinario</td>\n",
       "      <td>palmira</td>\n",
       "      <td>Sur</td>\n",
       "      <td>Bancolombia</td>\n",
       "      <td>Jubilado</td>\n",
       "      <td>otros</td>\n",
       "      <td>probable</td>\n",
       "      <td>conciliado</td>\n",
       "    </tr>\n",
       "    <tr>\n",
       "      <th>244</th>\n",
       "      <td>Ordinario</td>\n",
       "      <td>sincelejo</td>\n",
       "      <td>Caribe</td>\n",
       "      <td>Bancolombia</td>\n",
       "      <td>Jubilado</td>\n",
       "      <td>otros</td>\n",
       "      <td>probable</td>\n",
       "      <td>favorable</td>\n",
       "    </tr>\n",
       "    <tr>\n",
       "      <th>247</th>\n",
       "      <td>Ordinario</td>\n",
       "      <td>medellin</td>\n",
       "      <td>Antioquia</td>\n",
       "      <td>Bancolombia</td>\n",
       "      <td>Jubilado</td>\n",
       "      <td>jubilacion</td>\n",
       "      <td>probable</td>\n",
       "      <td>favorable</td>\n",
       "    </tr>\n",
       "  </tbody>\n",
       "</table>\n",
       "</div>"
      ],
      "text/plain": [
       "    TIPO_DE_PROCESO     CIUDAD     REGION          RED TIPO_RELACION  \\\n",
       "11        Ordinario     bogota     Bogotá  Bancolombia      Jubilado   \n",
       "86        Ordinario     bogota     Bogotá  Bancolombia      Jubilado   \n",
       "226       Ordinario    palmira        Sur  Bancolombia      Jubilado   \n",
       "244       Ordinario  sincelejo     Caribe  Bancolombia      Jubilado   \n",
       "247       Ordinario   medellin  Antioquia  Bancolombia      Jubilado   \n",
       "\n",
       "        PRETENSIÓN     CLASE ESTADO_ACTUAL  \n",
       "11   indemnización  probable    conciliado  \n",
       "86           otros  probable     favorable  \n",
       "226          otros  probable    conciliado  \n",
       "244          otros  probable     favorable  \n",
       "247     jubilacion  probable     favorable  "
      ]
     },
     "execution_count": 11879,
     "metadata": {},
     "output_type": "execute_result"
    }
   ],
   "source": [
    "\n",
    "df.head()"
   ]
  },
  {
   "cell_type": "markdown",
   "id": "0d425e6b",
   "metadata": {},
   "source": [
    "### 2.  Crea más features"
   ]
  },
  {
   "cell_type": "code",
   "execution_count": 11880,
   "id": "14245413",
   "metadata": {
    "vscode": {
     "languageId": "ruby"
    }
   },
   "outputs": [],
   "source": [
    "# Crear nuevas features en df\n",
    "\n",
    "# 1. Feature: Es ciudad principal (top 10)\n",
    "df['ES_CIUDAD_PRINCIPAL'] = df['CIUDAD'].isin(top_10_ciudades).astype(int)\n",
    "\n",
    "\n",
    "#2. Feature: Pretensión principal (1 si es clase principal, 0 si es 'otros')\n",
    "clases_pretension = ['indemnización', 'reintegro', 'jubilacion', 'fuero sindical', 'salario']\n",
    "df['PRETENSION_PRINCIPAL'] = df['PRETENSIÓN'].isin(clases_pretension).astype(int)\n",
    "\n",
    "# 3. Feature: Estado actual principal (1 si está en clases_principales, 0 si es 'otros')\n",
    "df['ESTADO_ACTUAL_PRINCIPAL'] = df['ESTADO_ACTUAL'].isin(clases_principales).astype(int)\n",
    "\n",
    "# 4. Feature: Relación Jubilado\n",
    "df['ES_JUBILADO'] = (df['TIPO_RELACION'] == 'Jubilado').astype(int)\n",
    "\n",
    "# 5. Crear la nueva feature 'decision' en df\n",
    "exito = ['favorable', 'contestada', 'liquidación', 'terminado', 'conciliado', 'resuelto', 'primera instancia', 'radica contestacion']\n",
    "fracaso = ['pendiente', 'fallo 2a instancia', 'segunda instancia', 'neutro']\n",
    "\n",
    "def clasificar_decision(estado):\n",
    "    if estado in exito:\n",
    "        return 'exito'\n",
    "    elif estado in fracaso:\n",
    "        return 'fracaso'\n",
    "    elif estado == 'otros':\n",
    "        return 'otros'\n",
    "    else:\n",
    "        return 'otros'\n",
    "\n",
    "df['DECISION'] = df['ESTADO_ACTUAL'].apply(clasificar_decision)\n",
    "\n"
   ]
  },
  {
   "cell_type": "code",
   "execution_count": 11881,
   "id": "0011691f",
   "metadata": {
    "vscode": {
     "languageId": "ruby"
    }
   },
   "outputs": [
    {
     "data": {
      "text/html": [
       "<div>\n",
       "<style scoped>\n",
       "    .dataframe tbody tr th:only-of-type {\n",
       "        vertical-align: middle;\n",
       "    }\n",
       "\n",
       "    .dataframe tbody tr th {\n",
       "        vertical-align: top;\n",
       "    }\n",
       "\n",
       "    .dataframe thead th {\n",
       "        text-align: right;\n",
       "    }\n",
       "</style>\n",
       "<table border=\"1\" class=\"dataframe\">\n",
       "  <thead>\n",
       "    <tr style=\"text-align: right;\">\n",
       "      <th></th>\n",
       "      <th>TIPO_DE_PROCESO</th>\n",
       "      <th>CIUDAD</th>\n",
       "      <th>REGION</th>\n",
       "      <th>RED</th>\n",
       "      <th>TIPO_RELACION</th>\n",
       "      <th>PRETENSIÓN</th>\n",
       "      <th>CLASE</th>\n",
       "      <th>ESTADO_ACTUAL</th>\n",
       "      <th>ES_CIUDAD_PRINCIPAL</th>\n",
       "      <th>PRETENSION_PRINCIPAL</th>\n",
       "      <th>ESTADO_ACTUAL_PRINCIPAL</th>\n",
       "      <th>ES_JUBILADO</th>\n",
       "      <th>DECISION</th>\n",
       "    </tr>\n",
       "  </thead>\n",
       "  <tbody>\n",
       "    <tr>\n",
       "      <th>11</th>\n",
       "      <td>Ordinario</td>\n",
       "      <td>bogota</td>\n",
       "      <td>Bogotá</td>\n",
       "      <td>Bancolombia</td>\n",
       "      <td>Jubilado</td>\n",
       "      <td>indemnización</td>\n",
       "      <td>probable</td>\n",
       "      <td>conciliado</td>\n",
       "      <td>1</td>\n",
       "      <td>1</td>\n",
       "      <td>1</td>\n",
       "      <td>1</td>\n",
       "      <td>exito</td>\n",
       "    </tr>\n",
       "    <tr>\n",
       "      <th>86</th>\n",
       "      <td>Ordinario</td>\n",
       "      <td>bogota</td>\n",
       "      <td>Bogotá</td>\n",
       "      <td>Bancolombia</td>\n",
       "      <td>Jubilado</td>\n",
       "      <td>otros</td>\n",
       "      <td>probable</td>\n",
       "      <td>favorable</td>\n",
       "      <td>1</td>\n",
       "      <td>0</td>\n",
       "      <td>1</td>\n",
       "      <td>1</td>\n",
       "      <td>exito</td>\n",
       "    </tr>\n",
       "    <tr>\n",
       "      <th>226</th>\n",
       "      <td>Ordinario</td>\n",
       "      <td>palmira</td>\n",
       "      <td>Sur</td>\n",
       "      <td>Bancolombia</td>\n",
       "      <td>Jubilado</td>\n",
       "      <td>otros</td>\n",
       "      <td>probable</td>\n",
       "      <td>conciliado</td>\n",
       "      <td>0</td>\n",
       "      <td>0</td>\n",
       "      <td>1</td>\n",
       "      <td>1</td>\n",
       "      <td>exito</td>\n",
       "    </tr>\n",
       "    <tr>\n",
       "      <th>244</th>\n",
       "      <td>Ordinario</td>\n",
       "      <td>sincelejo</td>\n",
       "      <td>Caribe</td>\n",
       "      <td>Bancolombia</td>\n",
       "      <td>Jubilado</td>\n",
       "      <td>otros</td>\n",
       "      <td>probable</td>\n",
       "      <td>favorable</td>\n",
       "      <td>0</td>\n",
       "      <td>0</td>\n",
       "      <td>1</td>\n",
       "      <td>1</td>\n",
       "      <td>exito</td>\n",
       "    </tr>\n",
       "    <tr>\n",
       "      <th>247</th>\n",
       "      <td>Ordinario</td>\n",
       "      <td>medellin</td>\n",
       "      <td>Antioquia</td>\n",
       "      <td>Bancolombia</td>\n",
       "      <td>Jubilado</td>\n",
       "      <td>jubilacion</td>\n",
       "      <td>probable</td>\n",
       "      <td>favorable</td>\n",
       "      <td>1</td>\n",
       "      <td>1</td>\n",
       "      <td>1</td>\n",
       "      <td>1</td>\n",
       "      <td>exito</td>\n",
       "    </tr>\n",
       "  </tbody>\n",
       "</table>\n",
       "</div>"
      ],
      "text/plain": [
       "    TIPO_DE_PROCESO     CIUDAD     REGION          RED TIPO_RELACION  \\\n",
       "11        Ordinario     bogota     Bogotá  Bancolombia      Jubilado   \n",
       "86        Ordinario     bogota     Bogotá  Bancolombia      Jubilado   \n",
       "226       Ordinario    palmira        Sur  Bancolombia      Jubilado   \n",
       "244       Ordinario  sincelejo     Caribe  Bancolombia      Jubilado   \n",
       "247       Ordinario   medellin  Antioquia  Bancolombia      Jubilado   \n",
       "\n",
       "        PRETENSIÓN     CLASE ESTADO_ACTUAL  ES_CIUDAD_PRINCIPAL  \\\n",
       "11   indemnización  probable    conciliado                    1   \n",
       "86           otros  probable     favorable                    1   \n",
       "226          otros  probable    conciliado                    0   \n",
       "244          otros  probable     favorable                    0   \n",
       "247     jubilacion  probable     favorable                    1   \n",
       "\n",
       "     PRETENSION_PRINCIPAL  ESTADO_ACTUAL_PRINCIPAL  ES_JUBILADO DECISION  \n",
       "11                      1                        1            1    exito  \n",
       "86                      0                        1            1    exito  \n",
       "226                     0                        1            1    exito  \n",
       "244                     0                        1            1    exito  \n",
       "247                     1                        1            1    exito  "
      ]
     },
     "execution_count": 11881,
     "metadata": {},
     "output_type": "execute_result"
    }
   ],
   "source": [
    "# Mostrar las nuevas columnas\n",
    "df.head()"
   ]
  },
  {
   "cell_type": "code",
   "execution_count": 11882,
   "id": "338abd0c",
   "metadata": {},
   "outputs": [],
   "source": [
    "# Quitar el índice del DataFrame df y resetearlo\n",
    "df = df.reset_index(drop=True)"
   ]
  },
  {
   "cell_type": "code",
   "execution_count": 11883,
   "id": "933f5001",
   "metadata": {},
   "outputs": [
    {
     "data": {
      "text/html": [
       "<div>\n",
       "<style scoped>\n",
       "    .dataframe tbody tr th:only-of-type {\n",
       "        vertical-align: middle;\n",
       "    }\n",
       "\n",
       "    .dataframe tbody tr th {\n",
       "        vertical-align: top;\n",
       "    }\n",
       "\n",
       "    .dataframe thead th {\n",
       "        text-align: right;\n",
       "    }\n",
       "</style>\n",
       "<table border=\"1\" class=\"dataframe\">\n",
       "  <thead>\n",
       "    <tr style=\"text-align: right;\">\n",
       "      <th></th>\n",
       "      <th>TIPO_DE_PROCESO</th>\n",
       "      <th>CIUDAD</th>\n",
       "      <th>REGION</th>\n",
       "      <th>RED</th>\n",
       "      <th>TIPO_RELACION</th>\n",
       "      <th>PRETENSIÓN</th>\n",
       "      <th>CLASE</th>\n",
       "      <th>ESTADO_ACTUAL</th>\n",
       "      <th>ES_CIUDAD_PRINCIPAL</th>\n",
       "      <th>PRETENSION_PRINCIPAL</th>\n",
       "      <th>ESTADO_ACTUAL_PRINCIPAL</th>\n",
       "      <th>ES_JUBILADO</th>\n",
       "      <th>DECISION</th>\n",
       "    </tr>\n",
       "  </thead>\n",
       "  <tbody>\n",
       "    <tr>\n",
       "      <th>0</th>\n",
       "      <td>Ordinario</td>\n",
       "      <td>bogota</td>\n",
       "      <td>Bogotá</td>\n",
       "      <td>Bancolombia</td>\n",
       "      <td>Jubilado</td>\n",
       "      <td>indemnización</td>\n",
       "      <td>probable</td>\n",
       "      <td>conciliado</td>\n",
       "      <td>1</td>\n",
       "      <td>1</td>\n",
       "      <td>1</td>\n",
       "      <td>1</td>\n",
       "      <td>exito</td>\n",
       "    </tr>\n",
       "    <tr>\n",
       "      <th>1</th>\n",
       "      <td>Ordinario</td>\n",
       "      <td>bogota</td>\n",
       "      <td>Bogotá</td>\n",
       "      <td>Bancolombia</td>\n",
       "      <td>Jubilado</td>\n",
       "      <td>otros</td>\n",
       "      <td>probable</td>\n",
       "      <td>favorable</td>\n",
       "      <td>1</td>\n",
       "      <td>0</td>\n",
       "      <td>1</td>\n",
       "      <td>1</td>\n",
       "      <td>exito</td>\n",
       "    </tr>\n",
       "    <tr>\n",
       "      <th>2</th>\n",
       "      <td>Ordinario</td>\n",
       "      <td>palmira</td>\n",
       "      <td>Sur</td>\n",
       "      <td>Bancolombia</td>\n",
       "      <td>Jubilado</td>\n",
       "      <td>otros</td>\n",
       "      <td>probable</td>\n",
       "      <td>conciliado</td>\n",
       "      <td>0</td>\n",
       "      <td>0</td>\n",
       "      <td>1</td>\n",
       "      <td>1</td>\n",
       "      <td>exito</td>\n",
       "    </tr>\n",
       "    <tr>\n",
       "      <th>3</th>\n",
       "      <td>Ordinario</td>\n",
       "      <td>sincelejo</td>\n",
       "      <td>Caribe</td>\n",
       "      <td>Bancolombia</td>\n",
       "      <td>Jubilado</td>\n",
       "      <td>otros</td>\n",
       "      <td>probable</td>\n",
       "      <td>favorable</td>\n",
       "      <td>0</td>\n",
       "      <td>0</td>\n",
       "      <td>1</td>\n",
       "      <td>1</td>\n",
       "      <td>exito</td>\n",
       "    </tr>\n",
       "    <tr>\n",
       "      <th>4</th>\n",
       "      <td>Ordinario</td>\n",
       "      <td>medellin</td>\n",
       "      <td>Antioquia</td>\n",
       "      <td>Bancolombia</td>\n",
       "      <td>Jubilado</td>\n",
       "      <td>jubilacion</td>\n",
       "      <td>probable</td>\n",
       "      <td>favorable</td>\n",
       "      <td>1</td>\n",
       "      <td>1</td>\n",
       "      <td>1</td>\n",
       "      <td>1</td>\n",
       "      <td>exito</td>\n",
       "    </tr>\n",
       "  </tbody>\n",
       "</table>\n",
       "</div>"
      ],
      "text/plain": [
       "  TIPO_DE_PROCESO     CIUDAD     REGION          RED TIPO_RELACION  \\\n",
       "0       Ordinario     bogota     Bogotá  Bancolombia      Jubilado   \n",
       "1       Ordinario     bogota     Bogotá  Bancolombia      Jubilado   \n",
       "2       Ordinario    palmira        Sur  Bancolombia      Jubilado   \n",
       "3       Ordinario  sincelejo     Caribe  Bancolombia      Jubilado   \n",
       "4       Ordinario   medellin  Antioquia  Bancolombia      Jubilado   \n",
       "\n",
       "      PRETENSIÓN     CLASE ESTADO_ACTUAL  ES_CIUDAD_PRINCIPAL  \\\n",
       "0  indemnización  probable    conciliado                    1   \n",
       "1          otros  probable     favorable                    1   \n",
       "2          otros  probable    conciliado                    0   \n",
       "3          otros  probable     favorable                    0   \n",
       "4     jubilacion  probable     favorable                    1   \n",
       "\n",
       "   PRETENSION_PRINCIPAL  ESTADO_ACTUAL_PRINCIPAL  ES_JUBILADO DECISION  \n",
       "0                     1                        1            1    exito  \n",
       "1                     0                        1            1    exito  \n",
       "2                     0                        1            1    exito  \n",
       "3                     0                        1            1    exito  \n",
       "4                     1                        1            1    exito  "
      ]
     },
     "execution_count": 11883,
     "metadata": {},
     "output_type": "execute_result"
    }
   ],
   "source": [
    "df.head()"
   ]
  },
  {
   "cell_type": "code",
   "execution_count": 11884,
   "id": "ff0dd690",
   "metadata": {},
   "outputs": [],
   "source": [
    "# Exportar el DataFrame df a un archivo Excel\n",
    "df.to_excel('datos_limpios.xlsx', index=False)"
   ]
  },
  {
   "cell_type": "code",
   "execution_count": 11885,
   "id": "e1f73106",
   "metadata": {},
   "outputs": [
    {
     "name": "stdout",
     "output_type": "stream",
     "text": [
      "<class 'pandas.core.frame.DataFrame'>\n",
      "RangeIndex: 1260 entries, 0 to 1259\n",
      "Data columns (total 13 columns):\n",
      " #   Column                   Non-Null Count  Dtype \n",
      "---  ------                   --------------  ----- \n",
      " 0   TIPO_DE_PROCESO          1260 non-null   object\n",
      " 1   CIUDAD                   1260 non-null   object\n",
      " 2   REGION                   1260 non-null   object\n",
      " 3   RED                      1260 non-null   object\n",
      " 4   TIPO_RELACION            1260 non-null   object\n",
      " 5   PRETENSIÓN               1260 non-null   object\n",
      " 6   CLASE                    1260 non-null   object\n",
      " 7   ESTADO_ACTUAL            1260 non-null   object\n",
      " 8   ES_CIUDAD_PRINCIPAL      1260 non-null   int64 \n",
      " 9   PRETENSION_PRINCIPAL     1260 non-null   int64 \n",
      " 10  ESTADO_ACTUAL_PRINCIPAL  1260 non-null   int64 \n",
      " 11  ES_JUBILADO              1260 non-null   int64 \n",
      " 12  DECISION                 1260 non-null   object\n",
      "dtypes: int64(4), object(9)\n",
      "memory usage: 128.1+ KB\n"
     ]
    }
   ],
   "source": [
    "df.info()"
   ]
  },
  {
   "cell_type": "markdown",
   "id": "a896780b",
   "metadata": {},
   "source": [
    "### 3. Define split de datos"
   ]
  },
  {
   "cell_type": "code",
   "execution_count": 11886,
   "id": "a3499bdb",
   "metadata": {},
   "outputs": [],
   "source": [
    "# train test split\n",
    "from sklearn.model_selection import train_test_split\n",
    "\n",
    "X_train, X_test, y_train, y_test = train_test_split(df.drop(columns=[\"DECISION\"]), df[\"DECISION\"], test_size=0.2, random_state=42)"
   ]
  },
  {
   "cell_type": "markdown",
   "id": "bde376d9",
   "metadata": {},
   "source": [
    "### 4. Crea un pipeline de procesamiento y train"
   ]
  },
  {
   "cell_type": "markdown",
   "id": "6a813a1c",
   "metadata": {},
   "source": [
    "Las variables numericas decidimos:\n",
    "\n",
    "1. Imputar con mediana... pero podria ser con 0, con promedio, con moda... probemos\n",
    "2. Usar standardscaler, pero podemos usar cualquier tipo de estandarización"
   ]
  },
  {
   "cell_type": "code",
   "execution_count": 11887,
   "id": "85054717",
   "metadata": {},
   "outputs": [],
   "source": [
    "from sklearn.pipeline import Pipeline\n",
    "from sklearn.compose import ColumnTransformer\n",
    "from sklearn.preprocessing import StandardScaler, OneHotEncoder\n",
    "from sklearn.linear_model import LogisticRegression\n",
    "from sklearn.impute import SimpleImputer\n",
    "from sklearn.preprocessing import OneHotEncoder\n",
    "from sklearn.preprocessing import OrdinalEncoder\n",
    "\n",
    "\n",
    "\n",
    "# Definir las variables numericas y categorias\n",
    "numeric_features = ['ES_CIUDAD_PRINCIPAL', 'PRETENSION_PRINCIPAL', 'ESTADO_ACTUAL_PRINCIPAL', \n",
    "                   'ES_JUBILADO']\n",
    "\n",
    "# Create preprocessing pipelines for each data type\n",
    "numeric_transformer = Pipeline(steps=[\n",
    "    ('imputer', SimpleImputer(strategy='median')),\n",
    "    ('scaler', StandardScaler())\n",
    "])"
   ]
  },
  {
   "cell_type": "markdown",
   "id": "e2fe3313",
   "metadata": {},
   "source": [
    "Las variables categoricas decidimos:\n",
    "\n",
    "1. Imputar con \"other\", que significa que quiero agrupar lo desconocido en una variable generica\n",
    "2. Usar OneHotEncoder"
   ]
  },
  {
   "cell_type": "code",
   "execution_count": 11888,
   "id": "0d58526b",
   "metadata": {},
   "outputs": [],
   "source": [
    "categorical_features = ['TIPO_DE_PROCESO', 'REGION', 'RED', 'TIPO_RELACION', 'PRETENSIÓN', 'CLASE']\n",
    "\n",
    "categorical_transformer = Pipeline(steps=[\n",
    "    ('imputer', SimpleImputer(strategy='constant', fill_value='other')),\n",
    "    ('onehot', OneHotEncoder(drop='first', sparse_output=False, handle_unknown='ignore'))\n",
    "])"
   ]
  },
  {
   "cell_type": "markdown",
   "id": "5f19d710",
   "metadata": {},
   "source": [
    "Adicional tengo 2 variables que tienen muchas clases y no es recomendado realizar OneHotEncoder sino otro método, para eso creamos el pipeline"
   ]
  },
  {
   "cell_type": "code",
   "execution_count": 11889,
   "id": "59824bc1",
   "metadata": {},
   "outputs": [],
   "source": [
    "categorical_high = ['CIUDAD', 'ESTADO_ACTUAL']\n",
    "\n",
    "categorical_high_transformer = Pipeline(steps=[\n",
    "    ('imputer', SimpleImputer(strategy='constant', fill_value='Other')),\n",
    "    ('ordinal', OrdinalEncoder(handle_unknown='use_encoded_value', unknown_value=-1))\n",
    "])"
   ]
  },
  {
   "cell_type": "markdown",
   "id": "f45fd1fb",
   "metadata": {},
   "source": [
    " Unimos las transformaciones en un ColumnTransformer para aplicarselo a todo el df"
   ]
  },
  {
   "cell_type": "code",
   "execution_count": 11890,
   "id": "5813a93b",
   "metadata": {},
   "outputs": [],
   "source": [
    "# Combine transformers using ColumnTransformer\n",
    "preprocessor = ColumnTransformer(\n",
    "    transformers=[\n",
    "        ('num', numeric_transformer, numeric_features),\n",
    "        ('cat', categorical_transformer, categorical_features),\n",
    "        ('cat2', categorical_high_transformer, categorical_high)\n",
    "    ],\n",
    "    remainder='drop'  # Drop any columns not specified above\n",
    ")"
   ]
  },
  {
   "cell_type": "markdown",
   "id": "c2e66f93",
   "metadata": {},
   "source": [
    "Usamos el column transformer y luego entrenamos una regresión logistica. "
   ]
  },
  {
   "cell_type": "code",
   "execution_count": 11891,
   "id": "d402badd",
   "metadata": {},
   "outputs": [],
   "source": [
    "# Create the full pipeline\n",
    "pipeline_train_cont = Pipeline(steps=[\n",
    "    ('preprocessor', preprocessor),\n",
    "    ('classifier', LogisticRegression(random_state=42, max_iter=1000))\n",
    "])"
   ]
  },
  {
   "cell_type": "code",
   "execution_count": 11892,
   "id": "af61a84e",
   "metadata": {},
   "outputs": [
    {
     "data": {
      "text/html": [
       "<style>#sk-container-id-5 {\n",
       "  /* Definition of color scheme common for light and dark mode */\n",
       "  --sklearn-color-text: #000;\n",
       "  --sklearn-color-text-muted: #666;\n",
       "  --sklearn-color-line: gray;\n",
       "  /* Definition of color scheme for unfitted estimators */\n",
       "  --sklearn-color-unfitted-level-0: #fff5e6;\n",
       "  --sklearn-color-unfitted-level-1: #f6e4d2;\n",
       "  --sklearn-color-unfitted-level-2: #ffe0b3;\n",
       "  --sklearn-color-unfitted-level-3: chocolate;\n",
       "  /* Definition of color scheme for fitted estimators */\n",
       "  --sklearn-color-fitted-level-0: #f0f8ff;\n",
       "  --sklearn-color-fitted-level-1: #d4ebff;\n",
       "  --sklearn-color-fitted-level-2: #b3dbfd;\n",
       "  --sklearn-color-fitted-level-3: cornflowerblue;\n",
       "\n",
       "  /* Specific color for light theme */\n",
       "  --sklearn-color-text-on-default-background: var(--sg-text-color, var(--theme-code-foreground, var(--jp-content-font-color1, black)));\n",
       "  --sklearn-color-background: var(--sg-background-color, var(--theme-background, var(--jp-layout-color0, white)));\n",
       "  --sklearn-color-border-box: var(--sg-text-color, var(--theme-code-foreground, var(--jp-content-font-color1, black)));\n",
       "  --sklearn-color-icon: #696969;\n",
       "\n",
       "  @media (prefers-color-scheme: dark) {\n",
       "    /* Redefinition of color scheme for dark theme */\n",
       "    --sklearn-color-text-on-default-background: var(--sg-text-color, var(--theme-code-foreground, var(--jp-content-font-color1, white)));\n",
       "    --sklearn-color-background: var(--sg-background-color, var(--theme-background, var(--jp-layout-color0, #111)));\n",
       "    --sklearn-color-border-box: var(--sg-text-color, var(--theme-code-foreground, var(--jp-content-font-color1, white)));\n",
       "    --sklearn-color-icon: #878787;\n",
       "  }\n",
       "}\n",
       "\n",
       "#sk-container-id-5 {\n",
       "  color: var(--sklearn-color-text);\n",
       "}\n",
       "\n",
       "#sk-container-id-5 pre {\n",
       "  padding: 0;\n",
       "}\n",
       "\n",
       "#sk-container-id-5 input.sk-hidden--visually {\n",
       "  border: 0;\n",
       "  clip: rect(1px 1px 1px 1px);\n",
       "  clip: rect(1px, 1px, 1px, 1px);\n",
       "  height: 1px;\n",
       "  margin: -1px;\n",
       "  overflow: hidden;\n",
       "  padding: 0;\n",
       "  position: absolute;\n",
       "  width: 1px;\n",
       "}\n",
       "\n",
       "#sk-container-id-5 div.sk-dashed-wrapped {\n",
       "  border: 1px dashed var(--sklearn-color-line);\n",
       "  margin: 0 0.4em 0.5em 0.4em;\n",
       "  box-sizing: border-box;\n",
       "  padding-bottom: 0.4em;\n",
       "  background-color: var(--sklearn-color-background);\n",
       "}\n",
       "\n",
       "#sk-container-id-5 div.sk-container {\n",
       "  /* jupyter's `normalize.less` sets `[hidden] { display: none; }`\n",
       "     but bootstrap.min.css set `[hidden] { display: none !important; }`\n",
       "     so we also need the `!important` here to be able to override the\n",
       "     default hidden behavior on the sphinx rendered scikit-learn.org.\n",
       "     See: https://github.com/scikit-learn/scikit-learn/issues/21755 */\n",
       "  display: inline-block !important;\n",
       "  position: relative;\n",
       "}\n",
       "\n",
       "#sk-container-id-5 div.sk-text-repr-fallback {\n",
       "  display: none;\n",
       "}\n",
       "\n",
       "div.sk-parallel-item,\n",
       "div.sk-serial,\n",
       "div.sk-item {\n",
       "  /* draw centered vertical line to link estimators */\n",
       "  background-image: linear-gradient(var(--sklearn-color-text-on-default-background), var(--sklearn-color-text-on-default-background));\n",
       "  background-size: 2px 100%;\n",
       "  background-repeat: no-repeat;\n",
       "  background-position: center center;\n",
       "}\n",
       "\n",
       "/* Parallel-specific style estimator block */\n",
       "\n",
       "#sk-container-id-5 div.sk-parallel-item::after {\n",
       "  content: \"\";\n",
       "  width: 100%;\n",
       "  border-bottom: 2px solid var(--sklearn-color-text-on-default-background);\n",
       "  flex-grow: 1;\n",
       "}\n",
       "\n",
       "#sk-container-id-5 div.sk-parallel {\n",
       "  display: flex;\n",
       "  align-items: stretch;\n",
       "  justify-content: center;\n",
       "  background-color: var(--sklearn-color-background);\n",
       "  position: relative;\n",
       "}\n",
       "\n",
       "#sk-container-id-5 div.sk-parallel-item {\n",
       "  display: flex;\n",
       "  flex-direction: column;\n",
       "}\n",
       "\n",
       "#sk-container-id-5 div.sk-parallel-item:first-child::after {\n",
       "  align-self: flex-end;\n",
       "  width: 50%;\n",
       "}\n",
       "\n",
       "#sk-container-id-5 div.sk-parallel-item:last-child::after {\n",
       "  align-self: flex-start;\n",
       "  width: 50%;\n",
       "}\n",
       "\n",
       "#sk-container-id-5 div.sk-parallel-item:only-child::after {\n",
       "  width: 0;\n",
       "}\n",
       "\n",
       "/* Serial-specific style estimator block */\n",
       "\n",
       "#sk-container-id-5 div.sk-serial {\n",
       "  display: flex;\n",
       "  flex-direction: column;\n",
       "  align-items: center;\n",
       "  background-color: var(--sklearn-color-background);\n",
       "  padding-right: 1em;\n",
       "  padding-left: 1em;\n",
       "}\n",
       "\n",
       "\n",
       "/* Toggleable style: style used for estimator/Pipeline/ColumnTransformer box that is\n",
       "clickable and can be expanded/collapsed.\n",
       "- Pipeline and ColumnTransformer use this feature and define the default style\n",
       "- Estimators will overwrite some part of the style using the `sk-estimator` class\n",
       "*/\n",
       "\n",
       "/* Pipeline and ColumnTransformer style (default) */\n",
       "\n",
       "#sk-container-id-5 div.sk-toggleable {\n",
       "  /* Default theme specific background. It is overwritten whether we have a\n",
       "  specific estimator or a Pipeline/ColumnTransformer */\n",
       "  background-color: var(--sklearn-color-background);\n",
       "}\n",
       "\n",
       "/* Toggleable label */\n",
       "#sk-container-id-5 label.sk-toggleable__label {\n",
       "  cursor: pointer;\n",
       "  display: flex;\n",
       "  width: 100%;\n",
       "  margin-bottom: 0;\n",
       "  padding: 0.5em;\n",
       "  box-sizing: border-box;\n",
       "  text-align: center;\n",
       "  align-items: start;\n",
       "  justify-content: space-between;\n",
       "  gap: 0.5em;\n",
       "}\n",
       "\n",
       "#sk-container-id-5 label.sk-toggleable__label .caption {\n",
       "  font-size: 0.6rem;\n",
       "  font-weight: lighter;\n",
       "  color: var(--sklearn-color-text-muted);\n",
       "}\n",
       "\n",
       "#sk-container-id-5 label.sk-toggleable__label-arrow:before {\n",
       "  /* Arrow on the left of the label */\n",
       "  content: \"▸\";\n",
       "  float: left;\n",
       "  margin-right: 0.25em;\n",
       "  color: var(--sklearn-color-icon);\n",
       "}\n",
       "\n",
       "#sk-container-id-5 label.sk-toggleable__label-arrow:hover:before {\n",
       "  color: var(--sklearn-color-text);\n",
       "}\n",
       "\n",
       "/* Toggleable content - dropdown */\n",
       "\n",
       "#sk-container-id-5 div.sk-toggleable__content {\n",
       "  display: none;\n",
       "  text-align: left;\n",
       "  /* unfitted */\n",
       "  background-color: var(--sklearn-color-unfitted-level-0);\n",
       "}\n",
       "\n",
       "#sk-container-id-5 div.sk-toggleable__content.fitted {\n",
       "  /* fitted */\n",
       "  background-color: var(--sklearn-color-fitted-level-0);\n",
       "}\n",
       "\n",
       "#sk-container-id-5 div.sk-toggleable__content pre {\n",
       "  margin: 0.2em;\n",
       "  border-radius: 0.25em;\n",
       "  color: var(--sklearn-color-text);\n",
       "  /* unfitted */\n",
       "  background-color: var(--sklearn-color-unfitted-level-0);\n",
       "}\n",
       "\n",
       "#sk-container-id-5 div.sk-toggleable__content.fitted pre {\n",
       "  /* unfitted */\n",
       "  background-color: var(--sklearn-color-fitted-level-0);\n",
       "}\n",
       "\n",
       "#sk-container-id-5 input.sk-toggleable__control:checked~div.sk-toggleable__content {\n",
       "  /* Expand drop-down */\n",
       "  display: block;\n",
       "  width: 100%;\n",
       "  overflow: visible;\n",
       "}\n",
       "\n",
       "#sk-container-id-5 input.sk-toggleable__control:checked~label.sk-toggleable__label-arrow:before {\n",
       "  content: \"▾\";\n",
       "}\n",
       "\n",
       "/* Pipeline/ColumnTransformer-specific style */\n",
       "\n",
       "#sk-container-id-5 div.sk-label input.sk-toggleable__control:checked~label.sk-toggleable__label {\n",
       "  color: var(--sklearn-color-text);\n",
       "  background-color: var(--sklearn-color-unfitted-level-2);\n",
       "}\n",
       "\n",
       "#sk-container-id-5 div.sk-label.fitted input.sk-toggleable__control:checked~label.sk-toggleable__label {\n",
       "  background-color: var(--sklearn-color-fitted-level-2);\n",
       "}\n",
       "\n",
       "/* Estimator-specific style */\n",
       "\n",
       "/* Colorize estimator box */\n",
       "#sk-container-id-5 div.sk-estimator input.sk-toggleable__control:checked~label.sk-toggleable__label {\n",
       "  /* unfitted */\n",
       "  background-color: var(--sklearn-color-unfitted-level-2);\n",
       "}\n",
       "\n",
       "#sk-container-id-5 div.sk-estimator.fitted input.sk-toggleable__control:checked~label.sk-toggleable__label {\n",
       "  /* fitted */\n",
       "  background-color: var(--sklearn-color-fitted-level-2);\n",
       "}\n",
       "\n",
       "#sk-container-id-5 div.sk-label label.sk-toggleable__label,\n",
       "#sk-container-id-5 div.sk-label label {\n",
       "  /* The background is the default theme color */\n",
       "  color: var(--sklearn-color-text-on-default-background);\n",
       "}\n",
       "\n",
       "/* On hover, darken the color of the background */\n",
       "#sk-container-id-5 div.sk-label:hover label.sk-toggleable__label {\n",
       "  color: var(--sklearn-color-text);\n",
       "  background-color: var(--sklearn-color-unfitted-level-2);\n",
       "}\n",
       "\n",
       "/* Label box, darken color on hover, fitted */\n",
       "#sk-container-id-5 div.sk-label.fitted:hover label.sk-toggleable__label.fitted {\n",
       "  color: var(--sklearn-color-text);\n",
       "  background-color: var(--sklearn-color-fitted-level-2);\n",
       "}\n",
       "\n",
       "/* Estimator label */\n",
       "\n",
       "#sk-container-id-5 div.sk-label label {\n",
       "  font-family: monospace;\n",
       "  font-weight: bold;\n",
       "  display: inline-block;\n",
       "  line-height: 1.2em;\n",
       "}\n",
       "\n",
       "#sk-container-id-5 div.sk-label-container {\n",
       "  text-align: center;\n",
       "}\n",
       "\n",
       "/* Estimator-specific */\n",
       "#sk-container-id-5 div.sk-estimator {\n",
       "  font-family: monospace;\n",
       "  border: 1px dotted var(--sklearn-color-border-box);\n",
       "  border-radius: 0.25em;\n",
       "  box-sizing: border-box;\n",
       "  margin-bottom: 0.5em;\n",
       "  /* unfitted */\n",
       "  background-color: var(--sklearn-color-unfitted-level-0);\n",
       "}\n",
       "\n",
       "#sk-container-id-5 div.sk-estimator.fitted {\n",
       "  /* fitted */\n",
       "  background-color: var(--sklearn-color-fitted-level-0);\n",
       "}\n",
       "\n",
       "/* on hover */\n",
       "#sk-container-id-5 div.sk-estimator:hover {\n",
       "  /* unfitted */\n",
       "  background-color: var(--sklearn-color-unfitted-level-2);\n",
       "}\n",
       "\n",
       "#sk-container-id-5 div.sk-estimator.fitted:hover {\n",
       "  /* fitted */\n",
       "  background-color: var(--sklearn-color-fitted-level-2);\n",
       "}\n",
       "\n",
       "/* Specification for estimator info (e.g. \"i\" and \"?\") */\n",
       "\n",
       "/* Common style for \"i\" and \"?\" */\n",
       "\n",
       ".sk-estimator-doc-link,\n",
       "a:link.sk-estimator-doc-link,\n",
       "a:visited.sk-estimator-doc-link {\n",
       "  float: right;\n",
       "  font-size: smaller;\n",
       "  line-height: 1em;\n",
       "  font-family: monospace;\n",
       "  background-color: var(--sklearn-color-background);\n",
       "  border-radius: 1em;\n",
       "  height: 1em;\n",
       "  width: 1em;\n",
       "  text-decoration: none !important;\n",
       "  margin-left: 0.5em;\n",
       "  text-align: center;\n",
       "  /* unfitted */\n",
       "  border: var(--sklearn-color-unfitted-level-1) 1pt solid;\n",
       "  color: var(--sklearn-color-unfitted-level-1);\n",
       "}\n",
       "\n",
       ".sk-estimator-doc-link.fitted,\n",
       "a:link.sk-estimator-doc-link.fitted,\n",
       "a:visited.sk-estimator-doc-link.fitted {\n",
       "  /* fitted */\n",
       "  border: var(--sklearn-color-fitted-level-1) 1pt solid;\n",
       "  color: var(--sklearn-color-fitted-level-1);\n",
       "}\n",
       "\n",
       "/* On hover */\n",
       "div.sk-estimator:hover .sk-estimator-doc-link:hover,\n",
       ".sk-estimator-doc-link:hover,\n",
       "div.sk-label-container:hover .sk-estimator-doc-link:hover,\n",
       ".sk-estimator-doc-link:hover {\n",
       "  /* unfitted */\n",
       "  background-color: var(--sklearn-color-unfitted-level-3);\n",
       "  color: var(--sklearn-color-background);\n",
       "  text-decoration: none;\n",
       "}\n",
       "\n",
       "div.sk-estimator.fitted:hover .sk-estimator-doc-link.fitted:hover,\n",
       ".sk-estimator-doc-link.fitted:hover,\n",
       "div.sk-label-container:hover .sk-estimator-doc-link.fitted:hover,\n",
       ".sk-estimator-doc-link.fitted:hover {\n",
       "  /* fitted */\n",
       "  background-color: var(--sklearn-color-fitted-level-3);\n",
       "  color: var(--sklearn-color-background);\n",
       "  text-decoration: none;\n",
       "}\n",
       "\n",
       "/* Span, style for the box shown on hovering the info icon */\n",
       ".sk-estimator-doc-link span {\n",
       "  display: none;\n",
       "  z-index: 9999;\n",
       "  position: relative;\n",
       "  font-weight: normal;\n",
       "  right: .2ex;\n",
       "  padding: .5ex;\n",
       "  margin: .5ex;\n",
       "  width: min-content;\n",
       "  min-width: 20ex;\n",
       "  max-width: 50ex;\n",
       "  color: var(--sklearn-color-text);\n",
       "  box-shadow: 2pt 2pt 4pt #999;\n",
       "  /* unfitted */\n",
       "  background: var(--sklearn-color-unfitted-level-0);\n",
       "  border: .5pt solid var(--sklearn-color-unfitted-level-3);\n",
       "}\n",
       "\n",
       ".sk-estimator-doc-link.fitted span {\n",
       "  /* fitted */\n",
       "  background: var(--sklearn-color-fitted-level-0);\n",
       "  border: var(--sklearn-color-fitted-level-3);\n",
       "}\n",
       "\n",
       ".sk-estimator-doc-link:hover span {\n",
       "  display: block;\n",
       "}\n",
       "\n",
       "/* \"?\"-specific style due to the `<a>` HTML tag */\n",
       "\n",
       "#sk-container-id-5 a.estimator_doc_link {\n",
       "  float: right;\n",
       "  font-size: 1rem;\n",
       "  line-height: 1em;\n",
       "  font-family: monospace;\n",
       "  background-color: var(--sklearn-color-background);\n",
       "  border-radius: 1rem;\n",
       "  height: 1rem;\n",
       "  width: 1rem;\n",
       "  text-decoration: none;\n",
       "  /* unfitted */\n",
       "  color: var(--sklearn-color-unfitted-level-1);\n",
       "  border: var(--sklearn-color-unfitted-level-1) 1pt solid;\n",
       "}\n",
       "\n",
       "#sk-container-id-5 a.estimator_doc_link.fitted {\n",
       "  /* fitted */\n",
       "  border: var(--sklearn-color-fitted-level-1) 1pt solid;\n",
       "  color: var(--sklearn-color-fitted-level-1);\n",
       "}\n",
       "\n",
       "/* On hover */\n",
       "#sk-container-id-5 a.estimator_doc_link:hover {\n",
       "  /* unfitted */\n",
       "  background-color: var(--sklearn-color-unfitted-level-3);\n",
       "  color: var(--sklearn-color-background);\n",
       "  text-decoration: none;\n",
       "}\n",
       "\n",
       "#sk-container-id-5 a.estimator_doc_link.fitted:hover {\n",
       "  /* fitted */\n",
       "  background-color: var(--sklearn-color-fitted-level-3);\n",
       "}\n",
       "\n",
       ".estimator-table summary {\n",
       "    padding: .5rem;\n",
       "    font-family: monospace;\n",
       "    cursor: pointer;\n",
       "}\n",
       "\n",
       ".estimator-table details[open] {\n",
       "    padding-left: 0.1rem;\n",
       "    padding-right: 0.1rem;\n",
       "    padding-bottom: 0.3rem;\n",
       "}\n",
       "\n",
       ".estimator-table .parameters-table {\n",
       "    margin-left: auto !important;\n",
       "    margin-right: auto !important;\n",
       "}\n",
       "\n",
       ".estimator-table .parameters-table tr:nth-child(odd) {\n",
       "    background-color: #fff;\n",
       "}\n",
       "\n",
       ".estimator-table .parameters-table tr:nth-child(even) {\n",
       "    background-color: #f6f6f6;\n",
       "}\n",
       "\n",
       ".estimator-table .parameters-table tr:hover {\n",
       "    background-color: #e0e0e0;\n",
       "}\n",
       "\n",
       ".estimator-table table td {\n",
       "    border: 1px solid rgba(106, 105, 104, 0.232);\n",
       "}\n",
       "\n",
       ".user-set td {\n",
       "    color:rgb(255, 94, 0);\n",
       "    text-align: left;\n",
       "}\n",
       "\n",
       ".user-set td.value pre {\n",
       "    color:rgb(255, 94, 0) !important;\n",
       "    background-color: transparent !important;\n",
       "}\n",
       "\n",
       ".default td {\n",
       "    color: black;\n",
       "    text-align: left;\n",
       "}\n",
       "\n",
       ".user-set td i,\n",
       ".default td i {\n",
       "    color: black;\n",
       "}\n",
       "\n",
       ".copy-paste-icon {\n",
       "    background-image: url(data:image/svg+xml;base64,PHN2ZyB4bWxucz0iaHR0cDovL3d3dy53My5vcmcvMjAwMC9zdmciIHZpZXdCb3g9IjAgMCA0NDggNTEyIj48IS0tIUZvbnQgQXdlc29tZSBGcmVlIDYuNy4yIGJ5IEBmb250YXdlc29tZSAtIGh0dHBzOi8vZm9udGF3ZXNvbWUuY29tIExpY2Vuc2UgLSBodHRwczovL2ZvbnRhd2Vzb21lLmNvbS9saWNlbnNlL2ZyZWUgQ29weXJpZ2h0IDIwMjUgRm9udGljb25zLCBJbmMuLS0+PHBhdGggZD0iTTIwOCAwTDMzMi4xIDBjMTIuNyAwIDI0LjkgNS4xIDMzLjkgMTQuMWw2Ny45IDY3LjljOSA5IDE0LjEgMjEuMiAxNC4xIDMzLjlMNDQ4IDMzNmMwIDI2LjUtMjEuNSA0OC00OCA0OGwtMTkyIDBjLTI2LjUgMC00OC0yMS41LTQ4LTQ4bDAtMjg4YzAtMjYuNSAyMS41LTQ4IDQ4LTQ4ek00OCAxMjhsODAgMCAwIDY0LTY0IDAgMCAyNTYgMTkyIDAgMC0zMiA2NCAwIDAgNDhjMCAyNi41LTIxLjUgNDgtNDggNDhMNDggNTEyYy0yNi41IDAtNDgtMjEuNS00OC00OEwwIDE3NmMwLTI2LjUgMjEuNS00OCA0OC00OHoiLz48L3N2Zz4=);\n",
       "    background-repeat: no-repeat;\n",
       "    background-size: 14px 14px;\n",
       "    background-position: 0;\n",
       "    display: inline-block;\n",
       "    width: 14px;\n",
       "    height: 14px;\n",
       "    cursor: pointer;\n",
       "}\n",
       "</style><body><div id=\"sk-container-id-5\" class=\"sk-top-container\"><div class=\"sk-text-repr-fallback\"><pre>Pipeline(steps=[(&#x27;preprocessor&#x27;,\n",
       "                 ColumnTransformer(transformers=[(&#x27;num&#x27;,\n",
       "                                                  Pipeline(steps=[(&#x27;imputer&#x27;,\n",
       "                                                                   SimpleImputer(strategy=&#x27;median&#x27;)),\n",
       "                                                                  (&#x27;scaler&#x27;,\n",
       "                                                                   StandardScaler())]),\n",
       "                                                  [&#x27;ES_CIUDAD_PRINCIPAL&#x27;,\n",
       "                                                   &#x27;PRETENSION_PRINCIPAL&#x27;,\n",
       "                                                   &#x27;ESTADO_ACTUAL_PRINCIPAL&#x27;,\n",
       "                                                   &#x27;ES_JUBILADO&#x27;]),\n",
       "                                                 (&#x27;cat&#x27;,\n",
       "                                                  Pipeline(steps=[(&#x27;imputer&#x27;,\n",
       "                                                                   SimpleImputer(fill_value=&#x27;other&#x27;,\n",
       "                                                                                 strategy=&#x27;constant&#x27;)),\n",
       "                                                                  (&#x27;onehot&#x27;,\n",
       "                                                                   O...\n",
       "                                                                                 sparse_output=False))]),\n",
       "                                                  [&#x27;TIPO_DE_PROCESO&#x27;, &#x27;REGION&#x27;,\n",
       "                                                   &#x27;RED&#x27;, &#x27;TIPO_RELACION&#x27;,\n",
       "                                                   &#x27;PRETENSIÓN&#x27;, &#x27;CLASE&#x27;]),\n",
       "                                                 (&#x27;cat2&#x27;,\n",
       "                                                  Pipeline(steps=[(&#x27;imputer&#x27;,\n",
       "                                                                   SimpleImputer(fill_value=&#x27;Other&#x27;,\n",
       "                                                                                 strategy=&#x27;constant&#x27;)),\n",
       "                                                                  (&#x27;ordinal&#x27;,\n",
       "                                                                   OrdinalEncoder(handle_unknown=&#x27;use_encoded_value&#x27;,\n",
       "                                                                                  unknown_value=-1))]),\n",
       "                                                  [&#x27;CIUDAD&#x27;,\n",
       "                                                   &#x27;ESTADO_ACTUAL&#x27;])])),\n",
       "                (&#x27;classifier&#x27;,\n",
       "                 LogisticRegression(max_iter=1000, random_state=42))])</pre><b>In a Jupyter environment, please rerun this cell to show the HTML representation or trust the notebook. <br />On GitHub, the HTML representation is unable to render, please try loading this page with nbviewer.org.</b></div><div class=\"sk-container\" hidden><div class=\"sk-item sk-dashed-wrapped\"><div class=\"sk-label-container\"><div class=\"sk-label fitted sk-toggleable\"><input class=\"sk-toggleable__control sk-hidden--visually\" id=\"sk-estimator-id-49\" type=\"checkbox\" ><label for=\"sk-estimator-id-49\" class=\"sk-toggleable__label fitted sk-toggleable__label-arrow\"><div><div>Pipeline</div></div><div><a class=\"sk-estimator-doc-link fitted\" rel=\"noreferrer\" target=\"_blank\" href=\"https://scikit-learn.org/1.7/modules/generated/sklearn.pipeline.Pipeline.html\">?<span>Documentation for Pipeline</span></a><span class=\"sk-estimator-doc-link fitted\">i<span>Fitted</span></span></div></label><div class=\"sk-toggleable__content fitted\" data-param-prefix=\"\">\n",
       "        <div class=\"estimator-table\">\n",
       "            <details>\n",
       "                <summary>Parameters</summary>\n",
       "                <table class=\"parameters-table\">\n",
       "                  <tbody>\n",
       "                    \n",
       "        <tr class=\"user-set\">\n",
       "            <td><i class=\"copy-paste-icon\"\n",
       "                 onclick=\"copyToClipboard('steps',\n",
       "                          this.parentElement.nextElementSibling)\"\n",
       "            ></i></td>\n",
       "            <td class=\"param\">steps&nbsp;</td>\n",
       "            <td class=\"value\">[(&#x27;preprocessor&#x27;, ...), (&#x27;classifier&#x27;, ...)]</td>\n",
       "        </tr>\n",
       "    \n",
       "\n",
       "        <tr class=\"default\">\n",
       "            <td><i class=\"copy-paste-icon\"\n",
       "                 onclick=\"copyToClipboard('transform_input',\n",
       "                          this.parentElement.nextElementSibling)\"\n",
       "            ></i></td>\n",
       "            <td class=\"param\">transform_input&nbsp;</td>\n",
       "            <td class=\"value\">None</td>\n",
       "        </tr>\n",
       "    \n",
       "\n",
       "        <tr class=\"default\">\n",
       "            <td><i class=\"copy-paste-icon\"\n",
       "                 onclick=\"copyToClipboard('memory',\n",
       "                          this.parentElement.nextElementSibling)\"\n",
       "            ></i></td>\n",
       "            <td class=\"param\">memory&nbsp;</td>\n",
       "            <td class=\"value\">None</td>\n",
       "        </tr>\n",
       "    \n",
       "\n",
       "        <tr class=\"default\">\n",
       "            <td><i class=\"copy-paste-icon\"\n",
       "                 onclick=\"copyToClipboard('verbose',\n",
       "                          this.parentElement.nextElementSibling)\"\n",
       "            ></i></td>\n",
       "            <td class=\"param\">verbose&nbsp;</td>\n",
       "            <td class=\"value\">False</td>\n",
       "        </tr>\n",
       "    \n",
       "                  </tbody>\n",
       "                </table>\n",
       "            </details>\n",
       "        </div>\n",
       "    </div></div></div><div class=\"sk-serial\"><div class=\"sk-item sk-dashed-wrapped\"><div class=\"sk-label-container\"><div class=\"sk-label fitted sk-toggleable\"><input class=\"sk-toggleable__control sk-hidden--visually\" id=\"sk-estimator-id-50\" type=\"checkbox\" ><label for=\"sk-estimator-id-50\" class=\"sk-toggleable__label fitted sk-toggleable__label-arrow\"><div><div>preprocessor: ColumnTransformer</div></div><div><a class=\"sk-estimator-doc-link fitted\" rel=\"noreferrer\" target=\"_blank\" href=\"https://scikit-learn.org/1.7/modules/generated/sklearn.compose.ColumnTransformer.html\">?<span>Documentation for preprocessor: ColumnTransformer</span></a></div></label><div class=\"sk-toggleable__content fitted\" data-param-prefix=\"preprocessor__\">\n",
       "        <div class=\"estimator-table\">\n",
       "            <details>\n",
       "                <summary>Parameters</summary>\n",
       "                <table class=\"parameters-table\">\n",
       "                  <tbody>\n",
       "                    \n",
       "        <tr class=\"user-set\">\n",
       "            <td><i class=\"copy-paste-icon\"\n",
       "                 onclick=\"copyToClipboard('transformers',\n",
       "                          this.parentElement.nextElementSibling)\"\n",
       "            ></i></td>\n",
       "            <td class=\"param\">transformers&nbsp;</td>\n",
       "            <td class=\"value\">[(&#x27;num&#x27;, ...), (&#x27;cat&#x27;, ...), ...]</td>\n",
       "        </tr>\n",
       "    \n",
       "\n",
       "        <tr class=\"default\">\n",
       "            <td><i class=\"copy-paste-icon\"\n",
       "                 onclick=\"copyToClipboard('remainder',\n",
       "                          this.parentElement.nextElementSibling)\"\n",
       "            ></i></td>\n",
       "            <td class=\"param\">remainder&nbsp;</td>\n",
       "            <td class=\"value\">&#x27;drop&#x27;</td>\n",
       "        </tr>\n",
       "    \n",
       "\n",
       "        <tr class=\"default\">\n",
       "            <td><i class=\"copy-paste-icon\"\n",
       "                 onclick=\"copyToClipboard('sparse_threshold',\n",
       "                          this.parentElement.nextElementSibling)\"\n",
       "            ></i></td>\n",
       "            <td class=\"param\">sparse_threshold&nbsp;</td>\n",
       "            <td class=\"value\">0.3</td>\n",
       "        </tr>\n",
       "    \n",
       "\n",
       "        <tr class=\"default\">\n",
       "            <td><i class=\"copy-paste-icon\"\n",
       "                 onclick=\"copyToClipboard('n_jobs',\n",
       "                          this.parentElement.nextElementSibling)\"\n",
       "            ></i></td>\n",
       "            <td class=\"param\">n_jobs&nbsp;</td>\n",
       "            <td class=\"value\">None</td>\n",
       "        </tr>\n",
       "    \n",
       "\n",
       "        <tr class=\"default\">\n",
       "            <td><i class=\"copy-paste-icon\"\n",
       "                 onclick=\"copyToClipboard('transformer_weights',\n",
       "                          this.parentElement.nextElementSibling)\"\n",
       "            ></i></td>\n",
       "            <td class=\"param\">transformer_weights&nbsp;</td>\n",
       "            <td class=\"value\">None</td>\n",
       "        </tr>\n",
       "    \n",
       "\n",
       "        <tr class=\"default\">\n",
       "            <td><i class=\"copy-paste-icon\"\n",
       "                 onclick=\"copyToClipboard('verbose',\n",
       "                          this.parentElement.nextElementSibling)\"\n",
       "            ></i></td>\n",
       "            <td class=\"param\">verbose&nbsp;</td>\n",
       "            <td class=\"value\">False</td>\n",
       "        </tr>\n",
       "    \n",
       "\n",
       "        <tr class=\"default\">\n",
       "            <td><i class=\"copy-paste-icon\"\n",
       "                 onclick=\"copyToClipboard('verbose_feature_names_out',\n",
       "                          this.parentElement.nextElementSibling)\"\n",
       "            ></i></td>\n",
       "            <td class=\"param\">verbose_feature_names_out&nbsp;</td>\n",
       "            <td class=\"value\">True</td>\n",
       "        </tr>\n",
       "    \n",
       "\n",
       "        <tr class=\"default\">\n",
       "            <td><i class=\"copy-paste-icon\"\n",
       "                 onclick=\"copyToClipboard('force_int_remainder_cols',\n",
       "                          this.parentElement.nextElementSibling)\"\n",
       "            ></i></td>\n",
       "            <td class=\"param\">force_int_remainder_cols&nbsp;</td>\n",
       "            <td class=\"value\">&#x27;deprecated&#x27;</td>\n",
       "        </tr>\n",
       "    \n",
       "                  </tbody>\n",
       "                </table>\n",
       "            </details>\n",
       "        </div>\n",
       "    </div></div></div><div class=\"sk-parallel\"><div class=\"sk-parallel-item\"><div class=\"sk-item\"><div class=\"sk-label-container\"><div class=\"sk-label fitted sk-toggleable\"><input class=\"sk-toggleable__control sk-hidden--visually\" id=\"sk-estimator-id-51\" type=\"checkbox\" ><label for=\"sk-estimator-id-51\" class=\"sk-toggleable__label fitted sk-toggleable__label-arrow\"><div><div>num</div></div></label><div class=\"sk-toggleable__content fitted\" data-param-prefix=\"preprocessor__num__\"><pre>[&#x27;ES_CIUDAD_PRINCIPAL&#x27;, &#x27;PRETENSION_PRINCIPAL&#x27;, &#x27;ESTADO_ACTUAL_PRINCIPAL&#x27;, &#x27;ES_JUBILADO&#x27;]</pre></div></div></div><div class=\"sk-serial\"><div class=\"sk-item\"><div class=\"sk-serial\"><div class=\"sk-item\"><div class=\"sk-estimator fitted sk-toggleable\"><input class=\"sk-toggleable__control sk-hidden--visually\" id=\"sk-estimator-id-52\" type=\"checkbox\" ><label for=\"sk-estimator-id-52\" class=\"sk-toggleable__label fitted sk-toggleable__label-arrow\"><div><div>SimpleImputer</div></div><div><a class=\"sk-estimator-doc-link fitted\" rel=\"noreferrer\" target=\"_blank\" href=\"https://scikit-learn.org/1.7/modules/generated/sklearn.impute.SimpleImputer.html\">?<span>Documentation for SimpleImputer</span></a></div></label><div class=\"sk-toggleable__content fitted\" data-param-prefix=\"preprocessor__num__imputer__\">\n",
       "        <div class=\"estimator-table\">\n",
       "            <details>\n",
       "                <summary>Parameters</summary>\n",
       "                <table class=\"parameters-table\">\n",
       "                  <tbody>\n",
       "                    \n",
       "        <tr class=\"default\">\n",
       "            <td><i class=\"copy-paste-icon\"\n",
       "                 onclick=\"copyToClipboard('missing_values',\n",
       "                          this.parentElement.nextElementSibling)\"\n",
       "            ></i></td>\n",
       "            <td class=\"param\">missing_values&nbsp;</td>\n",
       "            <td class=\"value\">nan</td>\n",
       "        </tr>\n",
       "    \n",
       "\n",
       "        <tr class=\"user-set\">\n",
       "            <td><i class=\"copy-paste-icon\"\n",
       "                 onclick=\"copyToClipboard('strategy',\n",
       "                          this.parentElement.nextElementSibling)\"\n",
       "            ></i></td>\n",
       "            <td class=\"param\">strategy&nbsp;</td>\n",
       "            <td class=\"value\">&#x27;median&#x27;</td>\n",
       "        </tr>\n",
       "    \n",
       "\n",
       "        <tr class=\"default\">\n",
       "            <td><i class=\"copy-paste-icon\"\n",
       "                 onclick=\"copyToClipboard('fill_value',\n",
       "                          this.parentElement.nextElementSibling)\"\n",
       "            ></i></td>\n",
       "            <td class=\"param\">fill_value&nbsp;</td>\n",
       "            <td class=\"value\">None</td>\n",
       "        </tr>\n",
       "    \n",
       "\n",
       "        <tr class=\"default\">\n",
       "            <td><i class=\"copy-paste-icon\"\n",
       "                 onclick=\"copyToClipboard('copy',\n",
       "                          this.parentElement.nextElementSibling)\"\n",
       "            ></i></td>\n",
       "            <td class=\"param\">copy&nbsp;</td>\n",
       "            <td class=\"value\">True</td>\n",
       "        </tr>\n",
       "    \n",
       "\n",
       "        <tr class=\"default\">\n",
       "            <td><i class=\"copy-paste-icon\"\n",
       "                 onclick=\"copyToClipboard('add_indicator',\n",
       "                          this.parentElement.nextElementSibling)\"\n",
       "            ></i></td>\n",
       "            <td class=\"param\">add_indicator&nbsp;</td>\n",
       "            <td class=\"value\">False</td>\n",
       "        </tr>\n",
       "    \n",
       "\n",
       "        <tr class=\"default\">\n",
       "            <td><i class=\"copy-paste-icon\"\n",
       "                 onclick=\"copyToClipboard('keep_empty_features',\n",
       "                          this.parentElement.nextElementSibling)\"\n",
       "            ></i></td>\n",
       "            <td class=\"param\">keep_empty_features&nbsp;</td>\n",
       "            <td class=\"value\">False</td>\n",
       "        </tr>\n",
       "    \n",
       "                  </tbody>\n",
       "                </table>\n",
       "            </details>\n",
       "        </div>\n",
       "    </div></div></div><div class=\"sk-item\"><div class=\"sk-estimator fitted sk-toggleable\"><input class=\"sk-toggleable__control sk-hidden--visually\" id=\"sk-estimator-id-53\" type=\"checkbox\" ><label for=\"sk-estimator-id-53\" class=\"sk-toggleable__label fitted sk-toggleable__label-arrow\"><div><div>StandardScaler</div></div><div><a class=\"sk-estimator-doc-link fitted\" rel=\"noreferrer\" target=\"_blank\" href=\"https://scikit-learn.org/1.7/modules/generated/sklearn.preprocessing.StandardScaler.html\">?<span>Documentation for StandardScaler</span></a></div></label><div class=\"sk-toggleable__content fitted\" data-param-prefix=\"preprocessor__num__scaler__\">\n",
       "        <div class=\"estimator-table\">\n",
       "            <details>\n",
       "                <summary>Parameters</summary>\n",
       "                <table class=\"parameters-table\">\n",
       "                  <tbody>\n",
       "                    \n",
       "        <tr class=\"default\">\n",
       "            <td><i class=\"copy-paste-icon\"\n",
       "                 onclick=\"copyToClipboard('copy',\n",
       "                          this.parentElement.nextElementSibling)\"\n",
       "            ></i></td>\n",
       "            <td class=\"param\">copy&nbsp;</td>\n",
       "            <td class=\"value\">True</td>\n",
       "        </tr>\n",
       "    \n",
       "\n",
       "        <tr class=\"default\">\n",
       "            <td><i class=\"copy-paste-icon\"\n",
       "                 onclick=\"copyToClipboard('with_mean',\n",
       "                          this.parentElement.nextElementSibling)\"\n",
       "            ></i></td>\n",
       "            <td class=\"param\">with_mean&nbsp;</td>\n",
       "            <td class=\"value\">True</td>\n",
       "        </tr>\n",
       "    \n",
       "\n",
       "        <tr class=\"default\">\n",
       "            <td><i class=\"copy-paste-icon\"\n",
       "                 onclick=\"copyToClipboard('with_std',\n",
       "                          this.parentElement.nextElementSibling)\"\n",
       "            ></i></td>\n",
       "            <td class=\"param\">with_std&nbsp;</td>\n",
       "            <td class=\"value\">True</td>\n",
       "        </tr>\n",
       "    \n",
       "                  </tbody>\n",
       "                </table>\n",
       "            </details>\n",
       "        </div>\n",
       "    </div></div></div></div></div></div></div></div><div class=\"sk-parallel-item\"><div class=\"sk-item\"><div class=\"sk-label-container\"><div class=\"sk-label fitted sk-toggleable\"><input class=\"sk-toggleable__control sk-hidden--visually\" id=\"sk-estimator-id-54\" type=\"checkbox\" ><label for=\"sk-estimator-id-54\" class=\"sk-toggleable__label fitted sk-toggleable__label-arrow\"><div><div>cat</div></div></label><div class=\"sk-toggleable__content fitted\" data-param-prefix=\"preprocessor__cat__\"><pre>[&#x27;TIPO_DE_PROCESO&#x27;, &#x27;REGION&#x27;, &#x27;RED&#x27;, &#x27;TIPO_RELACION&#x27;, &#x27;PRETENSIÓN&#x27;, &#x27;CLASE&#x27;]</pre></div></div></div><div class=\"sk-serial\"><div class=\"sk-item\"><div class=\"sk-serial\"><div class=\"sk-item\"><div class=\"sk-estimator fitted sk-toggleable\"><input class=\"sk-toggleable__control sk-hidden--visually\" id=\"sk-estimator-id-55\" type=\"checkbox\" ><label for=\"sk-estimator-id-55\" class=\"sk-toggleable__label fitted sk-toggleable__label-arrow\"><div><div>SimpleImputer</div></div><div><a class=\"sk-estimator-doc-link fitted\" rel=\"noreferrer\" target=\"_blank\" href=\"https://scikit-learn.org/1.7/modules/generated/sklearn.impute.SimpleImputer.html\">?<span>Documentation for SimpleImputer</span></a></div></label><div class=\"sk-toggleable__content fitted\" data-param-prefix=\"preprocessor__cat__imputer__\">\n",
       "        <div class=\"estimator-table\">\n",
       "            <details>\n",
       "                <summary>Parameters</summary>\n",
       "                <table class=\"parameters-table\">\n",
       "                  <tbody>\n",
       "                    \n",
       "        <tr class=\"default\">\n",
       "            <td><i class=\"copy-paste-icon\"\n",
       "                 onclick=\"copyToClipboard('missing_values',\n",
       "                          this.parentElement.nextElementSibling)\"\n",
       "            ></i></td>\n",
       "            <td class=\"param\">missing_values&nbsp;</td>\n",
       "            <td class=\"value\">nan</td>\n",
       "        </tr>\n",
       "    \n",
       "\n",
       "        <tr class=\"user-set\">\n",
       "            <td><i class=\"copy-paste-icon\"\n",
       "                 onclick=\"copyToClipboard('strategy',\n",
       "                          this.parentElement.nextElementSibling)\"\n",
       "            ></i></td>\n",
       "            <td class=\"param\">strategy&nbsp;</td>\n",
       "            <td class=\"value\">&#x27;constant&#x27;</td>\n",
       "        </tr>\n",
       "    \n",
       "\n",
       "        <tr class=\"user-set\">\n",
       "            <td><i class=\"copy-paste-icon\"\n",
       "                 onclick=\"copyToClipboard('fill_value',\n",
       "                          this.parentElement.nextElementSibling)\"\n",
       "            ></i></td>\n",
       "            <td class=\"param\">fill_value&nbsp;</td>\n",
       "            <td class=\"value\">&#x27;other&#x27;</td>\n",
       "        </tr>\n",
       "    \n",
       "\n",
       "        <tr class=\"default\">\n",
       "            <td><i class=\"copy-paste-icon\"\n",
       "                 onclick=\"copyToClipboard('copy',\n",
       "                          this.parentElement.nextElementSibling)\"\n",
       "            ></i></td>\n",
       "            <td class=\"param\">copy&nbsp;</td>\n",
       "            <td class=\"value\">True</td>\n",
       "        </tr>\n",
       "    \n",
       "\n",
       "        <tr class=\"default\">\n",
       "            <td><i class=\"copy-paste-icon\"\n",
       "                 onclick=\"copyToClipboard('add_indicator',\n",
       "                          this.parentElement.nextElementSibling)\"\n",
       "            ></i></td>\n",
       "            <td class=\"param\">add_indicator&nbsp;</td>\n",
       "            <td class=\"value\">False</td>\n",
       "        </tr>\n",
       "    \n",
       "\n",
       "        <tr class=\"default\">\n",
       "            <td><i class=\"copy-paste-icon\"\n",
       "                 onclick=\"copyToClipboard('keep_empty_features',\n",
       "                          this.parentElement.nextElementSibling)\"\n",
       "            ></i></td>\n",
       "            <td class=\"param\">keep_empty_features&nbsp;</td>\n",
       "            <td class=\"value\">False</td>\n",
       "        </tr>\n",
       "    \n",
       "                  </tbody>\n",
       "                </table>\n",
       "            </details>\n",
       "        </div>\n",
       "    </div></div></div><div class=\"sk-item\"><div class=\"sk-estimator fitted sk-toggleable\"><input class=\"sk-toggleable__control sk-hidden--visually\" id=\"sk-estimator-id-56\" type=\"checkbox\" ><label for=\"sk-estimator-id-56\" class=\"sk-toggleable__label fitted sk-toggleable__label-arrow\"><div><div>OneHotEncoder</div></div><div><a class=\"sk-estimator-doc-link fitted\" rel=\"noreferrer\" target=\"_blank\" href=\"https://scikit-learn.org/1.7/modules/generated/sklearn.preprocessing.OneHotEncoder.html\">?<span>Documentation for OneHotEncoder</span></a></div></label><div class=\"sk-toggleable__content fitted\" data-param-prefix=\"preprocessor__cat__onehot__\">\n",
       "        <div class=\"estimator-table\">\n",
       "            <details>\n",
       "                <summary>Parameters</summary>\n",
       "                <table class=\"parameters-table\">\n",
       "                  <tbody>\n",
       "                    \n",
       "        <tr class=\"default\">\n",
       "            <td><i class=\"copy-paste-icon\"\n",
       "                 onclick=\"copyToClipboard('categories',\n",
       "                          this.parentElement.nextElementSibling)\"\n",
       "            ></i></td>\n",
       "            <td class=\"param\">categories&nbsp;</td>\n",
       "            <td class=\"value\">&#x27;auto&#x27;</td>\n",
       "        </tr>\n",
       "    \n",
       "\n",
       "        <tr class=\"user-set\">\n",
       "            <td><i class=\"copy-paste-icon\"\n",
       "                 onclick=\"copyToClipboard('drop',\n",
       "                          this.parentElement.nextElementSibling)\"\n",
       "            ></i></td>\n",
       "            <td class=\"param\">drop&nbsp;</td>\n",
       "            <td class=\"value\">&#x27;first&#x27;</td>\n",
       "        </tr>\n",
       "    \n",
       "\n",
       "        <tr class=\"user-set\">\n",
       "            <td><i class=\"copy-paste-icon\"\n",
       "                 onclick=\"copyToClipboard('sparse_output',\n",
       "                          this.parentElement.nextElementSibling)\"\n",
       "            ></i></td>\n",
       "            <td class=\"param\">sparse_output&nbsp;</td>\n",
       "            <td class=\"value\">False</td>\n",
       "        </tr>\n",
       "    \n",
       "\n",
       "        <tr class=\"default\">\n",
       "            <td><i class=\"copy-paste-icon\"\n",
       "                 onclick=\"copyToClipboard('dtype',\n",
       "                          this.parentElement.nextElementSibling)\"\n",
       "            ></i></td>\n",
       "            <td class=\"param\">dtype&nbsp;</td>\n",
       "            <td class=\"value\">&lt;class &#x27;numpy.float64&#x27;&gt;</td>\n",
       "        </tr>\n",
       "    \n",
       "\n",
       "        <tr class=\"user-set\">\n",
       "            <td><i class=\"copy-paste-icon\"\n",
       "                 onclick=\"copyToClipboard('handle_unknown',\n",
       "                          this.parentElement.nextElementSibling)\"\n",
       "            ></i></td>\n",
       "            <td class=\"param\">handle_unknown&nbsp;</td>\n",
       "            <td class=\"value\">&#x27;ignore&#x27;</td>\n",
       "        </tr>\n",
       "    \n",
       "\n",
       "        <tr class=\"default\">\n",
       "            <td><i class=\"copy-paste-icon\"\n",
       "                 onclick=\"copyToClipboard('min_frequency',\n",
       "                          this.parentElement.nextElementSibling)\"\n",
       "            ></i></td>\n",
       "            <td class=\"param\">min_frequency&nbsp;</td>\n",
       "            <td class=\"value\">None</td>\n",
       "        </tr>\n",
       "    \n",
       "\n",
       "        <tr class=\"default\">\n",
       "            <td><i class=\"copy-paste-icon\"\n",
       "                 onclick=\"copyToClipboard('max_categories',\n",
       "                          this.parentElement.nextElementSibling)\"\n",
       "            ></i></td>\n",
       "            <td class=\"param\">max_categories&nbsp;</td>\n",
       "            <td class=\"value\">None</td>\n",
       "        </tr>\n",
       "    \n",
       "\n",
       "        <tr class=\"default\">\n",
       "            <td><i class=\"copy-paste-icon\"\n",
       "                 onclick=\"copyToClipboard('feature_name_combiner',\n",
       "                          this.parentElement.nextElementSibling)\"\n",
       "            ></i></td>\n",
       "            <td class=\"param\">feature_name_combiner&nbsp;</td>\n",
       "            <td class=\"value\">&#x27;concat&#x27;</td>\n",
       "        </tr>\n",
       "    \n",
       "                  </tbody>\n",
       "                </table>\n",
       "            </details>\n",
       "        </div>\n",
       "    </div></div></div></div></div></div></div></div><div class=\"sk-parallel-item\"><div class=\"sk-item\"><div class=\"sk-label-container\"><div class=\"sk-label fitted sk-toggleable\"><input class=\"sk-toggleable__control sk-hidden--visually\" id=\"sk-estimator-id-57\" type=\"checkbox\" ><label for=\"sk-estimator-id-57\" class=\"sk-toggleable__label fitted sk-toggleable__label-arrow\"><div><div>cat2</div></div></label><div class=\"sk-toggleable__content fitted\" data-param-prefix=\"preprocessor__cat2__\"><pre>[&#x27;CIUDAD&#x27;, &#x27;ESTADO_ACTUAL&#x27;]</pre></div></div></div><div class=\"sk-serial\"><div class=\"sk-item\"><div class=\"sk-serial\"><div class=\"sk-item\"><div class=\"sk-estimator fitted sk-toggleable\"><input class=\"sk-toggleable__control sk-hidden--visually\" id=\"sk-estimator-id-58\" type=\"checkbox\" ><label for=\"sk-estimator-id-58\" class=\"sk-toggleable__label fitted sk-toggleable__label-arrow\"><div><div>SimpleImputer</div></div><div><a class=\"sk-estimator-doc-link fitted\" rel=\"noreferrer\" target=\"_blank\" href=\"https://scikit-learn.org/1.7/modules/generated/sklearn.impute.SimpleImputer.html\">?<span>Documentation for SimpleImputer</span></a></div></label><div class=\"sk-toggleable__content fitted\" data-param-prefix=\"preprocessor__cat2__imputer__\">\n",
       "        <div class=\"estimator-table\">\n",
       "            <details>\n",
       "                <summary>Parameters</summary>\n",
       "                <table class=\"parameters-table\">\n",
       "                  <tbody>\n",
       "                    \n",
       "        <tr class=\"default\">\n",
       "            <td><i class=\"copy-paste-icon\"\n",
       "                 onclick=\"copyToClipboard('missing_values',\n",
       "                          this.parentElement.nextElementSibling)\"\n",
       "            ></i></td>\n",
       "            <td class=\"param\">missing_values&nbsp;</td>\n",
       "            <td class=\"value\">nan</td>\n",
       "        </tr>\n",
       "    \n",
       "\n",
       "        <tr class=\"user-set\">\n",
       "            <td><i class=\"copy-paste-icon\"\n",
       "                 onclick=\"copyToClipboard('strategy',\n",
       "                          this.parentElement.nextElementSibling)\"\n",
       "            ></i></td>\n",
       "            <td class=\"param\">strategy&nbsp;</td>\n",
       "            <td class=\"value\">&#x27;constant&#x27;</td>\n",
       "        </tr>\n",
       "    \n",
       "\n",
       "        <tr class=\"user-set\">\n",
       "            <td><i class=\"copy-paste-icon\"\n",
       "                 onclick=\"copyToClipboard('fill_value',\n",
       "                          this.parentElement.nextElementSibling)\"\n",
       "            ></i></td>\n",
       "            <td class=\"param\">fill_value&nbsp;</td>\n",
       "            <td class=\"value\">&#x27;Other&#x27;</td>\n",
       "        </tr>\n",
       "    \n",
       "\n",
       "        <tr class=\"default\">\n",
       "            <td><i class=\"copy-paste-icon\"\n",
       "                 onclick=\"copyToClipboard('copy',\n",
       "                          this.parentElement.nextElementSibling)\"\n",
       "            ></i></td>\n",
       "            <td class=\"param\">copy&nbsp;</td>\n",
       "            <td class=\"value\">True</td>\n",
       "        </tr>\n",
       "    \n",
       "\n",
       "        <tr class=\"default\">\n",
       "            <td><i class=\"copy-paste-icon\"\n",
       "                 onclick=\"copyToClipboard('add_indicator',\n",
       "                          this.parentElement.nextElementSibling)\"\n",
       "            ></i></td>\n",
       "            <td class=\"param\">add_indicator&nbsp;</td>\n",
       "            <td class=\"value\">False</td>\n",
       "        </tr>\n",
       "    \n",
       "\n",
       "        <tr class=\"default\">\n",
       "            <td><i class=\"copy-paste-icon\"\n",
       "                 onclick=\"copyToClipboard('keep_empty_features',\n",
       "                          this.parentElement.nextElementSibling)\"\n",
       "            ></i></td>\n",
       "            <td class=\"param\">keep_empty_features&nbsp;</td>\n",
       "            <td class=\"value\">False</td>\n",
       "        </tr>\n",
       "    \n",
       "                  </tbody>\n",
       "                </table>\n",
       "            </details>\n",
       "        </div>\n",
       "    </div></div></div><div class=\"sk-item\"><div class=\"sk-estimator fitted sk-toggleable\"><input class=\"sk-toggleable__control sk-hidden--visually\" id=\"sk-estimator-id-59\" type=\"checkbox\" ><label for=\"sk-estimator-id-59\" class=\"sk-toggleable__label fitted sk-toggleable__label-arrow\"><div><div>OrdinalEncoder</div></div><div><a class=\"sk-estimator-doc-link fitted\" rel=\"noreferrer\" target=\"_blank\" href=\"https://scikit-learn.org/1.7/modules/generated/sklearn.preprocessing.OrdinalEncoder.html\">?<span>Documentation for OrdinalEncoder</span></a></div></label><div class=\"sk-toggleable__content fitted\" data-param-prefix=\"preprocessor__cat2__ordinal__\">\n",
       "        <div class=\"estimator-table\">\n",
       "            <details>\n",
       "                <summary>Parameters</summary>\n",
       "                <table class=\"parameters-table\">\n",
       "                  <tbody>\n",
       "                    \n",
       "        <tr class=\"default\">\n",
       "            <td><i class=\"copy-paste-icon\"\n",
       "                 onclick=\"copyToClipboard('categories',\n",
       "                          this.parentElement.nextElementSibling)\"\n",
       "            ></i></td>\n",
       "            <td class=\"param\">categories&nbsp;</td>\n",
       "            <td class=\"value\">&#x27;auto&#x27;</td>\n",
       "        </tr>\n",
       "    \n",
       "\n",
       "        <tr class=\"default\">\n",
       "            <td><i class=\"copy-paste-icon\"\n",
       "                 onclick=\"copyToClipboard('dtype',\n",
       "                          this.parentElement.nextElementSibling)\"\n",
       "            ></i></td>\n",
       "            <td class=\"param\">dtype&nbsp;</td>\n",
       "            <td class=\"value\">&lt;class &#x27;numpy.float64&#x27;&gt;</td>\n",
       "        </tr>\n",
       "    \n",
       "\n",
       "        <tr class=\"user-set\">\n",
       "            <td><i class=\"copy-paste-icon\"\n",
       "                 onclick=\"copyToClipboard('handle_unknown',\n",
       "                          this.parentElement.nextElementSibling)\"\n",
       "            ></i></td>\n",
       "            <td class=\"param\">handle_unknown&nbsp;</td>\n",
       "            <td class=\"value\">&#x27;use_encoded_value&#x27;</td>\n",
       "        </tr>\n",
       "    \n",
       "\n",
       "        <tr class=\"user-set\">\n",
       "            <td><i class=\"copy-paste-icon\"\n",
       "                 onclick=\"copyToClipboard('unknown_value',\n",
       "                          this.parentElement.nextElementSibling)\"\n",
       "            ></i></td>\n",
       "            <td class=\"param\">unknown_value&nbsp;</td>\n",
       "            <td class=\"value\">-1</td>\n",
       "        </tr>\n",
       "    \n",
       "\n",
       "        <tr class=\"default\">\n",
       "            <td><i class=\"copy-paste-icon\"\n",
       "                 onclick=\"copyToClipboard('encoded_missing_value',\n",
       "                          this.parentElement.nextElementSibling)\"\n",
       "            ></i></td>\n",
       "            <td class=\"param\">encoded_missing_value&nbsp;</td>\n",
       "            <td class=\"value\">nan</td>\n",
       "        </tr>\n",
       "    \n",
       "\n",
       "        <tr class=\"default\">\n",
       "            <td><i class=\"copy-paste-icon\"\n",
       "                 onclick=\"copyToClipboard('min_frequency',\n",
       "                          this.parentElement.nextElementSibling)\"\n",
       "            ></i></td>\n",
       "            <td class=\"param\">min_frequency&nbsp;</td>\n",
       "            <td class=\"value\">None</td>\n",
       "        </tr>\n",
       "    \n",
       "\n",
       "        <tr class=\"default\">\n",
       "            <td><i class=\"copy-paste-icon\"\n",
       "                 onclick=\"copyToClipboard('max_categories',\n",
       "                          this.parentElement.nextElementSibling)\"\n",
       "            ></i></td>\n",
       "            <td class=\"param\">max_categories&nbsp;</td>\n",
       "            <td class=\"value\">None</td>\n",
       "        </tr>\n",
       "    \n",
       "                  </tbody>\n",
       "                </table>\n",
       "            </details>\n",
       "        </div>\n",
       "    </div></div></div></div></div></div></div></div></div></div><div class=\"sk-item\"><div class=\"sk-estimator fitted sk-toggleable\"><input class=\"sk-toggleable__control sk-hidden--visually\" id=\"sk-estimator-id-60\" type=\"checkbox\" ><label for=\"sk-estimator-id-60\" class=\"sk-toggleable__label fitted sk-toggleable__label-arrow\"><div><div>LogisticRegression</div></div><div><a class=\"sk-estimator-doc-link fitted\" rel=\"noreferrer\" target=\"_blank\" href=\"https://scikit-learn.org/1.7/modules/generated/sklearn.linear_model.LogisticRegression.html\">?<span>Documentation for LogisticRegression</span></a></div></label><div class=\"sk-toggleable__content fitted\" data-param-prefix=\"classifier__\">\n",
       "        <div class=\"estimator-table\">\n",
       "            <details>\n",
       "                <summary>Parameters</summary>\n",
       "                <table class=\"parameters-table\">\n",
       "                  <tbody>\n",
       "                    \n",
       "        <tr class=\"default\">\n",
       "            <td><i class=\"copy-paste-icon\"\n",
       "                 onclick=\"copyToClipboard('penalty',\n",
       "                          this.parentElement.nextElementSibling)\"\n",
       "            ></i></td>\n",
       "            <td class=\"param\">penalty&nbsp;</td>\n",
       "            <td class=\"value\">&#x27;l2&#x27;</td>\n",
       "        </tr>\n",
       "    \n",
       "\n",
       "        <tr class=\"default\">\n",
       "            <td><i class=\"copy-paste-icon\"\n",
       "                 onclick=\"copyToClipboard('dual',\n",
       "                          this.parentElement.nextElementSibling)\"\n",
       "            ></i></td>\n",
       "            <td class=\"param\">dual&nbsp;</td>\n",
       "            <td class=\"value\">False</td>\n",
       "        </tr>\n",
       "    \n",
       "\n",
       "        <tr class=\"default\">\n",
       "            <td><i class=\"copy-paste-icon\"\n",
       "                 onclick=\"copyToClipboard('tol',\n",
       "                          this.parentElement.nextElementSibling)\"\n",
       "            ></i></td>\n",
       "            <td class=\"param\">tol&nbsp;</td>\n",
       "            <td class=\"value\">0.0001</td>\n",
       "        </tr>\n",
       "    \n",
       "\n",
       "        <tr class=\"default\">\n",
       "            <td><i class=\"copy-paste-icon\"\n",
       "                 onclick=\"copyToClipboard('C',\n",
       "                          this.parentElement.nextElementSibling)\"\n",
       "            ></i></td>\n",
       "            <td class=\"param\">C&nbsp;</td>\n",
       "            <td class=\"value\">1.0</td>\n",
       "        </tr>\n",
       "    \n",
       "\n",
       "        <tr class=\"default\">\n",
       "            <td><i class=\"copy-paste-icon\"\n",
       "                 onclick=\"copyToClipboard('fit_intercept',\n",
       "                          this.parentElement.nextElementSibling)\"\n",
       "            ></i></td>\n",
       "            <td class=\"param\">fit_intercept&nbsp;</td>\n",
       "            <td class=\"value\">True</td>\n",
       "        </tr>\n",
       "    \n",
       "\n",
       "        <tr class=\"default\">\n",
       "            <td><i class=\"copy-paste-icon\"\n",
       "                 onclick=\"copyToClipboard('intercept_scaling',\n",
       "                          this.parentElement.nextElementSibling)\"\n",
       "            ></i></td>\n",
       "            <td class=\"param\">intercept_scaling&nbsp;</td>\n",
       "            <td class=\"value\">1</td>\n",
       "        </tr>\n",
       "    \n",
       "\n",
       "        <tr class=\"default\">\n",
       "            <td><i class=\"copy-paste-icon\"\n",
       "                 onclick=\"copyToClipboard('class_weight',\n",
       "                          this.parentElement.nextElementSibling)\"\n",
       "            ></i></td>\n",
       "            <td class=\"param\">class_weight&nbsp;</td>\n",
       "            <td class=\"value\">None</td>\n",
       "        </tr>\n",
       "    \n",
       "\n",
       "        <tr class=\"user-set\">\n",
       "            <td><i class=\"copy-paste-icon\"\n",
       "                 onclick=\"copyToClipboard('random_state',\n",
       "                          this.parentElement.nextElementSibling)\"\n",
       "            ></i></td>\n",
       "            <td class=\"param\">random_state&nbsp;</td>\n",
       "            <td class=\"value\">42</td>\n",
       "        </tr>\n",
       "    \n",
       "\n",
       "        <tr class=\"default\">\n",
       "            <td><i class=\"copy-paste-icon\"\n",
       "                 onclick=\"copyToClipboard('solver',\n",
       "                          this.parentElement.nextElementSibling)\"\n",
       "            ></i></td>\n",
       "            <td class=\"param\">solver&nbsp;</td>\n",
       "            <td class=\"value\">&#x27;lbfgs&#x27;</td>\n",
       "        </tr>\n",
       "    \n",
       "\n",
       "        <tr class=\"user-set\">\n",
       "            <td><i class=\"copy-paste-icon\"\n",
       "                 onclick=\"copyToClipboard('max_iter',\n",
       "                          this.parentElement.nextElementSibling)\"\n",
       "            ></i></td>\n",
       "            <td class=\"param\">max_iter&nbsp;</td>\n",
       "            <td class=\"value\">1000</td>\n",
       "        </tr>\n",
       "    \n",
       "\n",
       "        <tr class=\"default\">\n",
       "            <td><i class=\"copy-paste-icon\"\n",
       "                 onclick=\"copyToClipboard('multi_class',\n",
       "                          this.parentElement.nextElementSibling)\"\n",
       "            ></i></td>\n",
       "            <td class=\"param\">multi_class&nbsp;</td>\n",
       "            <td class=\"value\">&#x27;deprecated&#x27;</td>\n",
       "        </tr>\n",
       "    \n",
       "\n",
       "        <tr class=\"default\">\n",
       "            <td><i class=\"copy-paste-icon\"\n",
       "                 onclick=\"copyToClipboard('verbose',\n",
       "                          this.parentElement.nextElementSibling)\"\n",
       "            ></i></td>\n",
       "            <td class=\"param\">verbose&nbsp;</td>\n",
       "            <td class=\"value\">0</td>\n",
       "        </tr>\n",
       "    \n",
       "\n",
       "        <tr class=\"default\">\n",
       "            <td><i class=\"copy-paste-icon\"\n",
       "                 onclick=\"copyToClipboard('warm_start',\n",
       "                          this.parentElement.nextElementSibling)\"\n",
       "            ></i></td>\n",
       "            <td class=\"param\">warm_start&nbsp;</td>\n",
       "            <td class=\"value\">False</td>\n",
       "        </tr>\n",
       "    \n",
       "\n",
       "        <tr class=\"default\">\n",
       "            <td><i class=\"copy-paste-icon\"\n",
       "                 onclick=\"copyToClipboard('n_jobs',\n",
       "                          this.parentElement.nextElementSibling)\"\n",
       "            ></i></td>\n",
       "            <td class=\"param\">n_jobs&nbsp;</td>\n",
       "            <td class=\"value\">None</td>\n",
       "        </tr>\n",
       "    \n",
       "\n",
       "        <tr class=\"default\">\n",
       "            <td><i class=\"copy-paste-icon\"\n",
       "                 onclick=\"copyToClipboard('l1_ratio',\n",
       "                          this.parentElement.nextElementSibling)\"\n",
       "            ></i></td>\n",
       "            <td class=\"param\">l1_ratio&nbsp;</td>\n",
       "            <td class=\"value\">None</td>\n",
       "        </tr>\n",
       "    \n",
       "                  </tbody>\n",
       "                </table>\n",
       "            </details>\n",
       "        </div>\n",
       "    </div></div></div></div></div></div></div><script>function copyToClipboard(text, element) {\n",
       "    // Get the parameter prefix from the closest toggleable content\n",
       "    const toggleableContent = element.closest('.sk-toggleable__content');\n",
       "    const paramPrefix = toggleableContent ? toggleableContent.dataset.paramPrefix : '';\n",
       "    const fullParamName = paramPrefix ? `${paramPrefix}${text}` : text;\n",
       "\n",
       "    const originalStyle = element.style;\n",
       "    const computedStyle = window.getComputedStyle(element);\n",
       "    const originalWidth = computedStyle.width;\n",
       "    const originalHTML = element.innerHTML.replace('Copied!', '');\n",
       "\n",
       "    navigator.clipboard.writeText(fullParamName)\n",
       "        .then(() => {\n",
       "            element.style.width = originalWidth;\n",
       "            element.style.color = 'green';\n",
       "            element.innerHTML = \"Copied!\";\n",
       "\n",
       "            setTimeout(() => {\n",
       "                element.innerHTML = originalHTML;\n",
       "                element.style = originalStyle;\n",
       "            }, 2000);\n",
       "        })\n",
       "        .catch(err => {\n",
       "            console.error('Failed to copy:', err);\n",
       "            element.style.color = 'red';\n",
       "            element.innerHTML = \"Failed!\";\n",
       "            setTimeout(() => {\n",
       "                element.innerHTML = originalHTML;\n",
       "                element.style = originalStyle;\n",
       "            }, 2000);\n",
       "        });\n",
       "    return false;\n",
       "}\n",
       "\n",
       "document.querySelectorAll('.fa-regular.fa-copy').forEach(function(element) {\n",
       "    const toggleableContent = element.closest('.sk-toggleable__content');\n",
       "    const paramPrefix = toggleableContent ? toggleableContent.dataset.paramPrefix : '';\n",
       "    const paramName = element.parentElement.nextElementSibling.textContent.trim();\n",
       "    const fullParamName = paramPrefix ? `${paramPrefix}${paramName}` : paramName;\n",
       "\n",
       "    element.setAttribute('title', fullParamName);\n",
       "});\n",
       "</script></body>"
      ],
      "text/plain": [
       "Pipeline(steps=[('preprocessor',\n",
       "                 ColumnTransformer(transformers=[('num',\n",
       "                                                  Pipeline(steps=[('imputer',\n",
       "                                                                   SimpleImputer(strategy='median')),\n",
       "                                                                  ('scaler',\n",
       "                                                                   StandardScaler())]),\n",
       "                                                  ['ES_CIUDAD_PRINCIPAL',\n",
       "                                                   'PRETENSION_PRINCIPAL',\n",
       "                                                   'ESTADO_ACTUAL_PRINCIPAL',\n",
       "                                                   'ES_JUBILADO']),\n",
       "                                                 ('cat',\n",
       "                                                  Pipeline(steps=[('imputer',\n",
       "                                                                   SimpleImputer(fill_value='other',\n",
       "                                                                                 strategy='constant')),\n",
       "                                                                  ('onehot',\n",
       "                                                                   O...\n",
       "                                                                                 sparse_output=False))]),\n",
       "                                                  ['TIPO_DE_PROCESO', 'REGION',\n",
       "                                                   'RED', 'TIPO_RELACION',\n",
       "                                                   'PRETENSIÓN', 'CLASE']),\n",
       "                                                 ('cat2',\n",
       "                                                  Pipeline(steps=[('imputer',\n",
       "                                                                   SimpleImputer(fill_value='Other',\n",
       "                                                                                 strategy='constant')),\n",
       "                                                                  ('ordinal',\n",
       "                                                                   OrdinalEncoder(handle_unknown='use_encoded_value',\n",
       "                                                                                  unknown_value=-1))]),\n",
       "                                                  ['CIUDAD',\n",
       "                                                   'ESTADO_ACTUAL'])])),\n",
       "                ('classifier',\n",
       "                 LogisticRegression(max_iter=1000, random_state=42))])"
      ]
     },
     "execution_count": 11892,
     "metadata": {},
     "output_type": "execute_result"
    }
   ],
   "source": [
    "# Fit the pipeline\n",
    "pipeline_train_cont.fit(X_train, y_train)"
   ]
  },
  {
   "cell_type": "markdown",
   "id": "e7c5800f",
   "metadata": {},
   "source": [
    "Realizamos las respectivas predcciones:"
   ]
  },
  {
   "cell_type": "code",
   "execution_count": 11893,
   "id": "93fc4d74",
   "metadata": {},
   "outputs": [],
   "source": [
    "\n",
    "# Make predictions\n",
    "y_pred = pipeline_train_cont.predict(X_test)\n",
    "y_pred_proba = pipeline_train_cont.predict_proba(X_test)[:, 1]"
   ]
  },
  {
   "cell_type": "markdown",
   "id": "5daf8dcb",
   "metadata": {},
   "source": [
    "Estas son las metricas"
   ]
  },
  {
   "cell_type": "code",
   "execution_count": 11894,
   "id": "2449e02d",
   "metadata": {},
   "outputs": [
    {
     "name": "stdout",
     "output_type": "stream",
     "text": [
      "ROC-AUC Score (weighted): 0.9559233205066539\n",
      "\n",
      "Classification Report:\n",
      "              precision    recall  f1-score   support\n",
      "\n",
      "       exito       0.86      0.87      0.87       108\n",
      "     fracaso       0.74      0.72      0.73        54\n",
      "       otros       1.00      1.00      1.00        90\n",
      "\n",
      "    accuracy                           0.88       252\n",
      "   macro avg       0.87      0.86      0.87       252\n",
      "weighted avg       0.88      0.88      0.88       252\n",
      "\n"
     ]
    }
   ],
   "source": [
    "from sklearn.metrics import classification_report, roc_auc_score\n",
    "\n",
    "# Probabilidades de todas las clases\n",
    "y_pred_proba = pipeline_train_cont.predict_proba(X_test)\n",
    "\n",
    "# ROC AUC para multiclase\n",
    "roc_auc = roc_auc_score(y_test, y_pred_proba, multi_class=\"ovr\", average=\"weighted\")\n",
    "print(\"ROC-AUC Score (weighted):\", roc_auc)\n",
    "\n",
    "# Reporte de clasificación\n",
    "y_pred = pipeline_train_cont.predict(X_test)\n",
    "print(\"\\nClassification Report:\")\n",
    "print(classification_report(y_test, y_pred))"
   ]
  }
 ],
 "metadata": {
  "kernelspec": {
   "display_name": "Python 3",
   "language": "python",
   "name": "python3"
  },
  "language_info": {
   "codemirror_mode": {
    "name": "ipython",
    "version": 3
   },
   "file_extension": ".py",
   "mimetype": "text/x-python",
   "name": "python",
   "nbconvert_exporter": "python",
   "pygments_lexer": "ipython3",
   "version": "3.13.5"
  }
 },
 "nbformat": 4,
 "nbformat_minor": 5
}
